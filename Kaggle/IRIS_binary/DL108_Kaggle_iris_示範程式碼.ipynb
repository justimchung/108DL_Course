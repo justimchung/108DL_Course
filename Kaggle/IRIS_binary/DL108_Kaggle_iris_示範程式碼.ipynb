{
  "nbformat": 4,
  "nbformat_minor": 0,
  "metadata": {
    "colab": {
      "name": "DL108.Kaggle_iris01.ipynb",
      "provenance": []
    },
    "kernelspec": {
      "name": "python3",
      "display_name": "Python 3"
    }
  },
  "cells": [
    {
      "cell_type": "markdown",
      "metadata": {},
      "source": [
        "# 示範如何上建立 model，並上傳預測結果到 Kaggle 競賽中\n",
        "\n",
        "競賽網址，請點擊[這兒](https://www.kaggle.com/t/17393a330d704a56a67171928b4be4c9)"
      ]
    },
    {
      "cell_type": "code",
      "metadata": {
        "id": "qapFPTsTBdnB",
        "colab_type": "code",
        "outputId": "e47ffbec-4c3e-4006-e196-6809da65dacf",
        "colab": {
          "base_uri": "https://localhost:8080/",
          "height": 71
        }
      },
      "source": [
        "import pandas as pd\n",
        "import seaborn as sns\n",
        "import matplotlib.pyplot as plt\n",
        "import numpy as np"
      ],
      "execution_count": 10,
      "outputs": []
    },
    {
      "cell_type": "markdown",
      "metadata": {},
      "source": [
        "## 載入資料集\n",
        "\n",
        "iris_train.csv 是訓練用資料集.  \n",
        "iris_test.csv 是測試用資料集。  "
      ]
    },
    {
      "cell_type": "code",
      "metadata": {
        "id": "_mLIfm_DCAvB",
        "colab_type": "code",
        "outputId": "69bf0896-0b4b-4986-d1f7-27bb5fe68cc5",
        "colab": {
          "base_uri": "https://localhost:8080/",
          "height": 203
        }
      },
      "source": [
        "df_train = pd.read_csv('iris_train.csv')\n",
        "df_test = pd.read_csv('iris_test.csv')\n",
        "df_train.head()"
      ],
      "execution_count": 11,
      "outputs": [
        {
          "output_type": "execute_result",
          "data": {
            "text/plain": "    id  SepalLengthCm  SepalWidthCm  PetalLengthCm  PetalWidthCm  Species\n0   69            5.6           2.5            3.9           1.1        0\n1  135            7.7           3.0            6.1           2.3        0\n2   56            6.3           3.3            4.7           1.6        0\n3   80            5.5           2.4            3.8           1.1        0\n4  123            6.3           2.7            4.9           1.8        0",
            "text/html": "<div>\n<style scoped>\n    .dataframe tbody tr th:only-of-type {\n        vertical-align: middle;\n    }\n\n    .dataframe tbody tr th {\n        vertical-align: top;\n    }\n\n    .dataframe thead th {\n        text-align: right;\n    }\n</style>\n<table border=\"1\" class=\"dataframe\">\n  <thead>\n    <tr style=\"text-align: right;\">\n      <th></th>\n      <th>id</th>\n      <th>SepalLengthCm</th>\n      <th>SepalWidthCm</th>\n      <th>PetalLengthCm</th>\n      <th>PetalWidthCm</th>\n      <th>Species</th>\n    </tr>\n  </thead>\n  <tbody>\n    <tr>\n      <th>0</th>\n      <td>69</td>\n      <td>5.6</td>\n      <td>2.5</td>\n      <td>3.9</td>\n      <td>1.1</td>\n      <td>0</td>\n    </tr>\n    <tr>\n      <th>1</th>\n      <td>135</td>\n      <td>7.7</td>\n      <td>3.0</td>\n      <td>6.1</td>\n      <td>2.3</td>\n      <td>0</td>\n    </tr>\n    <tr>\n      <th>2</th>\n      <td>56</td>\n      <td>6.3</td>\n      <td>3.3</td>\n      <td>4.7</td>\n      <td>1.6</td>\n      <td>0</td>\n    </tr>\n    <tr>\n      <th>3</th>\n      <td>80</td>\n      <td>5.5</td>\n      <td>2.4</td>\n      <td>3.8</td>\n      <td>1.1</td>\n      <td>0</td>\n    </tr>\n    <tr>\n      <th>4</th>\n      <td>123</td>\n      <td>6.3</td>\n      <td>2.7</td>\n      <td>4.9</td>\n      <td>1.8</td>\n      <td>0</td>\n    </tr>\n  </tbody>\n</table>\n</div>"
          },
          "metadata": {},
          "execution_count": 11
        }
      ]
    },
    {
      "cell_type": "code",
      "metadata": {
        "id": "fg83FKbqDIZ8",
        "colab_type": "code",
        "outputId": "6adff059-b2eb-41d0-87e6-f4b3368379f8",
        "colab": {
          "base_uri": "https://localhost:8080/",
          "height": 68
        }
      },
      "source": [
        "df_train.columns"
      ],
      "execution_count": 12,
      "outputs": [
        {
          "output_type": "execute_result",
          "data": {
            "text/plain": "Index(['id', 'SepalLengthCm', 'SepalWidthCm', 'PetalLengthCm', 'PetalWidthCm',\n       'Species'],\n      dtype='object')"
          },
          "metadata": {},
          "execution_count": 12
        }
      ]
    },
    {
      "cell_type": "markdown",
      "metadata": {},
      "source": [
        "在這個例子中，我們只用 ``PetalLengthCm`` 還有 ``PetalWidthCm`` 這兩個欄位做訓練。"
      ]
    },
    {
      "cell_type": "code",
      "metadata": {
        "id": "hdLZwsEdC2zu",
        "colab_type": "code",
        "colab": {}
      },
      "source": [
        "y1 = df_train.Species\n",
        "x1 = df_train[['PetalLengthCm', 'PetalWidthCm']]\n",
        "x2 = df_test[['PetalLengthCm', 'PetalWidthCm']]"
      ],
      "execution_count": 13,
      "outputs": []
    },
    {
      "cell_type": "markdown",
      "metadata": {},
      "source": [
        "## 建立模型\n",
        "\n",
        "我們使用 LogisticRegression 做為分類模型。  \n",
        "你也可以使用 kNN、感知機，或者是其他的分類器做模型。  "
      ]
    },
    {
      "cell_type": "code",
      "metadata": {
        "id": "ANFwKBdQD1xt",
        "colab_type": "code",
        "outputId": "e671a746-4a6c-4737-efdc-36f7c644a14e",
        "colab": {
          "base_uri": "https://localhost:8080/",
          "height": 103
        }
      },
      "source": [
        "from sklearn.linear_model import LogisticRegression\n",
        "lr = LogisticRegression()\n",
        "lr.fit(x1, y1)"
      ],
      "execution_count": 14,
      "outputs": [
        {
          "output_type": "execute_result",
          "data": {
            "text/plain": "LogisticRegression(C=1.0, class_weight=None, dual=False, fit_intercept=True,\n                   intercept_scaling=1, l1_ratio=None, max_iter=100,\n                   multi_class='auto', n_jobs=None, penalty='l2',\n                   random_state=None, solver='lbfgs', tol=0.0001, verbose=0,\n                   warm_start=False)"
          },
          "metadata": {},
          "execution_count": 14
        }
      ]
    },
    {
      "cell_type": "markdown",
      "metadata": {},
      "source": [
        "底下程式碼中， y2 代表的是測試集中，模型預測出來的結果。"
      ]
    },
    {
      "cell_type": "code",
      "metadata": {
        "id": "KRt-G8VqEHml",
        "colab_type": "code",
        "outputId": "a43ea61e-3443-48d2-d211-bda0caf6b831",
        "colab": {
          "base_uri": "https://localhost:8080/",
          "height": 68
        }
      },
      "source": [
        "y2 = lr.predict(x2)\n",
        "y2"
      ],
      "execution_count": 15,
      "outputs": [
        {
          "output_type": "execute_result",
          "data": {
            "text/plain": "array([0, 0, 1, 0, 1, 0, 1, 0, 0, 0, 0, 0, 0, 0, 0, 1, 0, 0, 1, 1, 0, 0,\n       1, 1, 0, 1, 1, 0, 0, 1, 0, 0, 1, 0, 0, 0, 1, 0, 0, 0, 0, 1, 0, 1,\n       1, 0, 0, 0, 0, 0], dtype=int64)"
          },
          "metadata": {},
          "execution_count": 15
        }
      ]
    },
    {
      "cell_type": "markdown",
      "metadata": {},
      "source": [
        "## 建立上傳到 Kaggle 的檔案\n",
        "\n",
        "底下的程式碼會建立出一個 DataFrame，其名為 submission。\n",
        "\n",
        "它有兩個欄位:\n",
        "\n",
        "- id: 直接由 df_test 中把 id 這個欄位取出來。\n",
        "- Species: 這個欄位就是 y2 的內容。"
      ]
    },
    {
      "cell_type": "code",
      "metadata": {
        "id": "1uwHMj2PEi8t",
        "colab_type": "code",
        "outputId": "b52b8e0e-7042-4c0a-f485-cc074d85a736",
        "colab": {
          "base_uri": "https://localhost:8080/",
          "height": 203
        }
      },
      "source": [
        "#Create a DataFrame with the ids and our prediction regarding whether a flower is Iris-setosa or not\n",
        "submission = pd.DataFrame({'id':df_test['id'],'Species':y2})\n",
        "\n",
        "#Visualize the first 5 rows\n",
        "submission.head()"
      ],
      "execution_count": 16,
      "outputs": [
        {
          "output_type": "execute_result",
          "data": {
            "text/plain": "    id  Species\n0  114        0\n1   62        0\n2   33        1\n3  107        0\n4    7        1",
            "text/html": "<div>\n<style scoped>\n    .dataframe tbody tr th:only-of-type {\n        vertical-align: middle;\n    }\n\n    .dataframe tbody tr th {\n        vertical-align: top;\n    }\n\n    .dataframe thead th {\n        text-align: right;\n    }\n</style>\n<table border=\"1\" class=\"dataframe\">\n  <thead>\n    <tr style=\"text-align: right;\">\n      <th></th>\n      <th>id</th>\n      <th>Species</th>\n    </tr>\n  </thead>\n  <tbody>\n    <tr>\n      <th>0</th>\n      <td>114</td>\n      <td>0</td>\n    </tr>\n    <tr>\n      <th>1</th>\n      <td>62</td>\n      <td>0</td>\n    </tr>\n    <tr>\n      <th>2</th>\n      <td>33</td>\n      <td>1</td>\n    </tr>\n    <tr>\n      <th>3</th>\n      <td>107</td>\n      <td>0</td>\n    </tr>\n    <tr>\n      <th>4</th>\n      <td>7</td>\n      <td>1</td>\n    </tr>\n  </tbody>\n</table>\n</div>"
          },
          "metadata": {},
          "execution_count": 16
        }
      ]
    },
    {
      "cell_type": "markdown",
      "metadata": {},
      "source": [
        "最後呼叫 pandas 把 dataframe 輸出成 csv 檔。\n",
        "\n",
        "index=False 的意思是說，不要把最左邊那一欄的索引欄給存下來。  \n",
        "同學可以試試看把這個屬性設為True，看會多出什麼資料。"
      ]
    },
    {
      "cell_type": "code",
      "metadata": {
        "id": "E1x5XBfSEyDR",
        "colab_type": "code",
        "colab": {}
      },
      "source": [
        "submission.to_csv('kaggle1.csv', index=False)"
      ],
      "execution_count": 17,
      "outputs": []
    }
  ]
}