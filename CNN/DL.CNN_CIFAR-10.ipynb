{
 "cells": [
  {
   "cell_type": "markdown",
   "metadata": {},
   "source": [
    "# CIFAR Images classification using CNN\n",
    "\n",
    "CIFAR-10 的全名是 ``Canadian Institute for Advanced Research``。  \n",
    "它是深度學習的大神 Geoffrey Hinton 以及 Alex Krizhevsky 和 Vinod Nair 共同創建出來的。  \n",
    "\n",
    "CIFAR-10 是個知名的資料集，其包含了 60,000 張彩色 $32\\times32$ 的圖片。  \n",
    "圖片集共分成 10 個類別，每種類別有 6,000 張照片。  \n",
    "其中 50,000 張做為訓練集，10,000 做為測試集。\n",
    "\n",
    "這 10 類的類別為 飛機、汽車、鳥、貓、鹿、狗、青蛙、馬、船、卡車。\n",
    "\n",
    "![](https://img-blog.csdn.net/20180717104127164?watermark/2/text/aHR0cHM6Ly9ibG9nLmNzZG4ubmV0L2JyeWFudF9tZW5n/font/5a6L5L2T/fontsize/400/fill/I0JBQkFCMA==/dissolve/70)\n",
    "\n",
    "The CIFAR-10 dataset The CIFAR-10 dataset consists of 60000 32x32 colour images in 10 classes, with 6000 images per class. There are 50000 training images and 10000 test images.\n",
    "\n",
    "The dataset is divided into five training batches and one test batch, each with 10000 images. The test batch contains exactly 1000 randomly-selected images from each class. The training batches contain the remaining images in random order, but some training batches may contain more images from one class than another. Between them, the training batches contain exactly 5000 images from each class.\n",
    "\n",
    "For the details of the CIFAR-10 dataset, please refer to [here](https://www.cs.toronto.edu/~kriz/cifar.html)."
   ]
  },
  {
   "cell_type": "markdown",
   "metadata": {},
   "source": [
    "## Load the dataset\n",
    "\n",
    "CIFAR-10 已經直接包含在 Keras 的資料集中了，我們可以直接載入它。\n",
    "\n",
    "We can directly load the CIFAR-10 dataset as it is included in the Keras."
   ]
  },
  {
   "cell_type": "code",
   "execution_count": 5,
   "metadata": {},
   "outputs": [],
   "source": [
    "from tensorflow.keras.datasets import cifar10\n",
    "(x_train, y_train),(x_test, y_test) = cifar10.load_data()"
   ]
  },
  {
   "cell_type": "markdown",
   "metadata": {},
   "source": [
    "## Observe the dataset"
   ]
  },
  {
   "cell_type": "code",
   "execution_count": 7,
   "metadata": {},
   "outputs": [
    {
     "name": "stdout",
     "output_type": "stream",
     "text": [
      "The shape of x_train is (50000, 32, 32, 3)\n",
      "The shape of y_train is (50000, 1)\n"
     ]
    }
   ],
   "source": [
    "print(f'The shape of x_train is {x_train.shape}')\n",
    "print(f'The shape of y_train is {y_train.shape}')"
   ]
  },
  {
   "cell_type": "markdown",
   "metadata": {},
   "source": [
    "x_train contains 50000 $32 \\times 32$ colorful images.  \n",
    "\n",
    "3 means 3 channels (i.g., R, G and B)."
   ]
  },
  {
   "cell_type": "markdown",
   "metadata": {},
   "source": [
    "## Show the images in the dataset"
   ]
  },
  {
   "cell_type": "code",
   "execution_count": 37,
   "metadata": {},
   "outputs": [
    {
     "name": "stderr",
     "output_type": "stream",
     "text": [
      "C:\\Users\\justi\\anaconda3\\envs\\MLCourse\\lib\\importlib\\_bootstrap.py:219: RuntimeWarning: numpy.ufunc size changed, may indicate binary incompatibility. Expected 192 from C header, got 216 from PyObject\n",
      "  return f(*args, **kwds)\n",
      "C:\\Users\\justi\\anaconda3\\envs\\MLCourse\\lib\\importlib\\_bootstrap.py:219: RuntimeWarning: numpy.ufunc size changed, may indicate binary incompatibility. Expected 192 from C header, got 216 from PyObject\n",
      "  return f(*args, **kwds)\n"
     ]
    }
   ],
   "source": [
    "import matplotlib.pyplot as plt\n",
    "import numpy as np\n",
    "import tensorflow as tf\n",
    "from tensorflow import keras\n",
    "import pandas as pd\n",
    "import seaborn as sns"
   ]
  },
  {
   "cell_type": "code",
   "execution_count": 20,
   "metadata": {},
   "outputs": [
    {
     "name": "stdout",
     "output_type": "stream",
     "text": [
      "[[[ 59  62  63]\n",
      "  [ 43  46  45]\n",
      "  [ 50  48  43]\n",
      "  ...\n",
      "  [158 132 108]\n",
      "  [152 125 102]\n",
      "  [148 124 103]]\n",
      "\n",
      " [[ 16  20  20]\n",
      "  [  0   0   0]\n",
      "  [ 18   8   0]\n",
      "  ...\n",
      "  [123  88  55]\n",
      "  [119  83  50]\n",
      "  [122  87  57]]\n",
      "\n",
      " [[ 25  24  21]\n",
      "  [ 16   7   0]\n",
      "  [ 49  27   8]\n",
      "  ...\n",
      "  [118  84  50]\n",
      "  [120  84  50]\n",
      "  [109  73  42]]\n",
      "\n",
      " ...\n",
      "\n",
      " [[208 170  96]\n",
      "  [201 153  34]\n",
      "  [198 161  26]\n",
      "  ...\n",
      "  [160 133  70]\n",
      "  [ 56  31   7]\n",
      "  [ 53  34  20]]\n",
      "\n",
      " [[180 139  96]\n",
      "  [173 123  42]\n",
      "  [186 144  30]\n",
      "  ...\n",
      "  [184 148  94]\n",
      "  [ 97  62  34]\n",
      "  [ 83  53  34]]\n",
      "\n",
      " [[177 144 116]\n",
      "  [168 129  94]\n",
      "  [179 142  87]\n",
      "  ...\n",
      "  [216 184 140]\n",
      "  [151 118  84]\n",
      "  [123  92  72]]]\n"
     ]
    }
   ],
   "source": [
    "print(x_train[0])"
   ]
  },
  {
   "cell_type": "markdown",
   "metadata": {},
   "source": [
    "Each image is a $32 \\times 32$ colorful (i.e., 3 channels) picture.\n",
    "\n",
    "![](cnn_channels.png)"
   ]
  },
  {
   "cell_type": "markdown",
   "metadata": {},
   "source": [
    "Show the first image of x_train.\n",
    "\n",
    "It is a frog. "
   ]
  },
  {
   "cell_type": "code",
   "execution_count": 15,
   "metadata": {},
   "outputs": [
    {
     "data": {
      "text/plain": [
       "<matplotlib.image.AxesImage at 0x151671e5c08>"
      ]
     },
     "execution_count": 15,
     "metadata": {},
     "output_type": "execute_result"
    },
    {
     "data": {
      "image/png": "[encoded data removed]",
      "text/plain": [
       "<Figure size 144x144 with 1 Axes>"
      ]
     },
     "metadata": {
      "needs_background": "light"
     },
     "output_type": "display_data"
    }
   ],
   "source": [
    "plt.figure(figsize=(2,2))\n",
    "plt.imshow(x_train[0])"
   ]
  },
  {
   "cell_type": "markdown",
   "metadata": {},
   "source": [
    "Print the lable of x_train[0]. "
   ]
  },
  {
   "cell_type": "code",
   "execution_count": 70,
   "metadata": {},
   "outputs": [
    {
     "name": "stdout",
     "output_type": "stream",
     "text": [
      "[9]\n",
      "The class of x_train[1] is a truck\n"
     ]
    }
   ],
   "source": [
    "labelNames = [\"airplane\", \"automobile\", \"bird\", \"cat\", \"deer\", \"dog\", \"frog\", \"horse\", \"ship\", \"truck\"]\n",
    "i_img = 1 \n",
    "print(y_train[i_img])\n",
    "v = y_train[i_img][0]\n",
    "print(f'The class of x_train[{i_img}] is a {labelNames[v]}')"
   ]
  },
  {
   "cell_type": "markdown",
   "metadata": {},
   "source": [
    "## Normalization of the dataset"
   ]
  },
  {
   "cell_type": "code",
   "execution_count": 22,
   "metadata": {},
   "outputs": [],
   "source": [
    "x_train1 = x_train.astype('float32') #cast to float32 datatype\n",
    "x_test1 = x_test.astype('float32') #cast to float32 datatype\n",
    "x_train1 = x_train1/255\n",
    "x_test1 = x_test1/255"
   ]
  },
  {
   "cell_type": "markdown",
   "metadata": {},
   "source": [
    "## Conver a label to a probability vector"
   ]
  },
  {
   "cell_type": "code",
   "execution_count": 24,
   "metadata": {},
   "outputs": [],
   "source": [
    "from tensorflow.keras.utils import to_categorical\n",
    "\n",
    "y_train1 = to_categorical(y_train, 10)\n",
    "y_test1 = to_categorical(y_test, 10)"
   ]
  },
  {
   "cell_type": "code",
   "execution_count": 25,
   "metadata": {},
   "outputs": [
    {
     "name": "stdout",
     "output_type": "stream",
     "text": [
      "[0. 0. 0. 0. 0. 0. 1. 0. 0. 0.]\n"
     ]
    }
   ],
   "source": [
    "print(y_train1[0])"
   ]
  },
  {
   "cell_type": "markdown",
   "metadata": {},
   "source": [
    "## Construct the CNN"
   ]
  },
  {
   "cell_type": "code",
   "execution_count": 59,
   "metadata": {},
   "outputs": [
    {
     "name": "stdout",
     "output_type": "stream",
     "text": [
      "Model: \"sequential_9\"\n",
      "_________________________________________________________________\n",
      "Layer (type)                 Output Shape              Param #   \n",
      "=================================================================\n",
      "conv2d_45 (Conv2D)           (None, 32, 32, 16)        208       \n",
      "_________________________________________________________________\n",
      "max_pooling2d_43 (MaxPooling (None, 16, 16, 16)        0         \n",
      "_________________________________________________________________\n",
      "conv2d_46 (Conv2D)           (None, 16, 16, 32)        2080      \n",
      "_________________________________________________________________\n",
      "conv2d_47 (Conv2D)           (None, 16, 16, 64)        8256      \n",
      "_________________________________________________________________\n",
      "conv2d_48 (Conv2D)           (None, 16, 16, 128)       32896     \n",
      "_________________________________________________________________\n",
      "max_pooling2d_44 (MaxPooling (None, 8, 8, 128)         0         \n",
      "_________________________________________________________________\n",
      "flatten_6 (Flatten)          (None, 8192)              0         \n",
      "_________________________________________________________________\n",
      "dense_12 (Dense)             (None, 150)               1228950   \n",
      "_________________________________________________________________\n",
      "dense_13 (Dense)             (None, 10)                1510      \n",
      "=================================================================\n",
      "Total params: 1,273,900\n",
      "Trainable params: 1,273,900\n",
      "Non-trainable params: 0\n",
      "_________________________________________________________________\n"
     ]
    }
   ],
   "source": [
    "from tensorflow.keras.models import Sequential\n",
    "from tensorflow.keras.layers import Dense, Flatten, Conv2D, MaxPooling2D\n",
    "from tensorflow.keras.layers import Dropout\n",
    "\n",
    "#the shape of each image\n",
    "INPUT_IMG_SHAPE = (32, 32, 3)\n",
    "CLASSES = 10\n",
    "\n",
    "model = Sequential()\n",
    "model.add(Conv2D(filters = 16, kernel_size = 2,input_shape=INPUT_IMG_SHAPE,padding='same', activation='relu'))\n",
    "model.add(MaxPooling2D(pool_size=2))\n",
    "\n",
    "model.add(Conv2D(filters = 32,kernel_size = 2,activation= 'relu',padding='same'))\n",
    "\n",
    "model.add(Conv2D(filters = 64,kernel_size = 2,activation= 'relu',padding='same'))\n",
    "model.add(Conv2D(filters = 128,kernel_size = 2,activation= 'relu',padding='same'))\n",
    "model.add(MaxPooling2D(pool_size=2))\n",
    "\n",
    "model.add(Flatten())\n",
    "model.add(Dense(150, activation='relu'))\n",
    "model.add(Dense(CLASSES,activation = 'softmax'))\n",
    "model.summary()"
   ]
  },
  {
   "cell_type": "code",
   "execution_count": 60,
   "metadata": {},
   "outputs": [],
   "source": [
    "model.compile(loss='categorical_crossentropy', optimizer='adam', metrics=['accuracy'])"
   ]
  },
  {
   "cell_type": "code",
   "execution_count": 61,
   "metadata": {},
   "outputs": [
    {
     "name": "stdout",
     "output_type": "stream",
     "text": [
      "Train on 40000 samples, validate on 10000 samples\n",
      "Epoch 1/20\n",
      "40000/40000 [==============================] - 39s 982us/sample - loss: 1.5400 - accuracy: 0.4466 - val_loss: 1.2501 - val_accuracy: 0.5679\n",
      "Epoch 2/20\n",
      "40000/40000 [==============================] - 37s 934us/sample - loss: 1.1195 - accuracy: 0.6052 - val_loss: 1.0636 - val_accuracy: 0.6299\n",
      "Epoch 3/20\n",
      "40000/40000 [==============================] - 37s 922us/sample - loss: 0.9617 - accuracy: 0.6618 - val_loss: 0.9965 - val_accuracy: 0.6555\n",
      "Epoch 4/20\n",
      "40000/40000 [==============================] - 36s 909us/sample - loss: 0.8586 - accuracy: 0.6984 - val_loss: 0.9440 - val_accuracy: 0.6743\n",
      "Epoch 5/20\n",
      "40000/40000 [==============================] - 37s 916us/sample - loss: 0.7739 - accuracy: 0.7297 - val_loss: 0.8957 - val_accuracy: 0.6906\n",
      "Epoch 6/20\n",
      "40000/40000 [==============================] - 39s 968us/sample - loss: 0.6881 - accuracy: 0.7588 - val_loss: 0.9085 - val_accuracy: 0.6953\n",
      "Epoch 7/20\n",
      "40000/40000 [==============================] - 40s 1ms/sample - loss: 0.6092 - accuracy: 0.7881 - val_loss: 0.9469 - val_accuracy: 0.6824\n",
      "Epoch 8/20\n",
      "40000/40000 [==============================] - 46s 1ms/sample - loss: 0.5306 - accuracy: 0.8150 - val_loss: 0.9388 - val_accuracy: 0.6985\n",
      "Epoch 9/20\n",
      "40000/40000 [==============================] - 41s 1ms/sample - loss: 0.4504 - accuracy: 0.8447 - val_loss: 1.0306 - val_accuracy: 0.6819\n",
      "Epoch 10/20\n",
      "40000/40000 [==============================] - 37s 937us/sample - loss: 0.3710 - accuracy: 0.8721 - val_loss: 1.0628 - val_accuracy: 0.6915\n",
      "Epoch 11/20\n",
      "40000/40000 [==============================] - 38s 946us/sample - loss: 0.2974 - accuracy: 0.8977 - val_loss: 1.1481 - val_accuracy: 0.6840\n",
      "Epoch 12/20\n",
      "40000/40000 [==============================] - 39s 983us/sample - loss: 0.2315 - accuracy: 0.9201 - val_loss: 1.2140 - val_accuracy: 0.6906\n",
      "Epoch 13/20\n",
      "40000/40000 [==============================] - 39s 972us/sample - loss: 0.1767 - accuracy: 0.9384 - val_loss: 1.3830 - val_accuracy: 0.6849\n",
      "Epoch 14/20\n",
      "40000/40000 [==============================] - 38s 943us/sample - loss: 0.1236 - accuracy: 0.9599 - val_loss: 1.5394 - val_accuracy: 0.6834\n",
      "Epoch 15/20\n",
      "40000/40000 [==============================] - 37s 924us/sample - loss: 0.1121 - accuracy: 0.9616 - val_loss: 1.5554 - val_accuracy: 0.6757\n",
      "Epoch 16/20\n",
      "40000/40000 [==============================] - 38s 948us/sample - loss: 0.0933 - accuracy: 0.9691 - val_loss: 1.9035 - val_accuracy: 0.6745\n",
      "Epoch 17/20\n",
      "40000/40000 [==============================] - 38s 939us/sample - loss: 0.0823 - accuracy: 0.9725 - val_loss: 1.8634 - val_accuracy: 0.6680\n",
      "Epoch 18/20\n",
      "40000/40000 [==============================] - 37s 930us/sample - loss: 0.0724 - accuracy: 0.9752 - val_loss: 1.9870 - val_accuracy: 0.6815\n",
      "Epoch 19/20\n",
      "40000/40000 [==============================] - 37s 915us/sample - loss: 0.0737 - accuracy: 0.9745 - val_loss: 2.0716 - val_accuracy: 0.6784\n",
      "Epoch 20/20\n",
      "40000/40000 [==============================] - 37s 917us/sample - loss: 0.0654 - accuracy: 0.9765 - val_loss: 2.1314 - val_accuracy: 0.6785\n"
     ]
    }
   ],
   "source": [
    "h = model.fit(x_train1, y_train1, batch_size=128, epochs=20, validation_split=0.2)"
   ]
  },
  {
   "cell_type": "code",
   "execution_count": 62,
   "metadata": {},
   "outputs": [
    {
     "data": {
      "text/html": [
       "<div>\n",
       "<style scoped>\n",
       "    .dataframe tbody tr th:only-of-type {\n",
       "        vertical-align: middle;\n",
       "    }\n",
       "\n",
       "    .dataframe tbody tr th {\n",
       "        vertical-align: top;\n",
       "    }\n",
       "\n",
       "    .dataframe thead th {\n",
       "        text-align: right;\n",
       "    }\n",
       "</style>\n",
       "<table border=\"1\" class=\"dataframe\">\n",
       "  <thead>\n",
       "    <tr style=\"text-align: right;\">\n",
       "      <th></th>\n",
       "      <th>loss</th>\n",
       "      <th>accuracy</th>\n",
       "      <th>val_loss</th>\n",
       "      <th>val_accuracy</th>\n",
       "    </tr>\n",
       "  </thead>\n",
       "  <tbody>\n",
       "    <tr>\n",
       "      <th>0</th>\n",
       "      <td>1.540032</td>\n",
       "      <td>0.446550</td>\n",
       "      <td>1.250066</td>\n",
       "      <td>0.5679</td>\n",
       "    </tr>\n",
       "    <tr>\n",
       "      <th>1</th>\n",
       "      <td>1.119461</td>\n",
       "      <td>0.605225</td>\n",
       "      <td>1.063607</td>\n",
       "      <td>0.6299</td>\n",
       "    </tr>\n",
       "    <tr>\n",
       "      <th>2</th>\n",
       "      <td>0.961661</td>\n",
       "      <td>0.661750</td>\n",
       "      <td>0.996532</td>\n",
       "      <td>0.6555</td>\n",
       "    </tr>\n",
       "    <tr>\n",
       "      <th>3</th>\n",
       "      <td>0.858568</td>\n",
       "      <td>0.698350</td>\n",
       "      <td>0.944023</td>\n",
       "      <td>0.6743</td>\n",
       "    </tr>\n",
       "    <tr>\n",
       "      <th>4</th>\n",
       "      <td>0.773929</td>\n",
       "      <td>0.729700</td>\n",
       "      <td>0.895690</td>\n",
       "      <td>0.6906</td>\n",
       "    </tr>\n",
       "  </tbody>\n",
       "</table>\n",
       "</div>"
      ],
      "text/plain": [
       "       loss  accuracy  val_loss  val_accuracy\n",
       "0  1.540032  0.446550  1.250066        0.5679\n",
       "1  1.119461  0.605225  1.063607        0.6299\n",
       "2  0.961661  0.661750  0.996532        0.6555\n",
       "3  0.858568  0.698350  0.944023        0.6743\n",
       "4  0.773929  0.729700  0.895690        0.6906"
      ]
     },
     "execution_count": 62,
     "metadata": {},
     "output_type": "execute_result"
    }
   ],
   "source": [
    "dfResult = pd.DataFrame(h.history)\n",
    "dfResult.head()"
   ]
  },
  {
   "cell_type": "code",
   "execution_count": 63,
   "metadata": {},
   "outputs": [
    {
     "data": {
      "text/plain": [
       "<matplotlib.axes._subplots.AxesSubplot at 0x1510c7c0908>"
      ]
     },
     "execution_count": 63,
     "metadata": {},
     "output_type": "execute_result"
    },
    {
     "data": {
      "image/png": "[encoded data removed]",
      "text/plain": [
       "<Figure size 720x360 with 2 Axes>"
      ]
     },
     "metadata": {
      "needs_background": "light"
     },
     "output_type": "display_data"
    }
   ],
   "source": [
    "plt.figure(figsize=(10, 5))\n",
    "plt.subplot(1,2,1)\n",
    "sns.lineplot(x=range(20), y=dfResult.loss, label='train_loss')\n",
    "sns.lineplot(x=range(20), y=dfResult.val_loss, label='val_loss')\n",
    "plt.subplot(1,2,2)\n",
    "sns.lineplot(x=range(20), y=dfResult.accuracy, label='train_accuracy')\n",
    "sns.lineplot(x=range(20), y=dfResult.val_accuracy, label='val_accuracy')"
   ]
  },
  {
   "cell_type": "code",
   "execution_count": 64,
   "metadata": {},
   "outputs": [
    {
     "name": "stdout",
     "output_type": "stream",
     "text": [
      "The best val_accuracy is: 0.6984999775886536\n"
     ]
    }
   ],
   "source": [
    "print(f'The best val_accuracy is: {dfResult.val_accuracy.max()}')"
   ]
  },
  {
   "cell_type": "markdown",
   "metadata": {},
   "source": [
    "## The best result on CIFAR-10\n",
    "\n",
    "Check [here](http://rodrigob.github.io/are_we_there_yet/build/classification_datasets_results.html#43494641522d3130) to see the leaderboard of the training results on CIFAR-10.\n",
    "\n",
    "![](https://i.imgur.com/AVCUycV.png)"
   ]
  },
  {
   "cell_type": "code",
   "execution_count": null,
   "metadata": {},
   "outputs": [],
   "source": []
  }
 ],
 "metadata": {
  "kernelspec": {
   "display_name": "Python 3",
   "language": "python",
   "name": "python3"
  },
  "language_info": {
   "codemirror_mode": {
    "name": "ipython",
    "version": 3
   },
   "file_extension": ".py",
   "mimetype": "text/x-python",
   "name": "python",
   "nbconvert_exporter": "python",
   "pygments_lexer": "ipython3",
   "version": "3.7.6"
  }
 },
 "nbformat": 4,
 "nbformat_minor": 4
}
