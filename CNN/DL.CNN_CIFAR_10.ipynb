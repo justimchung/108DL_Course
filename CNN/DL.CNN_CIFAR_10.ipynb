{
  "nbformat": 4,
  "nbformat_minor": 0,
  "metadata": {
    "kernelspec": {
      "display_name": "Python 3",
      "language": "python",
      "name": "python3"
    },
    "language_info": {
      "codemirror_mode": {
        "name": "ipython",
        "version": 3
      },
      "file_extension": ".py",
      "mimetype": "text/x-python",
      "name": "python",
      "nbconvert_exporter": "python",
      "pygments_lexer": "ipython3",
      "version": "3.7.6"
    },
    "colab": {
      "name": "DL.CNN_CIFAR-10.ipynb",
      "provenance": [],
      "collapsed_sections": [],
      "toc_visible": true
    },
    "accelerator": "GPU"
  },
  "cells": [
    {
      "cell_type": "markdown",
      "metadata": {
        "id": "b9W5czslHBPt",
        "colab_type": "text"
      },
      "source": [
        "# CIFAR Images classification using CNN\n",
        "\n",
        "CIFAR-10 的全名是 ``Canadian Institute for Advanced Research``。  \n",
        "它是深度學習的大神 Geoffrey Hinton 以及 Alex Krizhevsky 和 Vinod Nair 共同創建出來的。  \n",
        "\n",
        "CIFAR-10 是個知名的資料集，其包含了 60,000 張彩色 $32\\times32$ 的圖片。  \n",
        "圖片集共分成 10 個類別，每種類別有 6,000 張照片。  \n",
        "其中 50,000 張做為訓練集，10,000 做為測試集。\n",
        "\n",
        "這 10 類的類別為 飛機、汽車、鳥、貓、鹿、狗、青蛙、馬、船、卡車。\n",
        "\n",
        "![](https://img-blog.csdn.net/20180717104127164?watermark/2/text/aHR0cHM6Ly9ibG9nLmNzZG4ubmV0L2JyeWFudF9tZW5n/font/5a6L5L2T/fontsize/400/fill/I0JBQkFCMA==/dissolve/70)\n",
        "\n",
        "The CIFAR-10 dataset The CIFAR-10 dataset consists of 60000 32x32 colour images in 10 classes, with 6000 images per class. There are 50000 training images and 10000 test images.\n",
        "\n",
        "The dataset is divided into five training batches and one test batch, each with 10000 images. The test batch contains exactly 1000 randomly-selected images from each class. The training batches contain the remaining images in random order, but some training batches may contain more images from one class than another. Between them, the training batches contain exactly 5000 images from each class.\n",
        "\n",
        "For the details of the CIFAR-10 dataset, please refer to [here](https://www.cs.toronto.edu/~kriz/cifar.html)."
      ]
    },
    {
      "cell_type": "markdown",
      "metadata": {
        "id": "X9hKe04g5YaP",
        "colab_type": "text"
      },
      "source": [
        "底下我們先把所要的套件全都先載入"
      ]
    },
    {
      "cell_type": "code",
      "metadata": {
        "id": "Ikgi3Wp15XaL",
        "colab_type": "code",
        "outputId": "82e66b7d-e85a-46f2-d05e-aa0cd88f9345",
        "colab": {
          "base_uri": "https://localhost:8080/",
          "height": 51
        }
      },
      "source": [
        "import tensorflow\n",
        "from tensorflow import keras\n",
        "from tensorflow.keras.datasets import cifar10\n",
        "from tensorflow.keras.utils import to_categorical\n",
        "from tensorflow.keras.models import Sequential\n",
        "from tensorflow.keras.layers import Dense, Flatten, Conv2D, MaxPooling2D\n",
        "from tensorflow.keras.layers import Dropout\n",
        "from tensorflow.keras.optimizers import Adam\n",
        "from tensorflow.keras.regularizers import l2\n",
        "from tensorflow.keras.layers import Dropout\n",
        "from tensorflow.keras.preprocessing.image import ImageDataGenerator\n",
        "from tensorflow.keras.callbacks import EarlyStopping\n",
        "from tensorflow.keras.callbacks import ModelCheckpoint\n",
        "from tensorflow.keras.models import load_model\n",
        "import matplotlib.pyplot as plt\n",
        "import numpy as np\n",
        "import tensorflow as tf\n",
        "import pandas as pd\n",
        "import seaborn as sns"
      ],
      "execution_count": 0,
      "outputs": [
        {
          "output_type": "stream",
          "text": [
            "/usr/local/lib/python3.6/dist-packages/statsmodels/tools/_testing.py:19: FutureWarning: pandas.util.testing is deprecated. Use the functions in the public API at pandas.testing instead.\n",
            "  import pandas.util.testing as tm\n"
          ],
          "name": "stderr"
        }
      ]
    },
    {
      "cell_type": "markdown",
      "metadata": {
        "id": "Se48OOcB_bdu",
        "colab_type": "text"
      },
      "source": [
        "## Gloabl setting\n",
        "\n",
        "在這兒我們把程式碼中共同的參數都列上"
      ]
    },
    {
      "cell_type": "code",
      "metadata": {
        "id": "FFxWeRnf_j18",
        "colab_type": "code",
        "colab": {}
      },
      "source": [
        "EPOCHS = 200\n",
        "INPUT_IMG_SHAPE = (32, 32, 3)\n",
        "CLASSES = 10\n",
        "BATCH_SIZE = 128\n",
        "LEARN_RATE = 0.001\n",
        "L2=0.001"
      ],
      "execution_count": 0,
      "outputs": []
    },
    {
      "cell_type": "markdown",
      "metadata": {
        "id": "iLz_OIesHBPv",
        "colab_type": "text"
      },
      "source": [
        "## Load the dataset\n",
        "\n",
        "CIFAR-10 已經直接包含在 Keras 的資料集中了，我們可以直接載入它。\n",
        "\n",
        "We can directly load the CIFAR-10 dataset as it is included in the Keras."
      ]
    },
    {
      "cell_type": "code",
      "metadata": {
        "id": "ixfe8Iz3HBPw",
        "colab_type": "code",
        "outputId": "17d1aedc-c4ff-4e74-8371-bcfbf4cd455e",
        "colab": {
          "base_uri": "https://localhost:8080/",
          "height": 51
        }
      },
      "source": [
        "(x_train, y_train),(x_test, y_test) = cifar10.load_data()"
      ],
      "execution_count": 0,
      "outputs": [
        {
          "output_type": "stream",
          "text": [
            "Downloading data from https://www.cs.toronto.edu/~kriz/cifar-10-python.tar.gz\n",
            "170500096/170498071 [==============================] - 6s 0us/step\n"
          ],
          "name": "stdout"
        }
      ]
    },
    {
      "cell_type": "markdown",
      "metadata": {
        "id": "7l1X4ME_HBQF",
        "colab_type": "text"
      },
      "source": [
        "## Observe the dataset"
      ]
    },
    {
      "cell_type": "code",
      "metadata": {
        "id": "WoQv-74KHBQG",
        "colab_type": "code",
        "outputId": "b52ef362-6d20-4314-b83f-b0438afb576b",
        "colab": {
          "base_uri": "https://localhost:8080/",
          "height": 51
        }
      },
      "source": [
        "print(f'The shape of x_train is {x_train.shape}')\n",
        "print(f'The shape of y_train is {y_train.shape}')"
      ],
      "execution_count": 0,
      "outputs": [
        {
          "output_type": "stream",
          "text": [
            "The shape of x_train is (50000, 32, 32, 3)\n",
            "The shape of y_train is (50000, 1)\n"
          ],
          "name": "stdout"
        }
      ]
    },
    {
      "cell_type": "markdown",
      "metadata": {
        "id": "U0GUvH28HBQU",
        "colab_type": "text"
      },
      "source": [
        "x_train contains 50000 $32 \\times 32$ colorful images.  \n",
        "\n",
        "3 means 3 channels (i.g., R, G and B)."
      ]
    },
    {
      "cell_type": "markdown",
      "metadata": {
        "id": "v05xbDUPHBQW",
        "colab_type": "text"
      },
      "source": [
        "## Show the images in the dataset"
      ]
    },
    {
      "cell_type": "code",
      "metadata": {
        "id": "B7Jj1D--HBQv",
        "colab_type": "code",
        "outputId": "f3a4256b-7ce5-4aa2-cf85-f63251dcbddb",
        "colab": {
          "base_uri": "https://localhost:8080/",
          "height": 850
        }
      },
      "source": [
        "print(x_train[0])"
      ],
      "execution_count": 0,
      "outputs": [
        {
          "output_type": "stream",
          "text": [
            "[[[ 59  62  63]\n",
            "  [ 43  46  45]\n",
            "  [ 50  48  43]\n",
            "  ...\n",
            "  [158 132 108]\n",
            "  [152 125 102]\n",
            "  [148 124 103]]\n",
            "\n",
            " [[ 16  20  20]\n",
            "  [  0   0   0]\n",
            "  [ 18   8   0]\n",
            "  ...\n",
            "  [123  88  55]\n",
            "  [119  83  50]\n",
            "  [122  87  57]]\n",
            "\n",
            " [[ 25  24  21]\n",
            "  [ 16   7   0]\n",
            "  [ 49  27   8]\n",
            "  ...\n",
            "  [118  84  50]\n",
            "  [120  84  50]\n",
            "  [109  73  42]]\n",
            "\n",
            " ...\n",
            "\n",
            " [[208 170  96]\n",
            "  [201 153  34]\n",
            "  [198 161  26]\n",
            "  ...\n",
            "  [160 133  70]\n",
            "  [ 56  31   7]\n",
            "  [ 53  34  20]]\n",
            "\n",
            " [[180 139  96]\n",
            "  [173 123  42]\n",
            "  [186 144  30]\n",
            "  ...\n",
            "  [184 148  94]\n",
            "  [ 97  62  34]\n",
            "  [ 83  53  34]]\n",
            "\n",
            " [[177 144 116]\n",
            "  [168 129  94]\n",
            "  [179 142  87]\n",
            "  ...\n",
            "  [216 184 140]\n",
            "  [151 118  84]\n",
            "  [123  92  72]]]\n"
          ],
          "name": "stdout"
        }
      ]
    },
    {
      "cell_type": "markdown",
      "metadata": {
        "id": "iiB3YQ-KHBRG",
        "colab_type": "text"
      },
      "source": [
        "Each image is a $32 \\times 32$ colorful (i.e., 3 channels) picture.\n",
        "\n",
        "![](cnn_channels.png)"
      ]
    },
    {
      "cell_type": "markdown",
      "metadata": {
        "id": "KT5nzp_jHBRH",
        "colab_type": "text"
      },
      "source": [
        "Show the first image of x_train.\n",
        "\n",
        "It is a frog. "
      ]
    },
    {
      "cell_type": "code",
      "metadata": {
        "id": "ZnvF5UWwHBRI",
        "colab_type": "code",
        "outputId": "1cbee779-32b8-40a0-994c-65ba0624292c",
        "colab": {
          "base_uri": "https://localhost:8080/",
          "height": 176
        }
      },
      "source": [
        "plt.figure(figsize=(2,2))\n",
        "plt.imshow(x_train[0])"
      ],
      "execution_count": 0,
      "outputs": [
        {
          "output_type": "execute_result",
          "data": {
            "text/plain": [
              "<matplotlib.image.AxesImage at 0x7f4cf4b79550>"
            ]
          },
          "metadata": {
            "tags": []
          },
          "execution_count": 6
        },
        {
          "output_type": "display_data",
          "data": {
            "image/png": "[encoded data removed]",
            "text/plain": [
              "<Figure size 144x144 with 1 Axes>"
            ]
          },
          "metadata": {
            "tags": [],
            "needs_background": "light"
          }
        }
      ]
    },
    {
      "cell_type": "markdown",
      "metadata": {
        "id": "csm-8jXOHBRi",
        "colab_type": "text"
      },
      "source": [
        "Print the lable of x_train[0]. "
      ]
    },
    {
      "cell_type": "code",
      "metadata": {
        "id": "nPo81Ei5HBRl",
        "colab_type": "code",
        "outputId": "b0aaf5d6-b2b4-4482-94e9-a6e2f19c5404",
        "colab": {
          "base_uri": "https://localhost:8080/",
          "height": 51
        }
      },
      "source": [
        "labelNames = [\"airplane\", \"automobile\", \"bird\", \"cat\", \"deer\", \"dog\", \"frog\", \"horse\", \"ship\", \"truck\"]\n",
        "i_img = 1 \n",
        "print(y_train[i_img])\n",
        "v = y_train[i_img][0]\n",
        "print(f'The class of x_train[{i_img}] is a {labelNames[v]}')"
      ],
      "execution_count": 0,
      "outputs": [
        {
          "output_type": "stream",
          "text": [
            "[9]\n",
            "The class of x_train[1] is a truck\n"
          ],
          "name": "stdout"
        }
      ]
    },
    {
      "cell_type": "markdown",
      "metadata": {
        "id": "OIJNsVQaHBRs",
        "colab_type": "text"
      },
      "source": [
        "## Normalization of the dataset"
      ]
    },
    {
      "cell_type": "code",
      "metadata": {
        "id": "Q30H6kG1HBRu",
        "colab_type": "code",
        "colab": {}
      },
      "source": [
        "x_train1 = x_train.astype('float32') #cast to float32 datatype\n",
        "x_test1 = x_test.astype('float32') #cast to float32 datatype\n",
        "x_train1 = x_train1/255\n",
        "x_test1 = x_test1/255"
      ],
      "execution_count": 0,
      "outputs": []
    },
    {
      "cell_type": "markdown",
      "metadata": {
        "id": "ctk5-yJuHBSU",
        "colab_type": "text"
      },
      "source": [
        "## Conver a label to a probability vector"
      ]
    },
    {
      "cell_type": "code",
      "metadata": {
        "id": "dfMWL2giHBSV",
        "colab_type": "code",
        "colab": {}
      },
      "source": [
        "\n",
        "y_train1 = to_categorical(y_train, CLASSES)\n",
        "y_test1 = to_categorical(y_test, CLASSES) "
      ],
      "execution_count": 0,
      "outputs": []
    },
    {
      "cell_type": "code",
      "metadata": {
        "id": "zttKEfYGHBSj",
        "colab_type": "code",
        "outputId": "8c255592-6caf-4d23-ab87-df50a067d7e0",
        "colab": {
          "base_uri": "https://localhost:8080/",
          "height": 34
        }
      },
      "source": [
        "print(y_train1[0])"
      ],
      "execution_count": 0,
      "outputs": [
        {
          "output_type": "stream",
          "text": [
            "[0. 0. 0. 0. 0. 0. 1. 0. 0. 0.]\n"
          ],
          "name": "stdout"
        }
      ]
    },
    {
      "cell_type": "markdown",
      "metadata": {
        "id": "rb_Co2JIHBSo",
        "colab_type": "text"
      },
      "source": [
        "## Construct the CNN"
      ]
    },
    {
      "cell_type": "code",
      "metadata": {
        "id": "ITanK47-HBSo",
        "colab_type": "code",
        "outputId": "603a13dc-1206-4ad5-d711-fbf361cfe01c",
        "colab": {
          "base_uri": "https://localhost:8080/",
          "height": 459
        }
      },
      "source": [
        "#the shape of each image\n",
        "INPUT_IMG_SHAPE = (32, 32, 3)\n",
        "CLASSES = 10\n",
        "\n",
        "model = Sequential()\n",
        "model.add(Conv2D(filters = 16, kernel_size = 2,input_shape=INPUT_IMG_SHAPE,padding='same', activation='relu'))\n",
        "model.add(MaxPooling2D(pool_size=2))\n",
        "\n",
        "model.add(Conv2D(filters = 32,kernel_size = 2,activation= 'relu',padding='same'))\n",
        "\n",
        "model.add(Conv2D(filters = 64,kernel_size = 2,activation= 'relu',padding='same'))\n",
        "model.add(Conv2D(filters = 128,kernel_size = 2,activation= 'relu',padding='same'))\n",
        "model.add(MaxPooling2D(pool_size=2))\n",
        "\n",
        "model.add(Flatten())\n",
        "model.add(Dense(150, activation='relu'))\n",
        "model.add(Dense(CLASSES,activation = 'softmax'))\n",
        "model.summary()"
      ],
      "execution_count": 0,
      "outputs": [
        {
          "output_type": "stream",
          "text": [
            "Model: \"sequential\"\n",
            "_________________________________________________________________\n",
            "Layer (type)                 Output Shape              Param #   \n",
            "=================================================================\n",
            "conv2d (Conv2D)              (None, 32, 32, 16)        208       \n",
            "_________________________________________________________________\n",
            "max_pooling2d (MaxPooling2D) (None, 16, 16, 16)        0         \n",
            "_________________________________________________________________\n",
            "conv2d_1 (Conv2D)            (None, 16, 16, 32)        2080      \n",
            "_________________________________________________________________\n",
            "conv2d_2 (Conv2D)            (None, 16, 16, 64)        8256      \n",
            "_________________________________________________________________\n",
            "conv2d_3 (Conv2D)            (None, 16, 16, 128)       32896     \n",
            "_________________________________________________________________\n",
            "max_pooling2d_1 (MaxPooling2 (None, 8, 8, 128)         0         \n",
            "_________________________________________________________________\n",
            "flatten (Flatten)            (None, 8192)              0         \n",
            "_________________________________________________________________\n",
            "dense (Dense)                (None, 150)               1228950   \n",
            "_________________________________________________________________\n",
            "dense_1 (Dense)              (None, 10)                1510      \n",
            "=================================================================\n",
            "Total params: 1,273,900\n",
            "Trainable params: 1,273,900\n",
            "Non-trainable params: 0\n",
            "_________________________________________________________________\n"
          ],
          "name": "stdout"
        }
      ]
    },
    {
      "cell_type": "code",
      "metadata": {
        "id": "t4w2ETNIHBSv",
        "colab_type": "code",
        "colab": {}
      },
      "source": [
        "model.compile(loss='categorical_crossentropy', optimizer='adam', metrics=['accuracy'])"
      ],
      "execution_count": 0,
      "outputs": []
    },
    {
      "cell_type": "code",
      "metadata": {
        "id": "sKaUvjK7HBTI",
        "colab_type": "code",
        "colab": {}
      },
      "source": [
        "h = model.fit(x_train1, y_train1, batch_size=BATCH_SIZE, epochs=EPOCHS, validation_split=0.2)"
      ],
      "execution_count": 0,
      "outputs": []
    },
    {
      "cell_type": "code",
      "metadata": {
        "id": "LxVVgbfoHBTQ",
        "colab_type": "code",
        "outputId": "baa59709-b08e-4ca3-bd25-8b46285ac2ae",
        "colab": {
          "base_uri": "https://localhost:8080/",
          "height": 204
        }
      },
      "source": [
        "dfResult = pd.DataFrame(h.history)\n",
        "dfResult.head()"
      ],
      "execution_count": 0,
      "outputs": [
        {
          "output_type": "execute_result",
          "data": {
            "text/html": [
              "<div>\n",
              "<style scoped>\n",
              "    .dataframe tbody tr th:only-of-type {\n",
              "        vertical-align: middle;\n",
              "    }\n",
              "\n",
              "    .dataframe tbody tr th {\n",
              "        vertical-align: top;\n",
              "    }\n",
              "\n",
              "    .dataframe thead th {\n",
              "        text-align: right;\n",
              "    }\n",
              "</style>\n",
              "<table border=\"1\" class=\"dataframe\">\n",
              "  <thead>\n",
              "    <tr style=\"text-align: right;\">\n",
              "      <th></th>\n",
              "      <th>loss</th>\n",
              "      <th>accuracy</th>\n",
              "      <th>val_loss</th>\n",
              "      <th>val_accuracy</th>\n",
              "    </tr>\n",
              "  </thead>\n",
              "  <tbody>\n",
              "    <tr>\n",
              "      <th>0</th>\n",
              "      <td>1.563811</td>\n",
              "      <td>0.436750</td>\n",
              "      <td>1.357954</td>\n",
              "      <td>0.5155</td>\n",
              "    </tr>\n",
              "    <tr>\n",
              "      <th>1</th>\n",
              "      <td>1.187166</td>\n",
              "      <td>0.578100</td>\n",
              "      <td>1.163770</td>\n",
              "      <td>0.5870</td>\n",
              "    </tr>\n",
              "    <tr>\n",
              "      <th>2</th>\n",
              "      <td>1.032653</td>\n",
              "      <td>0.635675</td>\n",
              "      <td>1.118399</td>\n",
              "      <td>0.6007</td>\n",
              "    </tr>\n",
              "    <tr>\n",
              "      <th>3</th>\n",
              "      <td>0.917692</td>\n",
              "      <td>0.679700</td>\n",
              "      <td>1.013944</td>\n",
              "      <td>0.6438</td>\n",
              "    </tr>\n",
              "    <tr>\n",
              "      <th>4</th>\n",
              "      <td>0.808031</td>\n",
              "      <td>0.715250</td>\n",
              "      <td>0.957274</td>\n",
              "      <td>0.6656</td>\n",
              "    </tr>\n",
              "  </tbody>\n",
              "</table>\n",
              "</div>"
            ],
            "text/plain": [
              "       loss  accuracy  val_loss  val_accuracy\n",
              "0  1.563811  0.436750  1.357954        0.5155\n",
              "1  1.187166  0.578100  1.163770        0.5870\n",
              "2  1.032653  0.635675  1.118399        0.6007\n",
              "3  0.917692  0.679700  1.013944        0.6438\n",
              "4  0.808031  0.715250  0.957274        0.6656"
            ]
          },
          "metadata": {
            "tags": []
          },
          "execution_count": 14
        }
      ]
    },
    {
      "cell_type": "code",
      "metadata": {
        "id": "K5D0nPebHBTW",
        "colab_type": "code",
        "outputId": "95eebf8a-f56a-45ac-91c1-af40f2658af6",
        "colab": {
          "base_uri": "https://localhost:8080/",
          "height": 340
        }
      },
      "source": [
        "plt.figure(figsize=(20, 5))\n",
        "plt.subplot(1,2,1)\n",
        "sns.lineplot(x=range(EPOCHS), y=dfResult.loss, label='train_loss')\n",
        "sns.lineplot(x=range(EPOCHS), y=dfResult.val_loss, label='val_loss')\n",
        "plt.subplot(1,2,2)\n",
        "sns.lineplot(x=range(EPOCHS), y=dfResult.accuracy, label='train_accuracy')\n",
        "sns.lineplot(x=range(EPOCHS), y=dfResult.val_accuracy, label='val_accuracy')"
      ],
      "execution_count": 0,
      "outputs": [
        {
          "output_type": "execute_result",
          "data": {
            "text/plain": [
              "<matplotlib.axes._subplots.AxesSubplot at 0x7f4cf0105f60>"
            ]
          },
          "metadata": {
            "tags": []
          },
          "execution_count": 15
        },
        {
          "output_type": "display_data",
          "data": {
            "image/png": "[encoded data removed]",
            "text/plain": [
              "<Figure size 1440x360 with 2 Axes>"
            ]
          },
          "metadata": {
            "tags": [],
            "needs_background": "light"
          }
        }
      ]
    },
    {
      "cell_type": "code",
      "metadata": {
        "id": "yUpKoZzYHBTc",
        "colab_type": "code",
        "outputId": "c714007e-04a7-43cf-d2ed-4299f17f8cda",
        "colab": {
          "base_uri": "https://localhost:8080/",
          "height": 34
        }
      },
      "source": [
        "print(f'The best val_accuracy is: {dfResult.val_accuracy.max()}')"
      ],
      "execution_count": 0,
      "outputs": [
        {
          "output_type": "stream",
          "text": [
            "The best val_accuracy is: 0.699400007724762\n"
          ],
          "name": "stdout"
        }
      ]
    },
    {
      "cell_type": "markdown",
      "metadata": {
        "id": "euJdGRNJJ8Ep",
        "colab_type": "text"
      },
      "source": [
        "由上面的圖片可以看出，我們的模型已經進入了 overfitting 的狀況。"
      ]
    },
    {
      "cell_type": "markdown",
      "metadata": {
        "id": "gH51GAfXHBTh",
        "colab_type": "text"
      },
      "source": [
        "## The best result on CIFAR-10\n",
        "\n",
        "Check [here](http://rodrigob.github.io/are_we_there_yet/build/classification_datasets_results.html#43494641522d3130) to see the leaderboard of the training results on CIFAR-10.\n",
        "\n",
        "![](https://i.imgur.com/AVCUycV.png)"
      ]
    },
    {
      "cell_type": "markdown",
      "metadata": {
        "id": "8u12wTJFINvN",
        "colab_type": "text"
      },
      "source": [
        "## Early Stopping\n",
        "\n"
      ]
    },
    {
      "cell_type": "code",
      "metadata": {
        "id": "jhg9Qy68IQiX",
        "colab_type": "code",
        "colab": {}
      },
      "source": [
        "from tensorflow.keras.callbacks import EarlyStopping\n",
        "from tensorflow.keras.callbacks import ModelCheckpoint\n",
        "es = EarlyStopping(monitor='val_accuracy',  # monitor val_accuracy\n",
        "                   patience=15,   #若 15 個 EPOCHs 都沒有改善，就停止 \n",
        "                   verbose=1)\n",
        "\n",
        "mc = ModelCheckpoint(filepath='weights.{epoch:02d}-{val_accuracy:.2f}.h5', save_best_only=True, verbose=1, monitor='val_accuracy')\n",
        "\n",
        "h = model.fit(x_train1, y_train1, batch_size=BATCH_SIZE, epochs=EPOCHS, validation_split=0.2, callbacks=[es, mc])"
      ],
      "execution_count": 0,
      "outputs": []
    },
    {
      "cell_type": "code",
      "metadata": {
        "id": "3N0MzbnSKitZ",
        "colab_type": "code",
        "outputId": "aae09d3b-a736-442a-8e48-7820ce512695",
        "colab": {
          "base_uri": "https://localhost:8080/",
          "height": 34
        }
      },
      "source": [
        "dfResult = pd.DataFrame(h.history)\n",
        "dfResult.head()\n",
        "dfResult.val_accuracy.max()"
      ],
      "execution_count": 0,
      "outputs": [
        {
          "output_type": "execute_result",
          "data": {
            "text/plain": [
              "0.6753000020980835"
            ]
          },
          "metadata": {
            "tags": []
          },
          "execution_count": 28
        }
      ]
    },
    {
      "cell_type": "markdown",
      "metadata": {
        "id": "X-CkHt5dVFxI",
        "colab_type": "text"
      },
      "source": [
        "### Load Model\n",
        "\n",
        "底下我們載入最佳的模型，並分析結果。\n",
        "\n",
        "底下程式碼中 load_model(檔名) 的檔名請自行選擇。\n"
      ]
    },
    {
      "cell_type": "code",
      "metadata": {
        "id": "Hi5ohJelVI1h",
        "colab_type": "code",
        "outputId": "133beb38-c8ac-4293-a4ac-f0ee060f0460",
        "colab": {
          "base_uri": "https://localhost:8080/",
          "height": 68
        }
      },
      "source": [
        "from tensorflow.keras.models import load_model\n",
        "model_old = load_model('weights.23-0.68.h5')\n",
        "eloss, eacc = model_old.evaluate(x_test1, y_test1)\n",
        "print(f'LOSS (test): {eloss:.3f}')\n",
        "print(f'Accuracy (test): {eacc:.3f}')"
      ],
      "execution_count": 0,
      "outputs": [
        {
          "output_type": "stream",
          "text": [
            "313/313 [==============================] - 2s 5ms/step - loss: 8.3382 - accuracy: 0.6687\n",
            "LOSS (test): 8.338\n",
            "Accuracy (test): 0.669\n"
          ],
          "name": "stdout"
        }
      ]
    },
    {
      "cell_type": "markdown",
      "metadata": {
        "id": "GDrA2Ag9WiqZ",
        "colab_type": "text"
      },
      "source": [
        "## 使用設計好的模型來跑 CIFAR-10 \n",
        "\n",
        "我們模仿 VGG 卷積模型來分析 CIFAR-10 資料集，看是否能進一步提升效能。\n",
        "\n",
        "VGG16 is a convolutional neural network model proposed by K. Simonyan and A. Zisserman from the University of Oxford in the paper “Very Deep Convolutional Networks for Large-Scale Image Recognition”. The model achieves 92.7% top-5 test accuracy in ImageNet, which is a dataset of over 14 million images belonging to 1000 classes. \n",
        "\n",
        "You can visit [here](https://arxiv.org/abs/1409.1556) to access the original paper of VGG16. "
      ]
    },
    {
      "cell_type": "code",
      "metadata": {
        "id": "ZsNvpHsnHBTi",
        "colab_type": "code",
        "outputId": "cd4f4856-0931-4ca7-9ba0-0367dd14deb5",
        "colab": {
          "base_uri": "https://localhost:8080/",
          "height": 561
        }
      },
      "source": [
        "modelvgg = Sequential()\n",
        "modelvgg.add(Conv2D(32, (3, 3), activation='relu', padding='same', input_shape=INPUT_IMG_SHAPE))\n",
        "modelvgg.add(Conv2D(32, (3, 3), activation='relu', padding='same'))\n",
        "modelvgg.add(MaxPooling2D((2, 2)))\n",
        "modelvgg.add(Conv2D(64, (3, 3), activation='relu', padding='same'))\n",
        "modelvgg.add(Conv2D(64, (3, 3), activation='relu', padding='same'))\n",
        "modelvgg.add(MaxPooling2D((2, 2)))\n",
        "modelvgg.add(Conv2D(128, (3, 3), activation='relu', padding='same'))\n",
        "modelvgg.add(Conv2D(128, (3, 3), activation='relu', padding='same'))\n",
        "modelvgg.add(MaxPooling2D((2, 2)))\n",
        "modelvgg.add(Flatten())\n",
        "modelvgg.add(Dense(128, activation='relu', kernel_initializer='he_uniform'))\n",
        "modelvgg.add(Dense(10, activation='softmax'))\n",
        "modelvgg.summary()"
      ],
      "execution_count": 0,
      "outputs": [
        {
          "output_type": "stream",
          "text": [
            "Model: \"sequential_1\"\n",
            "_________________________________________________________________\n",
            "Layer (type)                 Output Shape              Param #   \n",
            "=================================================================\n",
            "conv2d_4 (Conv2D)            (None, 32, 32, 32)        896       \n",
            "_________________________________________________________________\n",
            "conv2d_5 (Conv2D)            (None, 32, 32, 32)        9248      \n",
            "_________________________________________________________________\n",
            "max_pooling2d_2 (MaxPooling2 (None, 16, 16, 32)        0         \n",
            "_________________________________________________________________\n",
            "conv2d_6 (Conv2D)            (None, 16, 16, 64)        18496     \n",
            "_________________________________________________________________\n",
            "conv2d_7 (Conv2D)            (None, 16, 16, 64)        36928     \n",
            "_________________________________________________________________\n",
            "max_pooling2d_3 (MaxPooling2 (None, 8, 8, 64)          0         \n",
            "_________________________________________________________________\n",
            "conv2d_8 (Conv2D)            (None, 8, 8, 128)         73856     \n",
            "_________________________________________________________________\n",
            "conv2d_9 (Conv2D)            (None, 8, 8, 128)         147584    \n",
            "_________________________________________________________________\n",
            "max_pooling2d_4 (MaxPooling2 (None, 4, 4, 128)         0         \n",
            "_________________________________________________________________\n",
            "flatten_1 (Flatten)          (None, 2048)              0         \n",
            "_________________________________________________________________\n",
            "dense_2 (Dense)              (None, 128)               262272    \n",
            "_________________________________________________________________\n",
            "dense_3 (Dense)              (None, 10)                1290      \n",
            "=================================================================\n",
            "Total params: 550,570\n",
            "Trainable params: 550,570\n",
            "Non-trainable params: 0\n",
            "_________________________________________________________________\n"
          ],
          "name": "stdout"
        }
      ]
    },
    {
      "cell_type": "code",
      "metadata": {
        "id": "tpS2GEI0HBTq",
        "colab_type": "code",
        "colab": {}
      },
      "source": [
        "opt = Adam(lr=LEARN_RATE)\n",
        "modelvgg.compile(loss='categorical_crossentropy', optimizer=opt, metrics=['accuracy'])"
      ],
      "execution_count": 0,
      "outputs": []
    },
    {
      "cell_type": "code",
      "metadata": {
        "id": "l20GrVa_HBTw",
        "colab_type": "code",
        "colab": {}
      },
      "source": [
        "\n",
        "h = modelvgg.fit(x_train1, y_train1, epochs=EPOCHS, batch_size=BATCH_SIZE, validation_split=0.2)"
      ],
      "execution_count": 0,
      "outputs": []
    },
    {
      "cell_type": "code",
      "metadata": {
        "id": "_AgTIwc0QsLa",
        "colab_type": "code",
        "outputId": "e3040090-be6d-4946-9f31-0ee520615195",
        "colab": {
          "base_uri": "https://localhost:8080/",
          "height": 204
        }
      },
      "source": [
        "dfResult = pd.DataFrame(h.history)\n",
        "dfResult.head()"
      ],
      "execution_count": 0,
      "outputs": [
        {
          "output_type": "execute_result",
          "data": {
            "text/html": [
              "<div>\n",
              "<style scoped>\n",
              "    .dataframe tbody tr th:only-of-type {\n",
              "        vertical-align: middle;\n",
              "    }\n",
              "\n",
              "    .dataframe tbody tr th {\n",
              "        vertical-align: top;\n",
              "    }\n",
              "\n",
              "    .dataframe thead th {\n",
              "        text-align: right;\n",
              "    }\n",
              "</style>\n",
              "<table border=\"1\" class=\"dataframe\">\n",
              "  <thead>\n",
              "    <tr style=\"text-align: right;\">\n",
              "      <th></th>\n",
              "      <th>loss</th>\n",
              "      <th>accuracy</th>\n",
              "      <th>val_loss</th>\n",
              "      <th>val_accuracy</th>\n",
              "    </tr>\n",
              "  </thead>\n",
              "  <tbody>\n",
              "    <tr>\n",
              "      <th>0</th>\n",
              "      <td>1.678148</td>\n",
              "      <td>0.378150</td>\n",
              "      <td>1.378258</td>\n",
              "      <td>0.4981</td>\n",
              "    </tr>\n",
              "    <tr>\n",
              "      <th>1</th>\n",
              "      <td>1.205379</td>\n",
              "      <td>0.566775</td>\n",
              "      <td>1.064462</td>\n",
              "      <td>0.6215</td>\n",
              "    </tr>\n",
              "    <tr>\n",
              "      <th>2</th>\n",
              "      <td>0.953908</td>\n",
              "      <td>0.661525</td>\n",
              "      <td>0.936139</td>\n",
              "      <td>0.6688</td>\n",
              "    </tr>\n",
              "    <tr>\n",
              "      <th>3</th>\n",
              "      <td>0.800747</td>\n",
              "      <td>0.718900</td>\n",
              "      <td>0.837673</td>\n",
              "      <td>0.7136</td>\n",
              "    </tr>\n",
              "    <tr>\n",
              "      <th>4</th>\n",
              "      <td>0.682896</td>\n",
              "      <td>0.760800</td>\n",
              "      <td>0.805940</td>\n",
              "      <td>0.7226</td>\n",
              "    </tr>\n",
              "  </tbody>\n",
              "</table>\n",
              "</div>"
            ],
            "text/plain": [
              "       loss  accuracy  val_loss  val_accuracy\n",
              "0  1.678148  0.378150  1.378258        0.4981\n",
              "1  1.205379  0.566775  1.064462        0.6215\n",
              "2  0.953908  0.661525  0.936139        0.6688\n",
              "3  0.800747  0.718900  0.837673        0.7136\n",
              "4  0.682896  0.760800  0.805940        0.7226"
            ]
          },
          "metadata": {
            "tags": []
          },
          "execution_count": 20
        }
      ]
    },
    {
      "cell_type": "code",
      "metadata": {
        "id": "jqnBCC5JQ0I7",
        "colab_type": "code",
        "outputId": "fd15af93-03fe-481a-86b1-2d1e598f17a6",
        "colab": {
          "base_uri": "https://localhost:8080/",
          "height": 337
        }
      },
      "source": [
        "plt.figure(figsize=(10, 5))\n",
        "plt.subplot(1,2,1)\n",
        "sns.lineplot(x=range(EPOCHS), y=dfResult.loss, label='train_loss')\n",
        "sns.lineplot(x=range(EPOCHS), y=dfResult.val_loss, label='val_loss')\n",
        "plt.subplot(1,2,2)\n",
        "sns.lineplot(x=range(EPOCHS), y=dfResult.accuracy, label='train_accuracy')\n",
        "sns.lineplot(x=range(EPOCHS), y=dfResult.val_accuracy, label='val_accuracy')"
      ],
      "execution_count": 0,
      "outputs": [
        {
          "output_type": "execute_result",
          "data": {
            "text/plain": [
              "<matplotlib.axes._subplots.AxesSubplot at 0x7f75f42eacf8>"
            ]
          },
          "metadata": {
            "tags": []
          },
          "execution_count": 21
        },
        {
          "output_type": "display_data",
          "data": {
            "image/png": "[encoded data removed]",
            "text/plain": [
              "<Figure size 720x360 with 2 Axes>"
            ]
          },
          "metadata": {
            "tags": [],
            "needs_background": "light"
          }
        }
      ]
    },
    {
      "cell_type": "markdown",
      "metadata": {
        "id": "xbXsVDg0Kwtt",
        "colab_type": "text"
      },
      "source": [
        "可以看出 VGG 的模仿品一樣有 overfitting 的問題。\n",
        "\n",
        "但由底下的分析也可以看出來， VGG 的模仿品有較高的 accuracy (76%). "
      ]
    },
    {
      "cell_type": "code",
      "metadata": {
        "id": "htERIgTOVyB5",
        "colab_type": "code",
        "outputId": "5c4e1362-eb6e-409e-b950-ddf090bbfe5a",
        "colab": {
          "base_uri": "https://localhost:8080/",
          "height": 51
        }
      },
      "source": [
        "print(f'The best val_accuracy is: {dfResult.val_accuracy.max()}')\n",
        "print(f'The best train_accuracy is: {dfResult.accuracy.max()}')"
      ],
      "execution_count": 0,
      "outputs": [
        {
          "output_type": "stream",
          "text": [
            "The best val_accuracy is: 0.7692999839782715\n",
            "The best train_accuracy is: 0.9969000220298767\n"
          ],
          "name": "stdout"
        }
      ]
    },
    {
      "cell_type": "code",
      "metadata": {
        "id": "XUJXCR7fV8ag",
        "colab_type": "code",
        "outputId": "3e94e3c3-8976-48a2-8295-7b78cb26b201",
        "colab": {
          "base_uri": "https://localhost:8080/",
          "height": 68
        }
      },
      "source": [
        "eloss, eacc = modelvgg.evaluate(x_test1, y_test1)\n",
        "print(f'Loss(test): {eloss}')\n",
        "print(f'Accuracy(test): {eacc}')"
      ],
      "execution_count": 0,
      "outputs": [
        {
          "output_type": "stream",
          "text": [
            "313/313 [==============================] - 1s 3ms/step - loss: 3.4261 - accuracy: 0.7530\n",
            "Loss(test): 3.4261374473571777\n",
            "Accuracy(test): 0.753000020980835\n"
          ],
          "name": "stdout"
        }
      ]
    },
    {
      "cell_type": "markdown",
      "metadata": {
        "id": "CPl1W6m0LVih",
        "colab_type": "text"
      },
      "source": [
        "## L2 Regularization\n",
        "\n",
        "底下在 VGG 的模仿品上，疊加 L2 regularization 的效果，看對於 overfitting 有什麼影響"
      ]
    },
    {
      "cell_type": "code",
      "metadata": {
        "id": "jNoe_RYsWwbD",
        "colab_type": "code",
        "outputId": "2287fe3c-2eda-49c8-ca59-dfd5bb83a363",
        "colab": {
          "base_uri": "https://localhost:8080/",
          "height": 561
        }
      },
      "source": [
        "modelvgg = Sequential()\n",
        "modelvgg.add(Conv2D(32, (3, 3), activation='relu', padding='same', input_shape=INPUT_IMG_SHAPE, kernel_regularizer=l2(0.01)))\n",
        "modelvgg.add(Conv2D(32, (3, 3), activation='relu', padding='same', kernel_regularizer=l2(0.01)))\n",
        "modelvgg.add(MaxPooling2D((2, 2)))\n",
        "modelvgg.add(Conv2D(64, (3, 3), activation='relu', padding='same', kernel_regularizer=l2(0.01)))\n",
        "modelvgg.add(Conv2D(64, (3, 3), activation='relu', padding='same', kernel_regularizer=l2(0.01)))\n",
        "modelvgg.add(MaxPooling2D((2, 2)))\n",
        "modelvgg.add(Conv2D(128, (3, 3), activation='relu', padding='same', kernel_regularizer=l2(0.01)))\n",
        "modelvgg.add(Conv2D(128, (3, 3), activation='relu', padding='same', kernel_regularizer=l2(0.01)))\n",
        "modelvgg.add(MaxPooling2D((2, 2)))\n",
        "modelvgg.add(Flatten())\n",
        "modelvgg.add(Dense(128, activation='relu', kernel_initializer='he_uniform'))\n",
        "modelvgg.add(Dense(10, activation='softmax'))\n",
        "modelvgg.summary()"
      ],
      "execution_count": 0,
      "outputs": [
        {
          "output_type": "stream",
          "text": [
            "Model: \"sequential_2\"\n",
            "_________________________________________________________________\n",
            "Layer (type)                 Output Shape              Param #   \n",
            "=================================================================\n",
            "conv2d_10 (Conv2D)           (None, 32, 32, 32)        896       \n",
            "_________________________________________________________________\n",
            "conv2d_11 (Conv2D)           (None, 32, 32, 32)        9248      \n",
            "_________________________________________________________________\n",
            "max_pooling2d_5 (MaxPooling2 (None, 16, 16, 32)        0         \n",
            "_________________________________________________________________\n",
            "conv2d_12 (Conv2D)           (None, 16, 16, 64)        18496     \n",
            "_________________________________________________________________\n",
            "conv2d_13 (Conv2D)           (None, 16, 16, 64)        36928     \n",
            "_________________________________________________________________\n",
            "max_pooling2d_6 (MaxPooling2 (None, 8, 8, 64)          0         \n",
            "_________________________________________________________________\n",
            "conv2d_14 (Conv2D)           (None, 8, 8, 128)         73856     \n",
            "_________________________________________________________________\n",
            "conv2d_15 (Conv2D)           (None, 8, 8, 128)         147584    \n",
            "_________________________________________________________________\n",
            "max_pooling2d_7 (MaxPooling2 (None, 4, 4, 128)         0         \n",
            "_________________________________________________________________\n",
            "flatten_2 (Flatten)          (None, 2048)              0         \n",
            "_________________________________________________________________\n",
            "dense_4 (Dense)              (None, 128)               262272    \n",
            "_________________________________________________________________\n",
            "dense_5 (Dense)              (None, 10)                1290      \n",
            "=================================================================\n",
            "Total params: 550,570\n",
            "Trainable params: 550,570\n",
            "Non-trainable params: 0\n",
            "_________________________________________________________________\n"
          ],
          "name": "stdout"
        }
      ]
    },
    {
      "cell_type": "code",
      "metadata": {
        "id": "xndYSHaVXYqw",
        "colab_type": "code",
        "colab": {}
      },
      "source": [
        "opt = Adam(lr=LEARN_RATE)\n",
        "modelvgg.compile(loss='categorical_crossentropy', optimizer=opt, metrics=['accuracy'])"
      ],
      "execution_count": 0,
      "outputs": []
    },
    {
      "cell_type": "code",
      "metadata": {
        "id": "ZjjMLSQ8XfRo",
        "colab_type": "code",
        "colab": {}
      },
      "source": [
        "h = modelvgg.fit(x_train1, y_train1, epochs=EPOCHS, batch_size=BATCH_SIZE, validation_split=0.2)"
      ],
      "execution_count": 0,
      "outputs": []
    },
    {
      "cell_type": "code",
      "metadata": {
        "id": "bxRpZh7QYblP",
        "colab_type": "code",
        "outputId": "fda37fc6-73d3-470b-95c9-a902c8a48ec3",
        "colab": {
          "base_uri": "https://localhost:8080/",
          "height": 204
        }
      },
      "source": [
        "dfResult = pd.DataFrame(h.history)\n",
        "dfResult.head()"
      ],
      "execution_count": 0,
      "outputs": [
        {
          "output_type": "execute_result",
          "data": {
            "text/html": [
              "<div>\n",
              "<style scoped>\n",
              "    .dataframe tbody tr th:only-of-type {\n",
              "        vertical-align: middle;\n",
              "    }\n",
              "\n",
              "    .dataframe tbody tr th {\n",
              "        vertical-align: top;\n",
              "    }\n",
              "\n",
              "    .dataframe thead th {\n",
              "        text-align: right;\n",
              "    }\n",
              "</style>\n",
              "<table border=\"1\" class=\"dataframe\">\n",
              "  <thead>\n",
              "    <tr style=\"text-align: right;\">\n",
              "      <th></th>\n",
              "      <th>loss</th>\n",
              "      <th>accuracy</th>\n",
              "      <th>val_loss</th>\n",
              "      <th>val_accuracy</th>\n",
              "    </tr>\n",
              "  </thead>\n",
              "  <tbody>\n",
              "    <tr>\n",
              "      <th>0</th>\n",
              "      <td>2.323596</td>\n",
              "      <td>0.266825</td>\n",
              "      <td>1.925311</td>\n",
              "      <td>0.3149</td>\n",
              "    </tr>\n",
              "    <tr>\n",
              "      <th>1</th>\n",
              "      <td>1.835025</td>\n",
              "      <td>0.363650</td>\n",
              "      <td>1.715379</td>\n",
              "      <td>0.4109</td>\n",
              "    </tr>\n",
              "    <tr>\n",
              "      <th>2</th>\n",
              "      <td>1.703264</td>\n",
              "      <td>0.420500</td>\n",
              "      <td>1.681762</td>\n",
              "      <td>0.4347</td>\n",
              "    </tr>\n",
              "    <tr>\n",
              "      <th>3</th>\n",
              "      <td>1.612208</td>\n",
              "      <td>0.458800</td>\n",
              "      <td>1.582525</td>\n",
              "      <td>0.4769</td>\n",
              "    </tr>\n",
              "    <tr>\n",
              "      <th>4</th>\n",
              "      <td>1.547063</td>\n",
              "      <td>0.484850</td>\n",
              "      <td>1.503635</td>\n",
              "      <td>0.5095</td>\n",
              "    </tr>\n",
              "  </tbody>\n",
              "</table>\n",
              "</div>"
            ],
            "text/plain": [
              "       loss  accuracy  val_loss  val_accuracy\n",
              "0  2.323596  0.266825  1.925311        0.3149\n",
              "1  1.835025  0.363650  1.715379        0.4109\n",
              "2  1.703264  0.420500  1.681762        0.4347\n",
              "3  1.612208  0.458800  1.582525        0.4769\n",
              "4  1.547063  0.484850  1.503635        0.5095"
            ]
          },
          "metadata": {
            "tags": []
          },
          "execution_count": 27
        }
      ]
    },
    {
      "cell_type": "code",
      "metadata": {
        "id": "xNS1ItB7YjpE",
        "colab_type": "code",
        "outputId": "b8429f76-0b19-478e-ace7-b40dffa08533",
        "colab": {
          "base_uri": "https://localhost:8080/",
          "height": 337
        }
      },
      "source": [
        "plt.figure(figsize=(10, 5))\n",
        "plt.subplot(1,2,1)\n",
        "sns.lineplot(x=range(EPOCHS), y=dfResult.loss, label='train_loss')\n",
        "sns.lineplot(x=range(EPOCHS), y=dfResult.val_loss, label='val_loss')\n",
        "plt.subplot(1,2,2)\n",
        "sns.lineplot(x=range(EPOCHS), y=dfResult.accuracy, label='train_accuracy')\n",
        "sns.lineplot(x=range(EPOCHS), y=dfResult.val_accuracy, label='val_accuracy')"
      ],
      "execution_count": 0,
      "outputs": [
        {
          "output_type": "execute_result",
          "data": {
            "text/plain": [
              "<matplotlib.axes._subplots.AxesSubplot at 0x7f75de37bef0>"
            ]
          },
          "metadata": {
            "tags": []
          },
          "execution_count": 28
        },
        {
          "output_type": "display_data",
          "data": {
            "image/png": "[encoded data removed]",
            "text/plain": [
              "<Figure size 720x360 with 2 Axes>"
            ]
          },
          "metadata": {
            "tags": [],
            "needs_background": "light"
          }
        }
      ]
    },
    {
      "cell_type": "markdown",
      "metadata": {
        "id": "eDkMJ1w4LmFv",
        "colab_type": "text"
      },
      "source": [
        "可以看出 overfitting 一樣是發生了 (不過發生得比較晚)\n",
        "\n",
        "同時可以觀察到 L2 regularization 影響到的模型的準確度"
      ]
    },
    {
      "cell_type": "code",
      "metadata": {
        "colab_type": "code",
        "outputId": "effc7343-95d5-4843-bdbd-cdcccd3746c0",
        "id": "cVy511W-Y4hy",
        "colab": {
          "base_uri": "https://localhost:8080/",
          "height": 51
        }
      },
      "source": [
        "print(f'The best val_accuracy is: {dfResult.val_accuracy.max()}')\n",
        "print(f'The best train_accuracy is: {dfResult.accuracy.max()}')"
      ],
      "execution_count": 0,
      "outputs": [
        {
          "output_type": "stream",
          "text": [
            "The best val_accuracy is: 0.6995999813079834\n",
            "The best train_accuracy is: 0.9402999877929688\n"
          ],
          "name": "stdout"
        }
      ]
    },
    {
      "cell_type": "code",
      "metadata": {
        "colab_type": "code",
        "outputId": "9c672222-4292-485f-b2ca-32fe766b117d",
        "id": "vlxqbUyHY4h1",
        "colab": {
          "base_uri": "https://localhost:8080/",
          "height": 68
        }
      },
      "source": [
        "eloss, eacc = modelvgg.evaluate(x_test1, y_test1)\n",
        "print(f'Loss(test): {eloss}')\n",
        "print(f'Accuracy(test): {eacc}')"
      ],
      "execution_count": 0,
      "outputs": [
        {
          "output_type": "stream",
          "text": [
            "313/313 [==============================] - 1s 3ms/step - loss: 1.9666 - accuracy: 0.6642\n",
            "Loss(test): 1.9665777683258057\n",
            "Accuracy(test): 0.6642000079154968\n"
          ],
          "name": "stdout"
        }
      ]
    },
    {
      "cell_type": "markdown",
      "metadata": {
        "id": "6cMhDTdTczL4",
        "colab_type": "text"
      },
      "source": [
        "## Dropout\n",
        "\n",
        "底下的實驗中，加入了 dropout，並觀察它對於 overfitting 以及效能的影響。"
      ]
    },
    {
      "cell_type": "code",
      "metadata": {
        "colab_type": "code",
        "outputId": "a15baf1f-8572-4490-d6c2-9ad3a9d67941",
        "id": "QgkrbwNldDGh",
        "colab": {
          "base_uri": "https://localhost:8080/",
          "height": 697
        }
      },
      "source": [
        "modelvgg = Sequential()\n",
        "modelvgg.add(Conv2D(32, (3, 3), activation='relu', padding='same', input_shape=INPUT_IMG_SHAPE))\n",
        "modelvgg.add(Conv2D(32, (3, 3), activation='relu', padding='same' ))\n",
        "modelvgg.add(MaxPooling2D((2, 2)))\n",
        "modelvgg.add(Dropout(0.2))\n",
        "modelvgg.add(Conv2D(64, (3, 3), activation='relu', padding='same'))\n",
        "modelvgg.add(Conv2D(64, (3, 3), activation='relu', padding='same'))\n",
        "modelvgg.add(MaxPooling2D((2, 2)))\n",
        "modelvgg.add(Dropout(0.2))\n",
        "modelvgg.add(Conv2D(128, (3, 3), activation='relu', padding='same'))\n",
        "modelvgg.add(Conv2D(128, (3, 3), activation='relu', padding='same'))\n",
        "modelvgg.add(MaxPooling2D((2, 2)))\n",
        "modelvgg.add(Dropout(0.2))\n",
        "modelvgg.add(Flatten())\n",
        "modelvgg.add(Dense(128, activation='relu'))\n",
        "modelvgg.add(Dropout(0.2))\n",
        "modelvgg.add(Dense(10, activation='softmax'))\n",
        "modelvgg.summary()"
      ],
      "execution_count": 0,
      "outputs": [
        {
          "output_type": "stream",
          "text": [
            "Model: \"sequential_3\"\n",
            "_________________________________________________________________\n",
            "Layer (type)                 Output Shape              Param #   \n",
            "=================================================================\n",
            "conv2d_16 (Conv2D)           (None, 32, 32, 32)        896       \n",
            "_________________________________________________________________\n",
            "conv2d_17 (Conv2D)           (None, 32, 32, 32)        9248      \n",
            "_________________________________________________________________\n",
            "max_pooling2d_8 (MaxPooling2 (None, 16, 16, 32)        0         \n",
            "_________________________________________________________________\n",
            "dropout (Dropout)            (None, 16, 16, 32)        0         \n",
            "_________________________________________________________________\n",
            "conv2d_18 (Conv2D)           (None, 16, 16, 64)        18496     \n",
            "_________________________________________________________________\n",
            "conv2d_19 (Conv2D)           (None, 16, 16, 64)        36928     \n",
            "_________________________________________________________________\n",
            "max_pooling2d_9 (MaxPooling2 (None, 8, 8, 64)          0         \n",
            "_________________________________________________________________\n",
            "dropout_1 (Dropout)          (None, 8, 8, 64)          0         \n",
            "_________________________________________________________________\n",
            "conv2d_20 (Conv2D)           (None, 8, 8, 128)         73856     \n",
            "_________________________________________________________________\n",
            "conv2d_21 (Conv2D)           (None, 8, 8, 128)         147584    \n",
            "_________________________________________________________________\n",
            "max_pooling2d_10 (MaxPooling (None, 4, 4, 128)         0         \n",
            "_________________________________________________________________\n",
            "dropout_2 (Dropout)          (None, 4, 4, 128)         0         \n",
            "_________________________________________________________________\n",
            "flatten_3 (Flatten)          (None, 2048)              0         \n",
            "_________________________________________________________________\n",
            "dense_6 (Dense)              (None, 128)               262272    \n",
            "_________________________________________________________________\n",
            "dropout_3 (Dropout)          (None, 128)               0         \n",
            "_________________________________________________________________\n",
            "dense_7 (Dense)              (None, 10)                1290      \n",
            "=================================================================\n",
            "Total params: 550,570\n",
            "Trainable params: 550,570\n",
            "Non-trainable params: 0\n",
            "_________________________________________________________________\n"
          ],
          "name": "stdout"
        }
      ]
    },
    {
      "cell_type": "code",
      "metadata": {
        "colab_type": "code",
        "id": "hbxM4yG3dDGo",
        "colab": {}
      },
      "source": [
        "opt = Adam(lr=LEARN_RATE)\n",
        "modelvgg.compile(loss='categorical_crossentropy', optimizer=opt, metrics=['accuracy'])"
      ],
      "execution_count": 0,
      "outputs": []
    },
    {
      "cell_type": "code",
      "metadata": {
        "colab_type": "code",
        "id": "vd5ewbnDdDGr",
        "colab": {}
      },
      "source": [
        "h = modelvgg.fit(x_train1, y_train1, epochs=EPOCHS, batch_size=BATCH_SIZE, validation_split=0.2)"
      ],
      "execution_count": 0,
      "outputs": []
    },
    {
      "cell_type": "code",
      "metadata": {
        "colab_type": "code",
        "outputId": "c77ad672-fdd7-4e7d-b58d-f99dbba1328c",
        "id": "8mkFPzM3dDGu",
        "colab": {
          "base_uri": "https://localhost:8080/",
          "height": 204
        }
      },
      "source": [
        "dfResult = pd.DataFrame(h.history)\n",
        "dfResult.head()"
      ],
      "execution_count": 0,
      "outputs": [
        {
          "output_type": "execute_result",
          "data": {
            "text/html": [
              "<div>\n",
              "<style scoped>\n",
              "    .dataframe tbody tr th:only-of-type {\n",
              "        vertical-align: middle;\n",
              "    }\n",
              "\n",
              "    .dataframe tbody tr th {\n",
              "        vertical-align: top;\n",
              "    }\n",
              "\n",
              "    .dataframe thead th {\n",
              "        text-align: right;\n",
              "    }\n",
              "</style>\n",
              "<table border=\"1\" class=\"dataframe\">\n",
              "  <thead>\n",
              "    <tr style=\"text-align: right;\">\n",
              "      <th></th>\n",
              "      <th>loss</th>\n",
              "      <th>accuracy</th>\n",
              "      <th>val_loss</th>\n",
              "      <th>val_accuracy</th>\n",
              "    </tr>\n",
              "  </thead>\n",
              "  <tbody>\n",
              "    <tr>\n",
              "      <th>0</th>\n",
              "      <td>1.762314</td>\n",
              "      <td>0.347275</td>\n",
              "      <td>1.389291</td>\n",
              "      <td>0.4888</td>\n",
              "    </tr>\n",
              "    <tr>\n",
              "      <th>1</th>\n",
              "      <td>1.341048</td>\n",
              "      <td>0.514800</td>\n",
              "      <td>1.137085</td>\n",
              "      <td>0.5908</td>\n",
              "    </tr>\n",
              "    <tr>\n",
              "      <th>2</th>\n",
              "      <td>1.138010</td>\n",
              "      <td>0.592175</td>\n",
              "      <td>1.018509</td>\n",
              "      <td>0.6404</td>\n",
              "    </tr>\n",
              "    <tr>\n",
              "      <th>3</th>\n",
              "      <td>1.007231</td>\n",
              "      <td>0.644425</td>\n",
              "      <td>0.901684</td>\n",
              "      <td>0.6851</td>\n",
              "    </tr>\n",
              "    <tr>\n",
              "      <th>4</th>\n",
              "      <td>0.904054</td>\n",
              "      <td>0.679250</td>\n",
              "      <td>0.843363</td>\n",
              "      <td>0.7020</td>\n",
              "    </tr>\n",
              "  </tbody>\n",
              "</table>\n",
              "</div>"
            ],
            "text/plain": [
              "       loss  accuracy  val_loss  val_accuracy\n",
              "0  1.762314  0.347275  1.389291        0.4888\n",
              "1  1.341048  0.514800  1.137085        0.5908\n",
              "2  1.138010  0.592175  1.018509        0.6404\n",
              "3  1.007231  0.644425  0.901684        0.6851\n",
              "4  0.904054  0.679250  0.843363        0.7020"
            ]
          },
          "metadata": {
            "tags": []
          },
          "execution_count": 34
        }
      ]
    },
    {
      "cell_type": "code",
      "metadata": {
        "colab_type": "code",
        "outputId": "b171e1ad-fc55-4763-97b8-a65622559720",
        "id": "j0iHWS8OdDGw",
        "colab": {
          "base_uri": "https://localhost:8080/",
          "height": 337
        }
      },
      "source": [
        "plt.figure(figsize=(10, 5))\n",
        "plt.subplot(1,2,1)\n",
        "sns.lineplot(x=range(EPOCHS), y=dfResult.loss, label='train_loss')\n",
        "sns.lineplot(x=range(EPOCHS), y=dfResult.val_loss, label='val_loss')\n",
        "plt.subplot(1,2,2)\n",
        "sns.lineplot(x=range(EPOCHS), y=dfResult.accuracy, label='train_accuracy')\n",
        "sns.lineplot(x=range(EPOCHS), y=dfResult.val_accuracy, label='val_accuracy')"
      ],
      "execution_count": 0,
      "outputs": [
        {
          "output_type": "execute_result",
          "data": {
            "text/plain": [
              "<matplotlib.axes._subplots.AxesSubplot at 0x7f75de259358>"
            ]
          },
          "metadata": {
            "tags": []
          },
          "execution_count": 35
        },
        {
          "output_type": "display_data",
          "data": {
            "image/png": "[encoded data removed]",
            "text/plain": [
              "<Figure size 720x360 with 2 Axes>"
            ]
          },
          "metadata": {
            "tags": [],
            "needs_background": "light"
          }
        }
      ]
    },
    {
      "cell_type": "markdown",
      "metadata": {
        "id": "FfeTk3GvMGB_",
        "colab_type": "text"
      },
      "source": [
        "一樣是有發生 overfitting，但時間亦有延後。\n",
        "\n",
        "而且 dropout 讓 accuracy 提升到了 82%. "
      ]
    },
    {
      "cell_type": "code",
      "metadata": {
        "colab_type": "code",
        "outputId": "d4bb9771-8184-4100-f6d9-11680d9e1c38",
        "id": "L4CFtFYRdDGy",
        "colab": {
          "base_uri": "https://localhost:8080/",
          "height": 51
        }
      },
      "source": [
        "print(f'The best val_accuracy is: {dfResult.val_accuracy.max()}')\n",
        "print(f'The best train_accuracy is: {dfResult.accuracy.max()}')"
      ],
      "execution_count": 0,
      "outputs": [
        {
          "output_type": "stream",
          "text": [
            "The best val_accuracy is: 0.8255000114440918\n",
            "The best train_accuracy is: 0.963824987411499\n"
          ],
          "name": "stdout"
        }
      ]
    },
    {
      "cell_type": "code",
      "metadata": {
        "colab_type": "code",
        "outputId": "ad2612ca-0eff-45b1-9b23-3483fd80ab92",
        "id": "5QsFedwLdDG0",
        "colab": {
          "base_uri": "https://localhost:8080/",
          "height": 68
        }
      },
      "source": [
        "eloss, eacc = modelvgg.evaluate(x_test1, y_test1)\n",
        "print(f'Loss(test): {eloss}')\n",
        "print(f'Accuracy(test): {eacc}')"
      ],
      "execution_count": 0,
      "outputs": [
        {
          "output_type": "stream",
          "text": [
            "313/313 [==============================] - 1s 3ms/step - loss: 0.9182 - accuracy: 0.8180\n",
            "Loss(test): 0.9181997179985046\n",
            "Accuracy(test): 0.8180000185966492\n"
          ],
          "name": "stdout"
        }
      ]
    },
    {
      "cell_type": "markdown",
      "metadata": {
        "colab_type": "text",
        "id": "pPNDzYvWjBP0"
      },
      "source": [
        "## Dropout + L2\n",
        "\n",
        "那 dropout 配合 L2 regularization 的影響為何？"
      ]
    },
    {
      "cell_type": "code",
      "metadata": {
        "colab_type": "code",
        "outputId": "84224e9c-0a6f-4d84-9349-f52528d87491",
        "id": "d8m6meDhjBP1",
        "colab": {
          "base_uri": "https://localhost:8080/",
          "height": 697
        }
      },
      "source": [
        "modelvgg = Sequential()\n",
        "modelvgg.add(Conv2D(32, (3, 3), activation='relu', padding='same', input_shape=INPUT_IMG_SHAPE, kernel_regularizer=l2(L2)))\n",
        "modelvgg.add(Conv2D(32, (3, 3), activation='relu', padding='same' , kernel_regularizer=l2(L2)))\n",
        "modelvgg.add(MaxPooling2D((2, 2)))\n",
        "modelvgg.add(Dropout(0.4))\n",
        "modelvgg.add(Conv2D(64, (3, 3), activation='relu', padding='same', kernel_regularizer=l2(L2)))\n",
        "modelvgg.add(Conv2D(64, (3, 3), activation='relu', padding='same', kernel_regularizer=l2(L2)))\n",
        "modelvgg.add(MaxPooling2D((2, 2)))\n",
        "modelvgg.add(Dropout(0.4))\n",
        "modelvgg.add(Conv2D(128, (3, 3), activation='relu', padding='same', kernel_regularizer=l2(L2)))\n",
        "modelvgg.add(Conv2D(128, (3, 3), activation='relu', padding='same', kernel_regularizer=l2(L2)))\n",
        "modelvgg.add(MaxPooling2D((2, 2)))\n",
        "modelvgg.add(Dropout(0.4))\n",
        "modelvgg.add(Flatten())\n",
        "modelvgg.add(Dense(128, activation='relu'))\n",
        "modelvgg.add(Dropout(0.4))\n",
        "modelvgg.add(Dense(10, activation='softmax'))\n",
        "modelvgg.summary()"
      ],
      "execution_count": 0,
      "outputs": [
        {
          "output_type": "stream",
          "text": [
            "Model: \"sequential_4\"\n",
            "_________________________________________________________________\n",
            "Layer (type)                 Output Shape              Param #   \n",
            "=================================================================\n",
            "conv2d_22 (Conv2D)           (None, 32, 32, 32)        896       \n",
            "_________________________________________________________________\n",
            "conv2d_23 (Conv2D)           (None, 32, 32, 32)        9248      \n",
            "_________________________________________________________________\n",
            "max_pooling2d_11 (MaxPooling (None, 16, 16, 32)        0         \n",
            "_________________________________________________________________\n",
            "dropout_4 (Dropout)          (None, 16, 16, 32)        0         \n",
            "_________________________________________________________________\n",
            "conv2d_24 (Conv2D)           (None, 16, 16, 64)        18496     \n",
            "_________________________________________________________________\n",
            "conv2d_25 (Conv2D)           (None, 16, 16, 64)        36928     \n",
            "_________________________________________________________________\n",
            "max_pooling2d_12 (MaxPooling (None, 8, 8, 64)          0         \n",
            "_________________________________________________________________\n",
            "dropout_5 (Dropout)          (None, 8, 8, 64)          0         \n",
            "_________________________________________________________________\n",
            "conv2d_26 (Conv2D)           (None, 8, 8, 128)         73856     \n",
            "_________________________________________________________________\n",
            "conv2d_27 (Conv2D)           (None, 8, 8, 128)         147584    \n",
            "_________________________________________________________________\n",
            "max_pooling2d_13 (MaxPooling (None, 4, 4, 128)         0         \n",
            "_________________________________________________________________\n",
            "dropout_6 (Dropout)          (None, 4, 4, 128)         0         \n",
            "_________________________________________________________________\n",
            "flatten_4 (Flatten)          (None, 2048)              0         \n",
            "_________________________________________________________________\n",
            "dense_8 (Dense)              (None, 128)               262272    \n",
            "_________________________________________________________________\n",
            "dropout_7 (Dropout)          (None, 128)               0         \n",
            "_________________________________________________________________\n",
            "dense_9 (Dense)              (None, 10)                1290      \n",
            "=================================================================\n",
            "Total params: 550,570\n",
            "Trainable params: 550,570\n",
            "Non-trainable params: 0\n",
            "_________________________________________________________________\n"
          ],
          "name": "stdout"
        }
      ]
    },
    {
      "cell_type": "code",
      "metadata": {
        "colab_type": "code",
        "id": "ZAZCVD9_jBP3",
        "colab": {}
      },
      "source": [
        "opt = Adam(lr=LEARN_RATE)\n",
        "modelvgg.compile(loss='categorical_crossentropy', optimizer=opt, metrics=['accuracy'])"
      ],
      "execution_count": 0,
      "outputs": []
    },
    {
      "cell_type": "code",
      "metadata": {
        "colab_type": "code",
        "id": "MO4hhXaWjBP5",
        "colab": {}
      },
      "source": [
        "h = modelvgg.fit(x_train1, y_train1, epochs=EPOCHS, batch_size=BATCH_SIZE, validation_split=0.2)"
      ],
      "execution_count": 0,
      "outputs": []
    },
    {
      "cell_type": "code",
      "metadata": {
        "colab_type": "code",
        "outputId": "6c1d198a-cb4a-4d3b-c63a-8b86b448579d",
        "id": "nTpOYVu4jBP7",
        "colab": {
          "base_uri": "https://localhost:8080/",
          "height": 204
        }
      },
      "source": [
        "dfResult = pd.DataFrame(h.history)\n",
        "dfResult.head()"
      ],
      "execution_count": 0,
      "outputs": [
        {
          "output_type": "execute_result",
          "data": {
            "text/html": [
              "<div>\n",
              "<style scoped>\n",
              "    .dataframe tbody tr th:only-of-type {\n",
              "        vertical-align: middle;\n",
              "    }\n",
              "\n",
              "    .dataframe tbody tr th {\n",
              "        vertical-align: top;\n",
              "    }\n",
              "\n",
              "    .dataframe thead th {\n",
              "        text-align: right;\n",
              "    }\n",
              "</style>\n",
              "<table border=\"1\" class=\"dataframe\">\n",
              "  <thead>\n",
              "    <tr style=\"text-align: right;\">\n",
              "      <th></th>\n",
              "      <th>loss</th>\n",
              "      <th>accuracy</th>\n",
              "      <th>val_loss</th>\n",
              "      <th>val_accuracy</th>\n",
              "    </tr>\n",
              "  </thead>\n",
              "  <tbody>\n",
              "    <tr>\n",
              "      <th>0</th>\n",
              "      <td>2.054308</td>\n",
              "      <td>0.268000</td>\n",
              "      <td>1.655621</td>\n",
              "      <td>0.3913</td>\n",
              "    </tr>\n",
              "    <tr>\n",
              "      <th>1</th>\n",
              "      <td>1.661664</td>\n",
              "      <td>0.405750</td>\n",
              "      <td>1.482684</td>\n",
              "      <td>0.4751</td>\n",
              "    </tr>\n",
              "    <tr>\n",
              "      <th>2</th>\n",
              "      <td>1.534387</td>\n",
              "      <td>0.462775</td>\n",
              "      <td>1.390989</td>\n",
              "      <td>0.5185</td>\n",
              "    </tr>\n",
              "    <tr>\n",
              "      <th>3</th>\n",
              "      <td>1.463119</td>\n",
              "      <td>0.493750</td>\n",
              "      <td>1.355674</td>\n",
              "      <td>0.5424</td>\n",
              "    </tr>\n",
              "    <tr>\n",
              "      <th>4</th>\n",
              "      <td>1.405929</td>\n",
              "      <td>0.516775</td>\n",
              "      <td>1.230275</td>\n",
              "      <td>0.5899</td>\n",
              "    </tr>\n",
              "  </tbody>\n",
              "</table>\n",
              "</div>"
            ],
            "text/plain": [
              "       loss  accuracy  val_loss  val_accuracy\n",
              "0  2.054308  0.268000  1.655621        0.3913\n",
              "1  1.661664  0.405750  1.482684        0.4751\n",
              "2  1.534387  0.462775  1.390989        0.5185\n",
              "3  1.463119  0.493750  1.355674        0.5424\n",
              "4  1.405929  0.516775  1.230275        0.5899"
            ]
          },
          "metadata": {
            "tags": []
          },
          "execution_count": 41
        }
      ]
    },
    {
      "cell_type": "code",
      "metadata": {
        "colab_type": "code",
        "outputId": "8d38297c-af5a-4683-9b4c-888a6b05ceec",
        "id": "DAXNEgtcjBP9",
        "colab": {
          "base_uri": "https://localhost:8080/",
          "height": 337
        }
      },
      "source": [
        "plt.figure(figsize=(10, 5))\n",
        "plt.subplot(1,2,1)\n",
        "sns.lineplot(x=range(EPOCHS), y=dfResult.loss, label='train_loss')\n",
        "sns.lineplot(x=range(EPOCHS), y=dfResult.val_loss, label='val_loss')\n",
        "plt.subplot(1,2,2)\n",
        "sns.lineplot(x=range(EPOCHS), y=dfResult.accuracy, label='train_accuracy')\n",
        "sns.lineplot(x=range(EPOCHS), y=dfResult.val_accuracy, label='val_accuracy')"
      ],
      "execution_count": 0,
      "outputs": [
        {
          "output_type": "execute_result",
          "data": {
            "text/plain": [
              "<matplotlib.axes._subplots.AxesSubplot at 0x7f755c7f1a90>"
            ]
          },
          "metadata": {
            "tags": []
          },
          "execution_count": 42
        },
        {
          "output_type": "display_data",
          "data": {
            "image/png": "[encoded data removed]",
            "text/plain": [
              "<Figure size 720x360 with 2 Axes>"
            ]
          },
          "metadata": {
            "tags": [],
            "needs_background": "light"
          }
        }
      ]
    },
    {
      "cell_type": "markdown",
      "metadata": {
        "id": "4sr_tMX1Mfl_",
        "colab_type": "text"
      },
      "source": [
        "可以看出 overfitting 的情況大大地改善了。\n",
        "\n",
        "但也影響到了準確度"
      ]
    },
    {
      "cell_type": "code",
      "metadata": {
        "colab_type": "code",
        "outputId": "05a92fe0-6c35-4c78-d13c-4bbfe9ad7ff2",
        "id": "0FMhbpKKjBP_",
        "colab": {
          "base_uri": "https://localhost:8080/",
          "height": 51
        }
      },
      "source": [
        "print(f'The best val_accuracy is: {dfResult.val_accuracy.max()}')\n",
        "print(f'The best train_accuracy is: {dfResult.accuracy.max()}')"
      ],
      "execution_count": 0,
      "outputs": [
        {
          "output_type": "stream",
          "text": [
            "The best val_accuracy is: 0.8176000118255615\n",
            "The best train_accuracy is: 0.7792750000953674\n"
          ],
          "name": "stdout"
        }
      ]
    },
    {
      "cell_type": "code",
      "metadata": {
        "colab_type": "code",
        "outputId": "95ec4504-86e5-45bf-bccd-c10b8566a522",
        "id": "pWIIIYw4jBQC",
        "colab": {
          "base_uri": "https://localhost:8080/",
          "height": 68
        }
      },
      "source": [
        "eloss, eacc = modelvgg.evaluate(x_test1, y_test1)\n",
        "print(f'Loss(test): {eloss}')\n",
        "print(f'Accuracy(test): {eacc}')"
      ],
      "execution_count": 0,
      "outputs": [
        {
          "output_type": "stream",
          "text": [
            "313/313 [==============================] - 1s 3ms/step - loss: 0.7684 - accuracy: 0.7916\n",
            "Loss(test): 0.7683835029602051\n",
            "Accuracy(test): 0.7915999889373779\n"
          ],
          "name": "stdout"
        }
      ]
    },
    {
      "cell_type": "markdown",
      "metadata": {
        "colab_type": "text",
        "id": "pEpD0986oEQr"
      },
      "source": [
        "## Dropout + L2 + Data Arugumentaion"
      ]
    },
    {
      "cell_type": "code",
      "metadata": {
        "id": "TMWBGr5uzV2m",
        "colab_type": "code",
        "colab": {}
      },
      "source": [
        "train_datagen = ImageDataGenerator(\n",
        "    #rescale=1./255,  # 每一像素都做正規化\n",
        "    #rotation_range=10,  #隨機將圖片轉動角度\n",
        "    width_shift_range=0.1, #水平位移圖片\n",
        "    height_shift_range=0.1, # 上下位移圖片\n",
        "    #zoom_range=0.4, # 隨機將圖片放大\n",
        "    #channel_shift_range=50, # 隨機修正圖片的顏色\n",
        "    horizontal_flip=True, # 隨機水平翻轉圖片\n",
        "    validation_split = 0.25 # 75% 的圖片會用來做訓練\n",
        ")"
      ],
      "execution_count": 0,
      "outputs": []
    },
    {
      "cell_type": "code",
      "metadata": {
        "id": "CAHMAE0Gz-2W",
        "colab_type": "code",
        "colab": {}
      },
      "source": [
        "train_generator = train_datagen.flow(x_train1, y_train1, batch_size=BATCH_SIZE, subset='training')"
      ],
      "execution_count": 0,
      "outputs": []
    },
    {
      "cell_type": "code",
      "metadata": {
        "id": "qgVSP_Hq1XqK",
        "colab_type": "code",
        "colab": {}
      },
      "source": [
        "'''\n",
        "val_datagen 則是會產生驗證集的資料。\n",
        "驗證集的資料不需要做資料的變換，只要原封不動地把資料丟入模型，並驗證其準確率即可 \n",
        "'''\n",
        "val_datagen = ImageDataGenerator(\n",
        "    #rescale=1./255,  # 每一像素都做正規化\n",
        "    validation_split = 0.25\n",
        ")"
      ],
      "execution_count": 0,
      "outputs": []
    },
    {
      "cell_type": "code",
      "metadata": {
        "id": "BknQ7mv01dNe",
        "colab_type": "code",
        "colab": {}
      },
      "source": [
        "val_generator = val_datagen.flow(x_train1, y_train1, batch_size=BATCH_SIZE, subset='validation')"
      ],
      "execution_count": 0,
      "outputs": []
    },
    {
      "cell_type": "code",
      "metadata": {
        "colab_type": "code",
        "outputId": "f8a8ef47-80f7-4629-f379-0e444e7181b6",
        "id": "imXciO4BoEQ5",
        "colab": {
          "base_uri": "https://localhost:8080/",
          "height": 697
        }
      },
      "source": [
        "modelvgg = Sequential()\n",
        "modelvgg.add(Conv2D(32, (3, 3), activation='relu', padding='same', input_shape=INPUT_IMG_SHAPE, kernel_regularizer=l2(L2)))\n",
        "modelvgg.add(Conv2D(32, (3, 3), activation='relu', padding='same' , kernel_regularizer=l2(L2)))\n",
        "modelvgg.add(MaxPooling2D((2, 2)))\n",
        "modelvgg.add(Dropout(0.4))\n",
        "modelvgg.add(Conv2D(64, (3, 3), activation='relu', padding='same', kernel_regularizer=l2(L2)))\n",
        "modelvgg.add(Conv2D(64, (3, 3), activation='relu', padding='same', kernel_regularizer=l2(L2)))\n",
        "modelvgg.add(MaxPooling2D((2, 2)))\n",
        "modelvgg.add(Dropout(0.4))\n",
        "modelvgg.add(Conv2D(128, (3, 3), activation='relu', padding='same', kernel_regularizer=l2(L2)))\n",
        "modelvgg.add(Conv2D(128, (3, 3), activation='relu', padding='same', kernel_regularizer=l2(L2)))\n",
        "modelvgg.add(MaxPooling2D((2, 2)))\n",
        "modelvgg.add(Dropout(0.4))\n",
        "modelvgg.add(Flatten())\n",
        "modelvgg.add(Dense(128, activation='relu'))\n",
        "modelvgg.add(Dropout(0.4))\n",
        "modelvgg.add(Dense(10, activation='softmax'))\n",
        "modelvgg.summary()"
      ],
      "execution_count": 0,
      "outputs": [
        {
          "output_type": "stream",
          "text": [
            "Model: \"sequential_5\"\n",
            "_________________________________________________________________\n",
            "Layer (type)                 Output Shape              Param #   \n",
            "=================================================================\n",
            "conv2d_28 (Conv2D)           (None, 32, 32, 32)        896       \n",
            "_________________________________________________________________\n",
            "conv2d_29 (Conv2D)           (None, 32, 32, 32)        9248      \n",
            "_________________________________________________________________\n",
            "max_pooling2d_14 (MaxPooling (None, 16, 16, 32)        0         \n",
            "_________________________________________________________________\n",
            "dropout_8 (Dropout)          (None, 16, 16, 32)        0         \n",
            "_________________________________________________________________\n",
            "conv2d_30 (Conv2D)           (None, 16, 16, 64)        18496     \n",
            "_________________________________________________________________\n",
            "conv2d_31 (Conv2D)           (None, 16, 16, 64)        36928     \n",
            "_________________________________________________________________\n",
            "max_pooling2d_15 (MaxPooling (None, 8, 8, 64)          0         \n",
            "_________________________________________________________________\n",
            "dropout_9 (Dropout)          (None, 8, 8, 64)          0         \n",
            "_________________________________________________________________\n",
            "conv2d_32 (Conv2D)           (None, 8, 8, 128)         73856     \n",
            "_________________________________________________________________\n",
            "conv2d_33 (Conv2D)           (None, 8, 8, 128)         147584    \n",
            "_________________________________________________________________\n",
            "max_pooling2d_16 (MaxPooling (None, 4, 4, 128)         0         \n",
            "_________________________________________________________________\n",
            "dropout_10 (Dropout)         (None, 4, 4, 128)         0         \n",
            "_________________________________________________________________\n",
            "flatten_5 (Flatten)          (None, 2048)              0         \n",
            "_________________________________________________________________\n",
            "dense_10 (Dense)             (None, 128)               262272    \n",
            "_________________________________________________________________\n",
            "dropout_11 (Dropout)         (None, 128)               0         \n",
            "_________________________________________________________________\n",
            "dense_11 (Dense)             (None, 10)                1290      \n",
            "=================================================================\n",
            "Total params: 550,570\n",
            "Trainable params: 550,570\n",
            "Non-trainable params: 0\n",
            "_________________________________________________________________\n"
          ],
          "name": "stdout"
        }
      ]
    },
    {
      "cell_type": "code",
      "metadata": {
        "colab_type": "code",
        "id": "1ZA4_7-ooERB",
        "colab": {}
      },
      "source": [
        "opt = Adam(lr=LEARN_RATE)\n",
        "modelvgg.compile(loss='categorical_crossentropy', optimizer=opt, metrics=['accuracy'])"
      ],
      "execution_count": 0,
      "outputs": []
    },
    {
      "cell_type": "code",
      "metadata": {
        "colab_type": "code",
        "id": "K3xkFurAoERF",
        "colab": {}
      },
      "source": [
        "#h = modelvgg.fit(x_train1, y_train1, epochs=40, batch_size=512, validation_split=0.2)\n",
        "h = modelvgg.fit(train_generator, validation_data=val_generator, epochs=EPOCHS)"
      ],
      "execution_count": 0,
      "outputs": []
    },
    {
      "cell_type": "code",
      "metadata": {
        "colab_type": "code",
        "id": "9yqUS3SPoERJ",
        "colab": {}
      },
      "source": [
        "dfResult = pd.DataFrame(h.history)\n",
        "dfResult.head()"
      ],
      "execution_count": 0,
      "outputs": []
    },
    {
      "cell_type": "code",
      "metadata": {
        "colab_type": "code",
        "id": "zm2oL7u8oERM",
        "colab": {}
      },
      "source": [
        "plt.figure(figsize=(10, 5))\n",
        "plt.subplot(1,2,1)\n",
        "sns.lineplot(x=range(EPOCHS), y=dfResult.loss, label='train_loss')\n",
        "sns.lineplot(x=range(EPOCHS), y=dfResult.val_loss, label='val_loss')\n",
        "plt.subplot(1,2,2)\n",
        "sns.lineplot(x=range(EPOCHS), y=dfResult.accuracy, label='train_accuracy')\n",
        "sns.lineplot(x=range(EPOCHS), y=dfResult.val_accuracy, label='val_accuracy')"
      ],
      "execution_count": 0,
      "outputs": []
    },
    {
      "cell_type": "code",
      "metadata": {
        "colab_type": "code",
        "id": "PZ4vHyb7oERO",
        "colab": {}
      },
      "source": [
        "print(f'The best val_accuracy is: {dfResult.val_accuracy.max()}')\n",
        "print(f'The best train_accuracy is: {dfResult.accuracy.max()}')"
      ],
      "execution_count": 0,
      "outputs": []
    },
    {
      "cell_type": "code",
      "metadata": {
        "colab_type": "code",
        "id": "pBk9Lh5HoERP",
        "colab": {}
      },
      "source": [
        "eloss, eacc = modelvgg.evaluate(x_test1, y_test1)\n",
        "print(f'Loss(test): {eloss}')\n",
        "print(f'Accuracy(test): {eacc}')"
      ],
      "execution_count": 0,
      "outputs": []
    },
    {
      "cell_type": "markdown",
      "metadata": {
        "colab_type": "text",
        "id": "u4d9MI-r1ziQ"
      },
      "source": [
        "## Dropout + Data Arugumentaion"
      ]
    },
    {
      "cell_type": "code",
      "metadata": {
        "colab_type": "code",
        "id": "9ixm-Mb71ziS",
        "colab": {}
      },
      "source": [
        "train_datagen = ImageDataGenerator(\n",
        "    #rescale=1./255,  # 每一像素都做正規化\n",
        "    #rotation_range=10,  #隨機將圖片轉動角度\n",
        "    width_shift_range=0.1, #水平位移圖片\n",
        "    height_shift_range=0.1, # 上下位移圖片\n",
        "    #zoom_range=0.4, # 隨機將圖片放大\n",
        "    #channel_shift_range=50, # 隨機修正圖片的顏色\n",
        "    horizontal_flip=True, # 隨機水平翻轉圖片\n",
        "    validation_split = 0.25 # 75% 的圖片會用來做訓練\n",
        ")"
      ],
      "execution_count": 0,
      "outputs": []
    },
    {
      "cell_type": "code",
      "metadata": {
        "colab_type": "code",
        "id": "4mAdcQ9N1ziV",
        "colab": {}
      },
      "source": [
        "train_generator = train_datagen.flow(x_train1, y_train1, batch_size=BATCH_SIZE, subset='training')"
      ],
      "execution_count": 0,
      "outputs": []
    },
    {
      "cell_type": "code",
      "metadata": {
        "colab_type": "code",
        "id": "81j7VZib1ziY",
        "colab": {}
      },
      "source": [
        "'''\n",
        "val_datagen 則是會產生驗證集的資料。\n",
        "驗證集的資料不需要做資料的變換，只要原封不動地把資料丟入模型，並驗證其準確率即可 \n",
        "'''\n",
        "val_datagen = ImageDataGenerator(\n",
        "    #rescale=1./255,  # 每一像素都做正規化\n",
        "    validation_split = 0.25\n",
        ")"
      ],
      "execution_count": 0,
      "outputs": []
    },
    {
      "cell_type": "code",
      "metadata": {
        "colab_type": "code",
        "id": "5TMoUncF1zib",
        "colab": {}
      },
      "source": [
        "val_generator = val_datagen.flow(x_train1, y_train1, batch_size=BATCH_SIZE, subset='validation')"
      ],
      "execution_count": 0,
      "outputs": []
    },
    {
      "cell_type": "code",
      "metadata": {
        "colab_type": "code",
        "id": "LDhaW5VN1zid",
        "outputId": "eeae65f3-4bd7-4848-9ba7-aef2bf3cb34a",
        "colab": {
          "base_uri": "https://localhost:8080/",
          "height": 697
        }
      },
      "source": [
        "modelvgg = Sequential()\n",
        "modelvgg.add(Conv2D(32, (3, 3), activation='relu', padding='same', input_shape=INPUT_IMG_SHAPE))\n",
        "modelvgg.add(Conv2D(32, (3, 3), activation='relu', padding='same' ))\n",
        "modelvgg.add(MaxPooling2D((2, 2)))\n",
        "modelvgg.add(Dropout(0.4))\n",
        "modelvgg.add(Conv2D(64, (3, 3), activation='relu', padding='same'))\n",
        "modelvgg.add(Conv2D(64, (3, 3), activation='relu', padding='same'))\n",
        "modelvgg.add(MaxPooling2D((2, 2)))\n",
        "modelvgg.add(Dropout(0.4))\n",
        "modelvgg.add(Conv2D(128, (3, 3), activation='relu', padding='same'))\n",
        "modelvgg.add(Conv2D(128, (3, 3), activation='relu', padding='same'))\n",
        "modelvgg.add(MaxPooling2D((2, 2)))\n",
        "modelvgg.add(Dropout(0.4))\n",
        "modelvgg.add(Flatten())\n",
        "modelvgg.add(Dense(128, activation='relu'))\n",
        "modelvgg.add(Dropout(0.4))\n",
        "modelvgg.add(Dense(10, activation='softmax'))\n",
        "modelvgg.summary()"
      ],
      "execution_count": 0,
      "outputs": [
        {
          "output_type": "stream",
          "text": [
            "Model: \"sequential_1\"\n",
            "_________________________________________________________________\n",
            "Layer (type)                 Output Shape              Param #   \n",
            "=================================================================\n",
            "conv2d_4 (Conv2D)            (None, 32, 32, 32)        896       \n",
            "_________________________________________________________________\n",
            "conv2d_5 (Conv2D)            (None, 32, 32, 32)        9248      \n",
            "_________________________________________________________________\n",
            "max_pooling2d_2 (MaxPooling2 (None, 16, 16, 32)        0         \n",
            "_________________________________________________________________\n",
            "dropout (Dropout)            (None, 16, 16, 32)        0         \n",
            "_________________________________________________________________\n",
            "conv2d_6 (Conv2D)            (None, 16, 16, 64)        18496     \n",
            "_________________________________________________________________\n",
            "conv2d_7 (Conv2D)            (None, 16, 16, 64)        36928     \n",
            "_________________________________________________________________\n",
            "max_pooling2d_3 (MaxPooling2 (None, 8, 8, 64)          0         \n",
            "_________________________________________________________________\n",
            "dropout_1 (Dropout)          (None, 8, 8, 64)          0         \n",
            "_________________________________________________________________\n",
            "conv2d_8 (Conv2D)            (None, 8, 8, 128)         73856     \n",
            "_________________________________________________________________\n",
            "conv2d_9 (Conv2D)            (None, 8, 8, 128)         147584    \n",
            "_________________________________________________________________\n",
            "max_pooling2d_4 (MaxPooling2 (None, 4, 4, 128)         0         \n",
            "_________________________________________________________________\n",
            "dropout_2 (Dropout)          (None, 4, 4, 128)         0         \n",
            "_________________________________________________________________\n",
            "flatten_1 (Flatten)          (None, 2048)              0         \n",
            "_________________________________________________________________\n",
            "dense_2 (Dense)              (None, 128)               262272    \n",
            "_________________________________________________________________\n",
            "dropout_3 (Dropout)          (None, 128)               0         \n",
            "_________________________________________________________________\n",
            "dense_3 (Dense)              (None, 10)                1290      \n",
            "=================================================================\n",
            "Total params: 550,570\n",
            "Trainable params: 550,570\n",
            "Non-trainable params: 0\n",
            "_________________________________________________________________\n"
          ],
          "name": "stdout"
        }
      ]
    },
    {
      "cell_type": "code",
      "metadata": {
        "colab_type": "code",
        "id": "MXe3L-Zk1zig",
        "colab": {}
      },
      "source": [
        "opt = Adam(lr=LEARN_RATE)\n",
        "modelvgg.compile(loss='categorical_crossentropy', optimizer=opt, metrics=['accuracy'])"
      ],
      "execution_count": 0,
      "outputs": []
    },
    {
      "cell_type": "code",
      "metadata": {
        "colab_type": "code",
        "id": "SMqhAsz61zii",
        "colab": {}
      },
      "source": [
        "#h = modelvgg.fit(x_train1, y_train1, epochs=40, batch_size=512, validation_split=0.2)\n",
        "h = modelvgg.fit(train_generator, validation_data=val_generator, epochs=EPOCHS)"
      ],
      "execution_count": 0,
      "outputs": []
    },
    {
      "cell_type": "code",
      "metadata": {
        "colab_type": "code",
        "id": "VtzEUcfm1zij",
        "outputId": "87c2579d-664f-4e21-8b34-4043276624dc",
        "colab": {
          "base_uri": "https://localhost:8080/",
          "height": 204
        }
      },
      "source": [
        "dfResult = pd.DataFrame(h.history)\n",
        "dfResult.head()"
      ],
      "execution_count": 0,
      "outputs": [
        {
          "output_type": "execute_result",
          "data": {
            "text/html": [
              "<div>\n",
              "<style scoped>\n",
              "    .dataframe tbody tr th:only-of-type {\n",
              "        vertical-align: middle;\n",
              "    }\n",
              "\n",
              "    .dataframe tbody tr th {\n",
              "        vertical-align: top;\n",
              "    }\n",
              "\n",
              "    .dataframe thead th {\n",
              "        text-align: right;\n",
              "    }\n",
              "</style>\n",
              "<table border=\"1\" class=\"dataframe\">\n",
              "  <thead>\n",
              "    <tr style=\"text-align: right;\">\n",
              "      <th></th>\n",
              "      <th>loss</th>\n",
              "      <th>accuracy</th>\n",
              "      <th>val_loss</th>\n",
              "      <th>val_accuracy</th>\n",
              "    </tr>\n",
              "  </thead>\n",
              "  <tbody>\n",
              "    <tr>\n",
              "      <th>0</th>\n",
              "      <td>1.983143</td>\n",
              "      <td>0.250853</td>\n",
              "      <td>1.650215</td>\n",
              "      <td>0.38888</td>\n",
              "    </tr>\n",
              "    <tr>\n",
              "      <th>1</th>\n",
              "      <td>1.614760</td>\n",
              "      <td>0.403387</td>\n",
              "      <td>1.417704</td>\n",
              "      <td>0.47192</td>\n",
              "    </tr>\n",
              "    <tr>\n",
              "      <th>2</th>\n",
              "      <td>1.437462</td>\n",
              "      <td>0.474027</td>\n",
              "      <td>1.268438</td>\n",
              "      <td>0.53936</td>\n",
              "    </tr>\n",
              "    <tr>\n",
              "      <th>3</th>\n",
              "      <td>1.346857</td>\n",
              "      <td>0.510560</td>\n",
              "      <td>1.178548</td>\n",
              "      <td>0.57296</td>\n",
              "    </tr>\n",
              "    <tr>\n",
              "      <th>4</th>\n",
              "      <td>1.254950</td>\n",
              "      <td>0.548107</td>\n",
              "      <td>1.088391</td>\n",
              "      <td>0.59944</td>\n",
              "    </tr>\n",
              "  </tbody>\n",
              "</table>\n",
              "</div>"
            ],
            "text/plain": [
              "       loss  accuracy  val_loss  val_accuracy\n",
              "0  1.983143  0.250853  1.650215       0.38888\n",
              "1  1.614760  0.403387  1.417704       0.47192\n",
              "2  1.437462  0.474027  1.268438       0.53936\n",
              "3  1.346857  0.510560  1.178548       0.57296\n",
              "4  1.254950  0.548107  1.088391       0.59944"
            ]
          },
          "metadata": {
            "tags": []
          },
          "execution_count": 38
        }
      ]
    },
    {
      "cell_type": "code",
      "metadata": {
        "colab_type": "code",
        "id": "lpO_X_Ix1zil",
        "outputId": "4148d408-23d9-4dee-eea9-8fd6f5bddcdd",
        "colab": {
          "base_uri": "https://localhost:8080/",
          "height": 337
        }
      },
      "source": [
        "plt.figure(figsize=(10, 5))\n",
        "plt.subplot(1,2,1)\n",
        "sns.lineplot(x=range(EPOCHS), y=dfResult.loss, label='train_loss')\n",
        "sns.lineplot(x=range(EPOCHS), y=dfResult.val_loss, label='val_loss')\n",
        "plt.subplot(1,2,2)\n",
        "sns.lineplot(x=range(EPOCHS), y=dfResult.accuracy, label='train_accuracy')\n",
        "sns.lineplot(x=range(EPOCHS), y=dfResult.val_accuracy, label='val_accuracy')"
      ],
      "execution_count": 0,
      "outputs": [
        {
          "output_type": "execute_result",
          "data": {
            "text/plain": [
              "<matplotlib.axes._subplots.AxesSubplot at 0x7f4c9b6c5cc0>"
            ]
          },
          "metadata": {
            "tags": []
          },
          "execution_count": 39
        },
        {
          "output_type": "display_data",
          "data": {
            "image/png": "[encoded data removed]",
            "text/plain": [
              "<Figure size 720x360 with 2 Axes>"
            ]
          },
          "metadata": {
            "tags": [],
            "needs_background": "light"
          }
        }
      ]
    },
    {
      "cell_type": "code",
      "metadata": {
        "colab_type": "code",
        "id": "rXA8QDrb1zio",
        "outputId": "a72cbc5e-0018-4da7-e96e-8c9fca1e1f3f",
        "colab": {
          "base_uri": "https://localhost:8080/",
          "height": 51
        }
      },
      "source": [
        "print(f'The best val_accuracy is: {dfResult.val_accuracy.max()}')\n",
        "print(f'The best train_accuracy is: {dfResult.accuracy.max()}')"
      ],
      "execution_count": 0,
      "outputs": [
        {
          "output_type": "stream",
          "text": [
            "The best val_accuracy is: 0.8447200059890747\n",
            "The best train_accuracy is: 0.8244533538818359\n"
          ],
          "name": "stdout"
        }
      ]
    },
    {
      "cell_type": "code",
      "metadata": {
        "colab_type": "code",
        "id": "dzrWhdsL1zip",
        "outputId": "a2861f12-2db3-4320-e198-00066d65e086",
        "colab": {
          "base_uri": "https://localhost:8080/",
          "height": 68
        }
      },
      "source": [
        "eloss, eacc = modelvgg.evaluate(x_test1, y_test1)\n",
        "print(f'Loss(test): {eloss}')\n",
        "print(f'Accuracy(test): {eacc}')"
      ],
      "execution_count": 0,
      "outputs": [
        {
          "output_type": "stream",
          "text": [
            "313/313 [==============================] - 2s 7ms/step - loss: 0.5951 - accuracy: 0.8168\n",
            "Loss(test): 0.5951389670372009\n",
            "Accuracy(test): 0.8167999982833862\n"
          ],
          "name": "stdout"
        }
      ]
    }
  ]
}