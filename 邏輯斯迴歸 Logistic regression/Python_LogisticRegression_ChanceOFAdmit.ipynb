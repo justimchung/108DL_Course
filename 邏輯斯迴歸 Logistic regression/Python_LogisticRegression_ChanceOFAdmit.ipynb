{
 "cells": [
  {
   "cell_type": "markdown",
   "metadata": {
    "colab_type": "text",
    "id": "dziZcYkpA2Je"
   },
   "source": [
    "# 使用 Logistic Rregression，分析入學的可能性\n",
    "\n",
    "## 簡介\n",
    "\n",
    "這份資料是印度某大學的資料，共有 400 筆資料，9 個欄位。\n",
    "\n",
    "裏面的每筆資料都是一位碩班候選人的資料。\n",
    "\n",
    "這些資料有如下欄位：\n",
    "\n",
    "- Serial No. 候選人序號\n",
    "- GRE Scores (290 to 340)  GRE 分數\n",
    "- TOEFL Scores (92 to 120) 托福分數\n",
    "- University Rating (1 to 5) 大學的評比\n",
    "- Statement of Purpose (1 to 5) 為什麼要入學的理由 (讀書計畫)\n",
    "- Letter of Recommendation Strength (1 to 5) 推薦信的強度\n",
    "- Undergraduate CGPA (6.8 to 9.92) 大學的累進 GPA\n",
    "- Research Experience (0 or 1) 是否有研究的經驗\n",
    "- Chance of Admit (0.34 to 0.97) 入學的機率\n",
    "\n",
    "上述的 Chance of Admit 是我們要做分類的標的。\n",
    "\n",
    "也就說，我們想透過分類演算法，分析研究所的評審是透過什麼樣的機制來評斷學生能不能入學的。\n",
    "\n",
    "這份資料的相關說明，可以參考[這裏](https://www.kaggle.com/mohansacharya/graduate-admissions#Admission_Predict.csv)\n"
   ]
  },
  {
   "cell_type": "code",
   "execution_count": 2,
   "metadata": {
    "colab": {},
    "colab_type": "code",
    "id": "koXAWz_LA2Jg"
   },
   "outputs": [],
   "source": [
    "import pandas as pd\n",
    "import seaborn as sns\n",
    "import numpy as np\n",
    "import matplotlib.pyplot as plt"
   ]
  },
  {
   "cell_type": "code",
   "execution_count": 3,
   "metadata": {
    "colab": {
     "base_uri": "https://localhost:8080/",
     "height": 202
    },
    "colab_type": "code",
    "id": "YjeVrEbKA2Jn",
    "outputId": "35f22a6f-84f6-4adf-dd9f-6ac85abf363b",
    "scrolled": true
   },
   "outputs": [
    {
     "data": {
      "text/html": [
       "<div>\n",
       "<style scoped>\n",
       "    .dataframe tbody tr th:only-of-type {\n",
       "        vertical-align: middle;\n",
       "    }\n",
       "\n",
       "    .dataframe tbody tr th {\n",
       "        vertical-align: top;\n",
       "    }\n",
       "\n",
       "    .dataframe thead th {\n",
       "        text-align: right;\n",
       "    }\n",
       "</style>\n",
       "<table border=\"1\" class=\"dataframe\">\n",
       "  <thead>\n",
       "    <tr style=\"text-align: right;\">\n",
       "      <th></th>\n",
       "      <th>Serial No.</th>\n",
       "      <th>GRE Score</th>\n",
       "      <th>TOEFL Score</th>\n",
       "      <th>University Rating</th>\n",
       "      <th>SOP</th>\n",
       "      <th>LOR</th>\n",
       "      <th>CGPA</th>\n",
       "      <th>Research</th>\n",
       "      <th>Chance of Admit</th>\n",
       "    </tr>\n",
       "  </thead>\n",
       "  <tbody>\n",
       "    <tr>\n",
       "      <th>0</th>\n",
       "      <td>1</td>\n",
       "      <td>337</td>\n",
       "      <td>118</td>\n",
       "      <td>4</td>\n",
       "      <td>4.5</td>\n",
       "      <td>4.5</td>\n",
       "      <td>9.65</td>\n",
       "      <td>1</td>\n",
       "      <td>0.92</td>\n",
       "    </tr>\n",
       "    <tr>\n",
       "      <th>1</th>\n",
       "      <td>2</td>\n",
       "      <td>324</td>\n",
       "      <td>107</td>\n",
       "      <td>4</td>\n",
       "      <td>4.0</td>\n",
       "      <td>4.5</td>\n",
       "      <td>8.87</td>\n",
       "      <td>1</td>\n",
       "      <td>0.76</td>\n",
       "    </tr>\n",
       "    <tr>\n",
       "      <th>2</th>\n",
       "      <td>3</td>\n",
       "      <td>316</td>\n",
       "      <td>104</td>\n",
       "      <td>3</td>\n",
       "      <td>3.0</td>\n",
       "      <td>3.5</td>\n",
       "      <td>8.00</td>\n",
       "      <td>1</td>\n",
       "      <td>0.72</td>\n",
       "    </tr>\n",
       "    <tr>\n",
       "      <th>3</th>\n",
       "      <td>4</td>\n",
       "      <td>322</td>\n",
       "      <td>110</td>\n",
       "      <td>3</td>\n",
       "      <td>3.5</td>\n",
       "      <td>2.5</td>\n",
       "      <td>8.67</td>\n",
       "      <td>1</td>\n",
       "      <td>0.80</td>\n",
       "    </tr>\n",
       "    <tr>\n",
       "      <th>4</th>\n",
       "      <td>5</td>\n",
       "      <td>314</td>\n",
       "      <td>103</td>\n",
       "      <td>2</td>\n",
       "      <td>2.0</td>\n",
       "      <td>3.0</td>\n",
       "      <td>8.21</td>\n",
       "      <td>0</td>\n",
       "      <td>0.65</td>\n",
       "    </tr>\n",
       "  </tbody>\n",
       "</table>\n",
       "</div>"
      ],
      "text/plain": [
       "   Serial No.  GRE Score  TOEFL Score  University Rating  SOP  LOR   CGPA  \\\n",
       "0           1        337          118                  4  4.5   4.5  9.65   \n",
       "1           2        324          107                  4  4.0   4.5  8.87   \n",
       "2           3        316          104                  3  3.0   3.5  8.00   \n",
       "3           4        322          110                  3  3.5   2.5  8.67   \n",
       "4           5        314          103                  2  2.0   3.0  8.21   \n",
       "\n",
       "   Research  Chance of Admit   \n",
       "0         1              0.92  \n",
       "1         1              0.76  \n",
       "2         1              0.72  \n",
       "3         1              0.80  \n",
       "4         0              0.65  "
      ]
     },
     "execution_count": 3,
     "metadata": {},
     "output_type": "execute_result"
    }
   ],
   "source": [
    "df = pd.read_csv('Admission_Predict.csv')\n",
    "df.head()"
   ]
  },
  {
   "cell_type": "markdown",
   "metadata": {
    "colab_type": "text",
    "id": "alp9s4OnA2Jt"
   },
   "source": [
    "## 重新命名欄位，方便日後程式撰寫\n",
    "\n",
    "上面有些欄位的名稱有點冗長，日後寫程式起來蠻累的，我們將它們改成較短的名字。\n",
    "\n",
    "在此之前，先做好對照表，免得日後想不起來原本的欄位名稱。\n",
    "\n",
    "<table>\n",
    "    <tr>\n",
    "        <td>原欄位</td>\n",
    "        <td>新欄位</td>\n",
    "    </tr>\n",
    "    <tr>\n",
    "        <td>GRE Score</td>\n",
    "        <td>GRE</td>\n",
    "    </tr>\n",
    "    <tr>\n",
    "        <td>University Rating</td>\n",
    "        <td>Rating</td>\n",
    "    </tr>\n",
    "    <tr>\n",
    "        <td>TOEFL Score</td>\n",
    "        <td>TOEFL</td>\n",
    "    </tr>\n",
    "    <tr>\n",
    "        <td>Chance of Admit</td>\n",
    "        <td>Chance</td>\n",
    "    </tr>    \n",
    "</table>\n",
    "\n",
    "請注意， Chance of Admit 這個欄位的後面，其實有一個<font color=\"red\">小小的空白</font>。\n",
    "\n",
    "要注意這個小問題，不然寫程式時，會找不到這個欄位。"
   ]
  },
  {
   "cell_type": "code",
   "execution_count": 4,
   "metadata": {
    "colab": {
     "base_uri": "https://localhost:8080/",
     "height": 202
    },
    "colab_type": "code",
    "id": "-idaKisLA2Ju",
    "outputId": "ca99738a-0ea4-459c-d6c5-45c7211b70fc"
   },
   "outputs": [
    {
     "data": {
      "text/html": [
       "<div>\n",
       "<style scoped>\n",
       "    .dataframe tbody tr th:only-of-type {\n",
       "        vertical-align: middle;\n",
       "    }\n",
       "\n",
       "    .dataframe tbody tr th {\n",
       "        vertical-align: top;\n",
       "    }\n",
       "\n",
       "    .dataframe thead th {\n",
       "        text-align: right;\n",
       "    }\n",
       "</style>\n",
       "<table border=\"1\" class=\"dataframe\">\n",
       "  <thead>\n",
       "    <tr style=\"text-align: right;\">\n",
       "      <th></th>\n",
       "      <th>Serial No.</th>\n",
       "      <th>GRE</th>\n",
       "      <th>TOEFL</th>\n",
       "      <th>Rating</th>\n",
       "      <th>SOP</th>\n",
       "      <th>LOR</th>\n",
       "      <th>CGPA</th>\n",
       "      <th>Research</th>\n",
       "      <th>Chance</th>\n",
       "    </tr>\n",
       "  </thead>\n",
       "  <tbody>\n",
       "    <tr>\n",
       "      <th>0</th>\n",
       "      <td>1</td>\n",
       "      <td>337</td>\n",
       "      <td>118</td>\n",
       "      <td>4</td>\n",
       "      <td>4.5</td>\n",
       "      <td>4.5</td>\n",
       "      <td>9.65</td>\n",
       "      <td>1</td>\n",
       "      <td>0.92</td>\n",
       "    </tr>\n",
       "    <tr>\n",
       "      <th>1</th>\n",
       "      <td>2</td>\n",
       "      <td>324</td>\n",
       "      <td>107</td>\n",
       "      <td>4</td>\n",
       "      <td>4.0</td>\n",
       "      <td>4.5</td>\n",
       "      <td>8.87</td>\n",
       "      <td>1</td>\n",
       "      <td>0.76</td>\n",
       "    </tr>\n",
       "    <tr>\n",
       "      <th>2</th>\n",
       "      <td>3</td>\n",
       "      <td>316</td>\n",
       "      <td>104</td>\n",
       "      <td>3</td>\n",
       "      <td>3.0</td>\n",
       "      <td>3.5</td>\n",
       "      <td>8.00</td>\n",
       "      <td>1</td>\n",
       "      <td>0.72</td>\n",
       "    </tr>\n",
       "    <tr>\n",
       "      <th>3</th>\n",
       "      <td>4</td>\n",
       "      <td>322</td>\n",
       "      <td>110</td>\n",
       "      <td>3</td>\n",
       "      <td>3.5</td>\n",
       "      <td>2.5</td>\n",
       "      <td>8.67</td>\n",
       "      <td>1</td>\n",
       "      <td>0.80</td>\n",
       "    </tr>\n",
       "    <tr>\n",
       "      <th>4</th>\n",
       "      <td>5</td>\n",
       "      <td>314</td>\n",
       "      <td>103</td>\n",
       "      <td>2</td>\n",
       "      <td>2.0</td>\n",
       "      <td>3.0</td>\n",
       "      <td>8.21</td>\n",
       "      <td>0</td>\n",
       "      <td>0.65</td>\n",
       "    </tr>\n",
       "  </tbody>\n",
       "</table>\n",
       "</div>"
      ],
      "text/plain": [
       "   Serial No.  GRE  TOEFL  Rating  SOP  LOR   CGPA  Research  Chance\n",
       "0           1  337    118       4  4.5   4.5  9.65         1    0.92\n",
       "1           2  324    107       4  4.0   4.5  8.87         1    0.76\n",
       "2           3  316    104       3  3.0   3.5  8.00         1    0.72\n",
       "3           4  322    110       3  3.5   2.5  8.67         1    0.80\n",
       "4           5  314    103       2  2.0   3.0  8.21         0    0.65"
      ]
     },
     "execution_count": 4,
     "metadata": {},
     "output_type": "execute_result"
    }
   ],
   "source": [
    "df.rename(columns={'GRE Score':'GRE', 'University Rating':'Rating', \n",
    "                  'TOEFL Score':'TOEFL', 'Chance of Admit ':'Chance'},\n",
    "         inplace=True)\n",
    "df.head() #再呼叫一次 head() 確定欄位都有改過了"
   ]
  },
  {
   "cell_type": "markdown",
   "metadata": {
    "colab_type": "text",
    "id": "o-EX4yWhA2Jz"
   },
   "source": [
    "## Remove Serial No.\n",
    "\n",
    "Since ``Serial No.`` does not affect our prediction result, we remove it from the dataframe.\n",
    "\n",
    "由於 ``Serial No.`` 應該不會影響到我們的分類結果，所以我們將這個欄位給移除掉。"
   ]
  },
  {
   "cell_type": "code",
   "execution_count": 5,
   "metadata": {
    "colab": {
     "base_uri": "https://localhost:8080/",
     "height": 202
    },
    "colab_type": "code",
    "id": "ftgvFtiyA2J0",
    "outputId": "010482cb-2ef4-47f0-f5ad-0bc3dd8c6157"
   },
   "outputs": [
    {
     "data": {
      "text/html": [
       "<div>\n",
       "<style scoped>\n",
       "    .dataframe tbody tr th:only-of-type {\n",
       "        vertical-align: middle;\n",
       "    }\n",
       "\n",
       "    .dataframe tbody tr th {\n",
       "        vertical-align: top;\n",
       "    }\n",
       "\n",
       "    .dataframe thead th {\n",
       "        text-align: right;\n",
       "    }\n",
       "</style>\n",
       "<table border=\"1\" class=\"dataframe\">\n",
       "  <thead>\n",
       "    <tr style=\"text-align: right;\">\n",
       "      <th></th>\n",
       "      <th>GRE</th>\n",
       "      <th>TOEFL</th>\n",
       "      <th>Rating</th>\n",
       "      <th>SOP</th>\n",
       "      <th>LOR</th>\n",
       "      <th>CGPA</th>\n",
       "      <th>Research</th>\n",
       "      <th>Chance</th>\n",
       "    </tr>\n",
       "  </thead>\n",
       "  <tbody>\n",
       "    <tr>\n",
       "      <th>0</th>\n",
       "      <td>337</td>\n",
       "      <td>118</td>\n",
       "      <td>4</td>\n",
       "      <td>4.5</td>\n",
       "      <td>4.5</td>\n",
       "      <td>9.65</td>\n",
       "      <td>1</td>\n",
       "      <td>0.92</td>\n",
       "    </tr>\n",
       "    <tr>\n",
       "      <th>1</th>\n",
       "      <td>324</td>\n",
       "      <td>107</td>\n",
       "      <td>4</td>\n",
       "      <td>4.0</td>\n",
       "      <td>4.5</td>\n",
       "      <td>8.87</td>\n",
       "      <td>1</td>\n",
       "      <td>0.76</td>\n",
       "    </tr>\n",
       "    <tr>\n",
       "      <th>2</th>\n",
       "      <td>316</td>\n",
       "      <td>104</td>\n",
       "      <td>3</td>\n",
       "      <td>3.0</td>\n",
       "      <td>3.5</td>\n",
       "      <td>8.00</td>\n",
       "      <td>1</td>\n",
       "      <td>0.72</td>\n",
       "    </tr>\n",
       "    <tr>\n",
       "      <th>3</th>\n",
       "      <td>322</td>\n",
       "      <td>110</td>\n",
       "      <td>3</td>\n",
       "      <td>3.5</td>\n",
       "      <td>2.5</td>\n",
       "      <td>8.67</td>\n",
       "      <td>1</td>\n",
       "      <td>0.80</td>\n",
       "    </tr>\n",
       "    <tr>\n",
       "      <th>4</th>\n",
       "      <td>314</td>\n",
       "      <td>103</td>\n",
       "      <td>2</td>\n",
       "      <td>2.0</td>\n",
       "      <td>3.0</td>\n",
       "      <td>8.21</td>\n",
       "      <td>0</td>\n",
       "      <td>0.65</td>\n",
       "    </tr>\n",
       "  </tbody>\n",
       "</table>\n",
       "</div>"
      ],
      "text/plain": [
       "   GRE  TOEFL  Rating  SOP  LOR   CGPA  Research  Chance\n",
       "0  337    118       4  4.5   4.5  9.65         1    0.92\n",
       "1  324    107       4  4.0   4.5  8.87         1    0.76\n",
       "2  316    104       3  3.0   3.5  8.00         1    0.72\n",
       "3  322    110       3  3.5   2.5  8.67         1    0.80\n",
       "4  314    103       2  2.0   3.0  8.21         0    0.65"
      ]
     },
     "execution_count": 5,
     "metadata": {},
     "output_type": "execute_result"
    }
   ],
   "source": [
    "df.drop(columns=['Serial No.'], inplace=True)\n",
    "df.head()"
   ]
  },
  {
   "cell_type": "markdown",
   "metadata": {
    "colab_type": "text",
    "id": "x08qL5pqA2J7"
   },
   "source": [
    "We assume that if the chance of admit is higher than or equal to 0.75, then his admission is allowed.  \n",
    "Otherwise the admission is rejected.\n",
    "\n",
    "在底下，我們假設若 chance 大於等於 0.75，就代表可以入學。  \n",
    "反之，就代表無法入學。"
   ]
  },
  {
   "cell_type": "code",
   "execution_count": 6,
   "metadata": {
    "colab": {
     "base_uri": "https://localhost:8080/",
     "height": 355
    },
    "colab_type": "code",
    "id": "yPMKXZoaA2J9",
    "outputId": "c2fa17a9-2a2a-4f62-db26-6797549945dd"
   },
   "outputs": [
    {
     "data": {
      "text/html": [
       "<div>\n",
       "<style scoped>\n",
       "    .dataframe tbody tr th:only-of-type {\n",
       "        vertical-align: middle;\n",
       "    }\n",
       "\n",
       "    .dataframe tbody tr th {\n",
       "        vertical-align: top;\n",
       "    }\n",
       "\n",
       "    .dataframe thead th {\n",
       "        text-align: right;\n",
       "    }\n",
       "</style>\n",
       "<table border=\"1\" class=\"dataframe\">\n",
       "  <thead>\n",
       "    <tr style=\"text-align: right;\">\n",
       "      <th></th>\n",
       "      <th>GRE</th>\n",
       "      <th>TOEFL</th>\n",
       "      <th>Rating</th>\n",
       "      <th>SOP</th>\n",
       "      <th>LOR</th>\n",
       "      <th>CGPA</th>\n",
       "      <th>Research</th>\n",
       "      <th>Chance</th>\n",
       "    </tr>\n",
       "  </thead>\n",
       "  <tbody>\n",
       "    <tr>\n",
       "      <th>0</th>\n",
       "      <td>337</td>\n",
       "      <td>118</td>\n",
       "      <td>4</td>\n",
       "      <td>4.5</td>\n",
       "      <td>4.5</td>\n",
       "      <td>9.65</td>\n",
       "      <td>1</td>\n",
       "      <td>1.0</td>\n",
       "    </tr>\n",
       "    <tr>\n",
       "      <th>1</th>\n",
       "      <td>324</td>\n",
       "      <td>107</td>\n",
       "      <td>4</td>\n",
       "      <td>4.0</td>\n",
       "      <td>4.5</td>\n",
       "      <td>8.87</td>\n",
       "      <td>1</td>\n",
       "      <td>1.0</td>\n",
       "    </tr>\n",
       "    <tr>\n",
       "      <th>2</th>\n",
       "      <td>316</td>\n",
       "      <td>104</td>\n",
       "      <td>3</td>\n",
       "      <td>3.0</td>\n",
       "      <td>3.5</td>\n",
       "      <td>8.00</td>\n",
       "      <td>1</td>\n",
       "      <td>0.0</td>\n",
       "    </tr>\n",
       "    <tr>\n",
       "      <th>3</th>\n",
       "      <td>322</td>\n",
       "      <td>110</td>\n",
       "      <td>3</td>\n",
       "      <td>3.5</td>\n",
       "      <td>2.5</td>\n",
       "      <td>8.67</td>\n",
       "      <td>1</td>\n",
       "      <td>1.0</td>\n",
       "    </tr>\n",
       "    <tr>\n",
       "      <th>4</th>\n",
       "      <td>314</td>\n",
       "      <td>103</td>\n",
       "      <td>2</td>\n",
       "      <td>2.0</td>\n",
       "      <td>3.0</td>\n",
       "      <td>8.21</td>\n",
       "      <td>0</td>\n",
       "      <td>0.0</td>\n",
       "    </tr>\n",
       "    <tr>\n",
       "      <th>5</th>\n",
       "      <td>330</td>\n",
       "      <td>115</td>\n",
       "      <td>5</td>\n",
       "      <td>4.5</td>\n",
       "      <td>3.0</td>\n",
       "      <td>9.34</td>\n",
       "      <td>1</td>\n",
       "      <td>1.0</td>\n",
       "    </tr>\n",
       "    <tr>\n",
       "      <th>6</th>\n",
       "      <td>321</td>\n",
       "      <td>109</td>\n",
       "      <td>3</td>\n",
       "      <td>3.0</td>\n",
       "      <td>4.0</td>\n",
       "      <td>8.20</td>\n",
       "      <td>1</td>\n",
       "      <td>1.0</td>\n",
       "    </tr>\n",
       "    <tr>\n",
       "      <th>7</th>\n",
       "      <td>308</td>\n",
       "      <td>101</td>\n",
       "      <td>2</td>\n",
       "      <td>3.0</td>\n",
       "      <td>4.0</td>\n",
       "      <td>7.90</td>\n",
       "      <td>0</td>\n",
       "      <td>0.0</td>\n",
       "    </tr>\n",
       "    <tr>\n",
       "      <th>8</th>\n",
       "      <td>302</td>\n",
       "      <td>102</td>\n",
       "      <td>1</td>\n",
       "      <td>2.0</td>\n",
       "      <td>1.5</td>\n",
       "      <td>8.00</td>\n",
       "      <td>0</td>\n",
       "      <td>0.0</td>\n",
       "    </tr>\n",
       "    <tr>\n",
       "      <th>9</th>\n",
       "      <td>323</td>\n",
       "      <td>108</td>\n",
       "      <td>3</td>\n",
       "      <td>3.5</td>\n",
       "      <td>3.0</td>\n",
       "      <td>8.60</td>\n",
       "      <td>0</td>\n",
       "      <td>0.0</td>\n",
       "    </tr>\n",
       "  </tbody>\n",
       "</table>\n",
       "</div>"
      ],
      "text/plain": [
       "   GRE  TOEFL  Rating  SOP  LOR   CGPA  Research  Chance\n",
       "0  337    118       4  4.5   4.5  9.65         1     1.0\n",
       "1  324    107       4  4.0   4.5  8.87         1     1.0\n",
       "2  316    104       3  3.0   3.5  8.00         1     0.0\n",
       "3  322    110       3  3.5   2.5  8.67         1     1.0\n",
       "4  314    103       2  2.0   3.0  8.21         0     0.0\n",
       "5  330    115       5  4.5   3.0  9.34         1     1.0\n",
       "6  321    109       3  3.0   4.0  8.20         1     1.0\n",
       "7  308    101       2  3.0   4.0  7.90         0     0.0\n",
       "8  302    102       1  2.0   1.5  8.00         0     0.0\n",
       "9  323    108       3  3.5   3.0  8.60         0     0.0"
      ]
     },
     "execution_count": 6,
     "metadata": {},
     "output_type": "execute_result"
    }
   ],
   "source": [
    "df.loc[df.Chance >= 0.75, 'Chance'] = 1\n",
    "df.loc[df.Chance < 0.75, 'Chance'] = 0\n",
    "df.head(10)\n"
   ]
  },
  {
   "cell_type": "markdown",
   "metadata": {
    "colab_type": "text",
    "id": "f2QQSwmNA2KC"
   },
   "source": [
    "## Observe the information of the dataframe\n",
    "\n",
    "We find that some of columns are in the integer datatype.\n",
    "\n",
    "我們發現有些欄位是「整數」型別。  \n",
    "日後在計算時，我們要將之轉為浮點數型別。"
   ]
  },
  {
   "cell_type": "code",
   "execution_count": 7,
   "metadata": {
    "colab": {
     "base_uri": "https://localhost:8080/",
     "height": 243
    },
    "colab_type": "code",
    "id": "od8rDE3jA2KD",
    "outputId": "efbe23c7-67cf-4bfe-c371-5b8ed5d6eb13"
   },
   "outputs": [
    {
     "name": "stdout",
     "output_type": "stream",
     "text": [
      "<class 'pandas.core.frame.DataFrame'>\n",
      "RangeIndex: 400 entries, 0 to 399\n",
      "Data columns (total 8 columns):\n",
      " #   Column    Non-Null Count  Dtype  \n",
      "---  ------    --------------  -----  \n",
      " 0   GRE       400 non-null    int64  \n",
      " 1   TOEFL     400 non-null    int64  \n",
      " 2   Rating    400 non-null    int64  \n",
      " 3   SOP       400 non-null    float64\n",
      " 4   LOR       400 non-null    float64\n",
      " 5   CGPA      400 non-null    float64\n",
      " 6   Research  400 non-null    int64  \n",
      " 7   Chance    400 non-null    float64\n",
      "dtypes: float64(4), int64(4)\n",
      "memory usage: 25.1 KB\n"
     ]
    }
   ],
   "source": [
    "df.info()"
   ]
  },
  {
   "cell_type": "markdown",
   "metadata": {
    "colab_type": "text",
    "id": "7HKPE3JgA2KI"
   },
   "source": [
    "## 切出 x 及 y"
   ]
  },
  {
   "cell_type": "code",
   "execution_count": 8,
   "metadata": {
    "colab": {
     "base_uri": "https://localhost:8080/",
     "height": 355
    },
    "colab_type": "code",
    "id": "rpjp8ekiA2KJ",
    "outputId": "3e45fe62-fb54-472b-e679-91126f65943d"
   },
   "outputs": [
    {
     "data": {
      "text/html": [
       "<div>\n",
       "<style scoped>\n",
       "    .dataframe tbody tr th:only-of-type {\n",
       "        vertical-align: middle;\n",
       "    }\n",
       "\n",
       "    .dataframe tbody tr th {\n",
       "        vertical-align: top;\n",
       "    }\n",
       "\n",
       "    .dataframe thead th {\n",
       "        text-align: right;\n",
       "    }\n",
       "</style>\n",
       "<table border=\"1\" class=\"dataframe\">\n",
       "  <thead>\n",
       "    <tr style=\"text-align: right;\">\n",
       "      <th></th>\n",
       "      <th>GRE</th>\n",
       "      <th>TOEFL</th>\n",
       "      <th>Rating</th>\n",
       "      <th>SOP</th>\n",
       "      <th>LOR</th>\n",
       "      <th>CGPA</th>\n",
       "      <th>Research</th>\n",
       "    </tr>\n",
       "  </thead>\n",
       "  <tbody>\n",
       "    <tr>\n",
       "      <th>0</th>\n",
       "      <td>337</td>\n",
       "      <td>118</td>\n",
       "      <td>4</td>\n",
       "      <td>4.5</td>\n",
       "      <td>4.5</td>\n",
       "      <td>9.65</td>\n",
       "      <td>1</td>\n",
       "    </tr>\n",
       "    <tr>\n",
       "      <th>1</th>\n",
       "      <td>324</td>\n",
       "      <td>107</td>\n",
       "      <td>4</td>\n",
       "      <td>4.0</td>\n",
       "      <td>4.5</td>\n",
       "      <td>8.87</td>\n",
       "      <td>1</td>\n",
       "    </tr>\n",
       "    <tr>\n",
       "      <th>2</th>\n",
       "      <td>316</td>\n",
       "      <td>104</td>\n",
       "      <td>3</td>\n",
       "      <td>3.0</td>\n",
       "      <td>3.5</td>\n",
       "      <td>8.00</td>\n",
       "      <td>1</td>\n",
       "    </tr>\n",
       "    <tr>\n",
       "      <th>3</th>\n",
       "      <td>322</td>\n",
       "      <td>110</td>\n",
       "      <td>3</td>\n",
       "      <td>3.5</td>\n",
       "      <td>2.5</td>\n",
       "      <td>8.67</td>\n",
       "      <td>1</td>\n",
       "    </tr>\n",
       "    <tr>\n",
       "      <th>4</th>\n",
       "      <td>314</td>\n",
       "      <td>103</td>\n",
       "      <td>2</td>\n",
       "      <td>2.0</td>\n",
       "      <td>3.0</td>\n",
       "      <td>8.21</td>\n",
       "      <td>0</td>\n",
       "    </tr>\n",
       "    <tr>\n",
       "      <th>5</th>\n",
       "      <td>330</td>\n",
       "      <td>115</td>\n",
       "      <td>5</td>\n",
       "      <td>4.5</td>\n",
       "      <td>3.0</td>\n",
       "      <td>9.34</td>\n",
       "      <td>1</td>\n",
       "    </tr>\n",
       "    <tr>\n",
       "      <th>6</th>\n",
       "      <td>321</td>\n",
       "      <td>109</td>\n",
       "      <td>3</td>\n",
       "      <td>3.0</td>\n",
       "      <td>4.0</td>\n",
       "      <td>8.20</td>\n",
       "      <td>1</td>\n",
       "    </tr>\n",
       "    <tr>\n",
       "      <th>7</th>\n",
       "      <td>308</td>\n",
       "      <td>101</td>\n",
       "      <td>2</td>\n",
       "      <td>3.0</td>\n",
       "      <td>4.0</td>\n",
       "      <td>7.90</td>\n",
       "      <td>0</td>\n",
       "    </tr>\n",
       "    <tr>\n",
       "      <th>8</th>\n",
       "      <td>302</td>\n",
       "      <td>102</td>\n",
       "      <td>1</td>\n",
       "      <td>2.0</td>\n",
       "      <td>1.5</td>\n",
       "      <td>8.00</td>\n",
       "      <td>0</td>\n",
       "    </tr>\n",
       "    <tr>\n",
       "      <th>9</th>\n",
       "      <td>323</td>\n",
       "      <td>108</td>\n",
       "      <td>3</td>\n",
       "      <td>3.5</td>\n",
       "      <td>3.0</td>\n",
       "      <td>8.60</td>\n",
       "      <td>0</td>\n",
       "    </tr>\n",
       "  </tbody>\n",
       "</table>\n",
       "</div>"
      ],
      "text/plain": [
       "   GRE  TOEFL  Rating  SOP  LOR   CGPA  Research\n",
       "0  337    118       4  4.5   4.5  9.65         1\n",
       "1  324    107       4  4.0   4.5  8.87         1\n",
       "2  316    104       3  3.0   3.5  8.00         1\n",
       "3  322    110       3  3.5   2.5  8.67         1\n",
       "4  314    103       2  2.0   3.0  8.21         0\n",
       "5  330    115       5  4.5   3.0  9.34         1\n",
       "6  321    109       3  3.0   4.0  8.20         1\n",
       "7  308    101       2  3.0   4.0  7.90         0\n",
       "8  302    102       1  2.0   1.5  8.00         0\n",
       "9  323    108       3  3.5   3.0  8.60         0"
      ]
     },
     "execution_count": 8,
     "metadata": {},
     "output_type": "execute_result"
    }
   ],
   "source": [
    "y = df.Chance\n",
    "y.head()\n",
    "x = df.drop(columns=['Chance'])\n",
    "x.head(10)"
   ]
  },
  {
   "cell_type": "markdown",
   "metadata": {
    "colab_type": "text",
    "id": "DO46va3VA2KM"
   },
   "source": [
    "## 分割出測試集，以及訓練集"
   ]
  },
  {
   "cell_type": "code",
   "execution_count": 9,
   "metadata": {
    "colab": {},
    "colab_type": "code",
    "id": "aMMmtzIHA2KN"
   },
   "outputs": [],
   "source": [
    "from sklearn.model_selection import train_test_split\n",
    "x_train, x_test, y_train, y_test = train_test_split(x, y, test_size = 0.25, random_state = 0)"
   ]
  },
  {
   "cell_type": "markdown",
   "metadata": {
    "colab_type": "text",
    "id": "5cEvuud8A2KQ"
   },
   "source": [
    "## Standardization (標準化)\n",
    "\n",
    "Standardize features by removing the mean and scaling to unit variance. \n",
    "\n",
    "More specifically, we apply the following function to each data item in the dataframe.\n",
    "\n",
    "$\\frac{X-\\mu}{\\sigma}$\n",
    "\n",
    "where $\\mu$ is the mean of the training samples and $\\sigma$ is the standard deviation of the training samples.\n",
    "\n",
    "我們將資料標準化，否則計算的結果會失真。\n",
    "\n",
    "標準化是將所有的資料值減去整體的平均值（$\\mu$），再除以標準差（$\\sigma$）。  \n",
    "也就是說，就是對所有的資料，都做底下的運算：\n",
    "\n",
    "$\\frac{X-\\mu}{\\sigma}$\n",
    "\n",
    "The difference between ``fit_transform`` and ``transform``\n",
    "\n",
    "- fit_transform: Fit to data (i.e., Compute the mean and std), then transform it. 直對資料集計算均值，以及標準差。然後替資料集做標準化\n",
    "- transform: Perform standardization by centering and scaling. 將資料集做標準化。\n",
    "\n",
    "We apply fit_transform on the training data and then get $\\mu$ and $\\sigma$ of the dataset.  \n",
    "Then we have to apply the same transformation to your testing set, or to newly obtained examples before forecast. But we have to use the **same two parameters $\\mu$ and $\\sigma$ (values)** that we used for centering the training set. See [here](https://datascience.stackexchange.com/questions/12321/difference-between-fit-and-fit-transform-in-scikit-learn-models) for more clarity.\n",
    "\n",
    "一般說來，我們會針對「training set」做 fit_transform 的動作。  \n",
    "這個動作完成後，我們會標準化 training set，同時得到 training set 上的平均值（$\\mu$），以及標準差（$\\sigma$）。\n",
    "\n",
    "接著我們要處理 testing set。這時我們就不能用 testing set 上自己的 $\\mu$ 還有 $\\sigma$ 來標準化它自己了！！  \n",
    "為什麼？  \n",
    "因為我們的模型，是針對 training set 上的平均值，以及標準差訓練出來的。  \n",
    "對於我們的模型，testing set 代表著是「未知」的資料，它是「不知道」這些未知資料的資訊的。  \n",
    "所以只能假設這些未知的資料，其均值和標準差，是和 training set 一樣的。\n",
    "\n",
    "因此我們使用 transform 來直接標準化 testing set。  \n",
    "在使用 transform 時，sklearn 會用之前算出來的均值，以及標準差來標準化 testing set 上的資料。\n"
   ]
  },
  {
   "cell_type": "code",
   "execution_count": 10,
   "metadata": {
    "colab": {},
    "colab_type": "code",
    "id": "oG-jUU5yA2KR",
    "scrolled": true
   },
   "outputs": [],
   "source": [
    "from sklearn.preprocessing import StandardScaler\n",
    "sc_x = StandardScaler()\n",
    "x_train.astype(float) # 將所有的欄位都轉成浮點數 casting to the float type\n",
    "x_train = sc_x.fit_transform(x_train)\n",
    "x_test = sc_x.transform(x_test)"
   ]
  },
  {
   "cell_type": "code",
   "execution_count": 11,
   "metadata": {
    "colab": {
     "base_uri": "https://localhost:8080/",
     "height": 104
    },
    "colab_type": "code",
    "id": "YOBXGKaVA2KV",
    "outputId": "692e6059-1e82-403e-9e55-673f28664ec7"
   },
   "outputs": [
    {
     "data": {
      "text/plain": [
       "LogisticRegression(C=1.0, class_weight=None, dual=False, fit_intercept=True,\n",
       "                   intercept_scaling=1, l1_ratio=None, max_iter=100,\n",
       "                   multi_class='auto', n_jobs=None, penalty='l2',\n",
       "                   random_state=0, solver='lbfgs', tol=0.0001, verbose=0,\n",
       "                   warm_start=False)"
      ]
     },
     "execution_count": 11,
     "metadata": {},
     "output_type": "execute_result"
    }
   ],
   "source": [
    "from sklearn.linear_model import LogisticRegression\n",
    "classifier = LogisticRegression(random_state = 0, solver='lbfgs')\n",
    "classifier.fit(x_train, y_train)"
   ]
  },
  {
   "cell_type": "code",
   "execution_count": 12,
   "metadata": {
    "colab": {},
    "colab_type": "code",
    "id": "w1WjZ-BLA2Kf"
   },
   "outputs": [],
   "source": [
    "y_pred = classifier.predict(x_test)"
   ]
  },
  {
   "cell_type": "markdown",
   "metadata": {},
   "source": [
    "## Draw the confusion matrix\n",
    "\n",
    "[The document of sklearn's confusion matrix](https://scikit-learn.org/stable/modules/generated/sklearn.metrics.confusion_matrix.html)\n",
    "\n",
    "Compute confusion matrix to evaluate the accuracy of a classification.\n",
    "\n",
    "By definition a confusion matrix $C$  is such that $C_{i,j}$ is equal to the number of observations known to be in group $i$ and predicted to be in group $j$.\n",
    "\n",
    "Thus in binary classification, the count of true negatives is $C_{0,0}$, false negatives is $C_{1,0}$, true positives is $C_{1,1}$ and false positives is $C_{0,1}$.\n",
    "\n",
    "\n",
    "|                     |Negative <br/> Predict | Positive <br/> Predict |\n",
    "|---------------------|-----------------------|------------------------|\n",
    "|Negative <br/> Actual|TN                     | FP                     |\n",
    "|Positive <br/> Actual|FN                     | TP                     |\n"
   ]
  },
  {
   "cell_type": "code",
   "execution_count": 13,
   "metadata": {
    "colab": {
     "base_uri": "https://localhost:8080/",
     "height": 283
    },
    "colab_type": "code",
    "id": "rvTFPj3_A2Ki",
    "outputId": "9b9e9343-2ecd-4b47-a627-55cd72350ccd"
   },
   "outputs": [
    {
     "data": {
      "text/plain": [
       "<matplotlib.axes._subplots.AxesSubplot at 0x1bcf199cd48>"
      ]
     },
     "execution_count": 13,
     "metadata": {},
     "output_type": "execute_result"
    },
    {
     "data": {
      "image/png": "[encoded data removed]",
      "text/plain": [
       "<Figure size 432x288 with 2 Axes>"
      ]
     },
     "metadata": {
      "needs_background": "light"
     },
     "output_type": "display_data"
    }
   ],
   "source": [
    "from sklearn.metrics import confusion_matrix\n",
    "cm = confusion_matrix(y_test, y_pred)\n",
    "df_cm = pd.DataFrame(cm, index = ['Negative', 'Positive'],\n",
    "                  columns = ['Negative', 'Positive'])\n",
    "sns.heatmap(df_cm, annot = True, annot_kws = {'size':20})"
   ]
  },
  {
   "cell_type": "code",
   "execution_count": 14,
   "metadata": {
    "colab": {
     "base_uri": "https://localhost:8080/",
     "height": 35
    },
    "colab_type": "code",
    "id": "V8pUNhGJA2Kl",
    "outputId": "6b2d6315-6589-45e8-d360-b6397944263f"
   },
   "outputs": [
    {
     "name": "stdout",
     "output_type": "stream",
     "text": [
      "準確率 0.83\n"
     ]
    }
   ],
   "source": [
    "from sklearn.metrics import accuracy_score\n",
    "acc = accuracy_score(y_test, y_pred)\n",
    "print(f\"準確率 {acc:.2f}\")"
   ]
  },
  {
   "cell_type": "markdown",
   "metadata": {
    "colab_type": "text",
    "id": "YDci_yQcCRFM"
   },
   "source": [
    "準確率為 83%，這是好是壞呢？\n",
    "\n",
    "我們需要有一個 **基準值** 來衡量。  \n",
    "一般來說，我們會用「隨便猜」的方式，來衡量分類的水準。  \n",
    "這是說，我們分類的模型，至少要優於「隨便猜」的水平，不然我們就隨便猜就好了。\n",
    "\n",
    "那隨便猜要怎麼猜？  \n",
    "底下的程式中，我們估計每種可能性的機率。  \n",
    "在這個案例中：\n",
    "- 無法入學的機率是 55%\n",
    "- 可以入學的機率是 45%\n",
    "\n",
    "所以要是隨便猜的話，我們就「永遠」猜無法入學即可。\n",
    "\n",
    "在這樣隨便猜的情況下，我們有 55% 的精確度。  \n",
    "這意味著，我們的模型的精確度，要優於 55%，才有價值。"
   ]
  },
  {
   "cell_type": "code",
   "execution_count": 15,
   "metadata": {
    "colab": {
     "base_uri": "https://localhost:8080/",
     "height": 173
    },
    "colab_type": "code",
    "id": "3_gtIKCTBFt2",
    "outputId": "c4e73845-9199-4ff6-a9e6-77afa755ddf9"
   },
   "outputs": [
    {
     "name": "stdout",
     "output_type": "stream",
     "text": [
      "總學生人數為 400\n",
      "入學可能性的資料分佈\n",
      "0.0    220\n",
      "1.0    180\n",
      "Name: Chance, dtype: int64\n",
      "入學可能性的機率\n",
      "0.0    0.55\n",
      "1.0    0.45\n",
      "Name: Chance, dtype: float64\n"
     ]
    }
   ],
   "source": [
    "v = y.shape[0]\n",
    "print(f\"總學生人數為 {v}\")\n",
    "print(\"入學可能性的資料分佈\")\n",
    "print(y.value_counts())\n",
    "print(\"入學可能性的機率\")\n",
    "print(y.value_counts()/v)\n"
   ]
  },
  {
   "cell_type": "code",
   "execution_count": 20,
   "metadata": {},
   "outputs": [
    {
     "name": "stdout",
     "output_type": "stream",
     "text": [
      "Accuracy = 0.83\n",
      "Precision = 0.83\n",
      "Recall = 0.77\n",
      "F1 = 0.80\n"
     ]
    }
   ],
   "source": [
    "from sklearn.metrics import accuracy_score, precision_score, f1_score, recall_score\n",
    "acc = accuracy_score(y_test, y_pred)\n",
    "p = precision_score(y_test, y_pred, pos_label=1)\n",
    "r = recall_score(y_test, y_pred, pos_label=1)\n",
    "f1 = f1_score(y_test, y_pred, pos_label=1)\n",
    "print(f'Accuracy = {acc}')\n",
    "print(f'Precision = {p:.2f}')\n",
    "print(f'Recall = {r:.2f}')\n",
    "print(f'F1 = {f1:.2f}')"
   ]
  },
  {
   "cell_type": "code",
   "execution_count": 17,
   "metadata": {},
   "outputs": [
    {
     "data": {
      "text/plain": [
       "<sklearn.metrics._plot.precision_recall_curve.PrecisionRecallDisplay at 0x1bcf31a7ac8>"
      ]
     },
     "execution_count": 17,
     "metadata": {},
     "output_type": "execute_result"
    },
    {
     "data": {
      "image/png": "[encoded data removed]",
      "text/plain": [
       "<Figure size 432x288 with 1 Axes>"
      ]
     },
     "metadata": {
      "needs_background": "light"
     },
     "output_type": "display_data"
    }
   ],
   "source": [
    "from sklearn.metrics import precision_recall_curve\n",
    "from sklearn.metrics import plot_precision_recall_curve\n",
    "plot_precision_recall_curve(classifier, x_test, y_test)"
   ]
  },
  {
   "cell_type": "code",
   "execution_count": 18,
   "metadata": {
    "colab": {
     "base_uri": "https://localhost:8080/",
     "height": 173
    },
    "colab_type": "code",
    "id": "DXw9mC9IA2Ks",
    "outputId": "cbdd252d-ce3d-4d7c-9b82-0ec6636e2b23"
   },
   "outputs": [
    {
     "name": "stdout",
     "output_type": "stream",
     "text": [
      "              precision    recall  f1-score   support\n",
      "\n",
      "         0.0       0.83      0.88      0.85        56\n",
      "         1.0       0.83      0.77      0.80        44\n",
      "\n",
      "    accuracy                           0.83       100\n",
      "   macro avg       0.83      0.82      0.83       100\n",
      "weighted avg       0.83      0.83      0.83       100\n",
      "\n"
     ]
    }
   ],
   "source": [
    "from sklearn.metrics import classification_report\n",
    "print(classification_report(y_test, y_pred))"
   ]
  }
 ],
 "metadata": {
  "colab": {
   "collapsed_sections": [],
   "name": "Python_LogisticRegression_ChanceOFAdmit.ipynb",
   "provenance": []
  },
  "kernelspec": {
   "display_name": "Python 3",
   "language": "python",
   "name": "python3"
  },
  "language_info": {
   "codemirror_mode": {
    "name": "ipython",
    "version": 3
   },
   "file_extension": ".py",
   "mimetype": "text/x-python",
   "name": "python",
   "nbconvert_exporter": "python",
   "pygments_lexer": "ipython3",
   "version": "3.7.6"
  }
 },
 "nbformat": 4,
 "nbformat_minor": 1
}
