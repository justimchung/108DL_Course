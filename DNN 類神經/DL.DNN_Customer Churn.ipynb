{
 "cells": [
  {
   "cell_type": "markdown",
   "metadata": {
    "colab_type": "text",
    "id": "KevYd9RxkJst"
   },
   "source": [
    "# 利用類神經網路來判斷員工是否離職"
   ]
  },
  {
   "cell_type": "markdown",
   "metadata": {
    "colab_type": "text",
    "id": "lorRB8FDkZLx"
   },
   "source": [
    "底下的 %tensorflow_version 2.x 是所謂的 **魔術指令 (magic instruction)**. \n",
    "\n",
    "只要看到指令前有 ``%`` 符號的，就是魔術指令。魔術指令用來操作 colab。\n",
    "\n",
    "``%tensorflow_version 2.x`` 是跟 colab 說，目前在這個 notebook 中，我要是要匯入 tensorflow 的話，請匯入 2.x 的版本。\n",
    "\n",
    "Colab 目前支援 tensorflow 1.x 以及 2.x 版。2.x 版是在 2019 年正式 release，所以還很新。Colab **預設** 是支援 1.x 版。\n",
    "\n",
    "若沒有特別指定的話，載入的是 1.x 版。\n",
    "\n",
    "**注意: ** 在網路上會有文件教你/妳用 pip 的方式在 Colab 上裝 tensorflow 2.x。請不要使用這種方式，在 Google 的官方文件中有指出，這樣的方式會造成校能上的影響。因此建議使用 ``%tensorflow_version 2.x`` 的方式來處理。"
   ]
  },
  {
   "cell_type": "code",
   "execution_count": 1,
   "metadata": {
    "colab": {
     "base_uri": "https://localhost:8080/",
     "height": 34
    },
    "colab_type": "code",
    "executionInfo": {
     "elapsed": 1773,
     "status": "ok",
     "timestamp": 1581579582619,
     "user": {
      "displayName": "鍾毓驥",
      "photoUrl": "",
      "userId": "16037378104666941717"
     },
     "user_tz": -480
    },
    "id": "HOnMyZktj5FC",
    "outputId": "494144f5-9cb6-4597-e8dc-6c292c3d87db"
   },
   "outputs": [
    {
     "name": "stdout",
     "output_type": "stream",
     "text": [
      "TensorFlow 2.x selected.\n"
     ]
    }
   ],
   "source": [
    "%tensorflow_version 2.x"
   ]
  },
  {
   "cell_type": "code",
   "execution_count": 2,
   "metadata": {
    "colab": {
     "base_uri": "https://localhost:8080/",
     "height": 34
    },
    "colab_type": "code",
    "executionInfo": {
     "elapsed": 1465,
     "status": "ok",
     "timestamp": 1581579622044,
     "user": {
      "displayName": "鍾毓驥",
      "photoUrl": "",
      "userId": "16037378104666941717"
     },
     "user_tz": -480
    },
    "id": "Ww8K6FyOmfrf",
    "outputId": "493558b1-8089-420b-a10c-299bd36f7e48"
   },
   "outputs": [
    {
     "name": "stdout",
     "output_type": "stream",
     "text": [
      "2.1.0\n"
     ]
    }
   ],
   "source": [
    "# import tensorflow and check out the version\n",
    "import tensorflow\n",
    "from tensorflow import keras\n",
    "print(tensorflow.__version__)"
   ]
  },
  {
   "cell_type": "markdown",
   "metadata": {
    "colab_type": "text",
    "id": "KRlKnj8cyMbs"
   },
   "source": [
    "## 欄位說明\n",
    "- RowNumber: 列編號\n",
    "- CustomerId: 客戶 id\n",
    "- Surname: 姓\n",
    "- CreditScore: 信用評級\n",
    "- Geography: 所在區域\n",
    "- Gender: 性別\n",
    "- Age: 年齡\n",
    "- Tenure: 成為客戶的時間\n",
    "- Balance: 存款數\n",
    "- NumOfProducts: 使用本銀行多少的產品\n",
    "- HasCrCard: 是否有信用卡\n",
    "- IsActiveMember: 是否為活躍用戶\n",
    "- EstimatedSalary: 預估薪水\n",
    "- Exited: 是否會不用本銀行的服務\n",
    "\n",
    "Exited 欄位是我們要預估的結果。也就是說，我們要處理的是「分類」問題。\n",
    "\n",
    "將客戶分成兩類：會離開，以及不會離開。"
   ]
  },
  {
   "cell_type": "code",
   "execution_count": 21,
   "metadata": {
    "colab": {
     "base_uri": "https://localhost:8080/",
     "height": 359
    },
    "colab_type": "code",
    "executionInfo": {
     "elapsed": 631,
     "status": "ok",
     "timestamp": 1581581400493,
     "user": {
      "displayName": "鍾毓驥",
      "photoUrl": "",
      "userId": "16037378104666941717"
     },
     "user_tz": -480
    },
    "id": "ePzIqtJMmoaI",
    "outputId": "6081b985-1000-4aa6-c6a4-1ea9a332e044"
   },
   "outputs": [
    {
     "data": {
      "text/html": [
       "<div>\n",
       "<style scoped>\n",
       "    .dataframe tbody tr th:only-of-type {\n",
       "        vertical-align: middle;\n",
       "    }\n",
       "\n",
       "    .dataframe tbody tr th {\n",
       "        vertical-align: top;\n",
       "    }\n",
       "\n",
       "    .dataframe thead th {\n",
       "        text-align: right;\n",
       "    }\n",
       "</style>\n",
       "<table border=\"1\" class=\"dataframe\">\n",
       "  <thead>\n",
       "    <tr style=\"text-align: right;\">\n",
       "      <th></th>\n",
       "      <th>RowNumber</th>\n",
       "      <th>CustomerId</th>\n",
       "      <th>Surname</th>\n",
       "      <th>CreditScore</th>\n",
       "      <th>Geography</th>\n",
       "      <th>Gender</th>\n",
       "      <th>Age</th>\n",
       "      <th>Tenure</th>\n",
       "      <th>Balance</th>\n",
       "      <th>NumOfProducts</th>\n",
       "      <th>HasCrCard</th>\n",
       "      <th>IsActiveMember</th>\n",
       "      <th>EstimatedSalary</th>\n",
       "      <th>Exited</th>\n",
       "    </tr>\n",
       "  </thead>\n",
       "  <tbody>\n",
       "    <tr>\n",
       "      <th>0</th>\n",
       "      <td>1</td>\n",
       "      <td>15634602</td>\n",
       "      <td>Hargrave</td>\n",
       "      <td>619</td>\n",
       "      <td>France</td>\n",
       "      <td>Female</td>\n",
       "      <td>42</td>\n",
       "      <td>2</td>\n",
       "      <td>0.00</td>\n",
       "      <td>1</td>\n",
       "      <td>1</td>\n",
       "      <td>1</td>\n",
       "      <td>101348.88</td>\n",
       "      <td>1</td>\n",
       "    </tr>\n",
       "    <tr>\n",
       "      <th>1</th>\n",
       "      <td>2</td>\n",
       "      <td>15647311</td>\n",
       "      <td>Hill</td>\n",
       "      <td>608</td>\n",
       "      <td>Spain</td>\n",
       "      <td>Female</td>\n",
       "      <td>41</td>\n",
       "      <td>1</td>\n",
       "      <td>83807.86</td>\n",
       "      <td>1</td>\n",
       "      <td>0</td>\n",
       "      <td>1</td>\n",
       "      <td>112542.58</td>\n",
       "      <td>0</td>\n",
       "    </tr>\n",
       "    <tr>\n",
       "      <th>2</th>\n",
       "      <td>3</td>\n",
       "      <td>15619304</td>\n",
       "      <td>Onio</td>\n",
       "      <td>502</td>\n",
       "      <td>France</td>\n",
       "      <td>Female</td>\n",
       "      <td>42</td>\n",
       "      <td>8</td>\n",
       "      <td>159660.80</td>\n",
       "      <td>3</td>\n",
       "      <td>1</td>\n",
       "      <td>0</td>\n",
       "      <td>113931.57</td>\n",
       "      <td>1</td>\n",
       "    </tr>\n",
       "    <tr>\n",
       "      <th>3</th>\n",
       "      <td>4</td>\n",
       "      <td>15701354</td>\n",
       "      <td>Boni</td>\n",
       "      <td>699</td>\n",
       "      <td>France</td>\n",
       "      <td>Female</td>\n",
       "      <td>39</td>\n",
       "      <td>1</td>\n",
       "      <td>0.00</td>\n",
       "      <td>2</td>\n",
       "      <td>0</td>\n",
       "      <td>0</td>\n",
       "      <td>93826.63</td>\n",
       "      <td>0</td>\n",
       "    </tr>\n",
       "    <tr>\n",
       "      <th>4</th>\n",
       "      <td>5</td>\n",
       "      <td>15737888</td>\n",
       "      <td>Mitchell</td>\n",
       "      <td>850</td>\n",
       "      <td>Spain</td>\n",
       "      <td>Female</td>\n",
       "      <td>43</td>\n",
       "      <td>2</td>\n",
       "      <td>125510.82</td>\n",
       "      <td>1</td>\n",
       "      <td>1</td>\n",
       "      <td>1</td>\n",
       "      <td>79084.10</td>\n",
       "      <td>0</td>\n",
       "    </tr>\n",
       "    <tr>\n",
       "      <th>5</th>\n",
       "      <td>6</td>\n",
       "      <td>15574012</td>\n",
       "      <td>Chu</td>\n",
       "      <td>645</td>\n",
       "      <td>Spain</td>\n",
       "      <td>Male</td>\n",
       "      <td>44</td>\n",
       "      <td>8</td>\n",
       "      <td>113755.78</td>\n",
       "      <td>2</td>\n",
       "      <td>1</td>\n",
       "      <td>0</td>\n",
       "      <td>149756.71</td>\n",
       "      <td>1</td>\n",
       "    </tr>\n",
       "    <tr>\n",
       "      <th>6</th>\n",
       "      <td>7</td>\n",
       "      <td>15592531</td>\n",
       "      <td>Bartlett</td>\n",
       "      <td>822</td>\n",
       "      <td>France</td>\n",
       "      <td>Male</td>\n",
       "      <td>50</td>\n",
       "      <td>7</td>\n",
       "      <td>0.00</td>\n",
       "      <td>2</td>\n",
       "      <td>1</td>\n",
       "      <td>1</td>\n",
       "      <td>10062.80</td>\n",
       "      <td>0</td>\n",
       "    </tr>\n",
       "    <tr>\n",
       "      <th>7</th>\n",
       "      <td>8</td>\n",
       "      <td>15656148</td>\n",
       "      <td>Obinna</td>\n",
       "      <td>376</td>\n",
       "      <td>Germany</td>\n",
       "      <td>Female</td>\n",
       "      <td>29</td>\n",
       "      <td>4</td>\n",
       "      <td>115046.74</td>\n",
       "      <td>4</td>\n",
       "      <td>1</td>\n",
       "      <td>0</td>\n",
       "      <td>119346.88</td>\n",
       "      <td>1</td>\n",
       "    </tr>\n",
       "    <tr>\n",
       "      <th>8</th>\n",
       "      <td>9</td>\n",
       "      <td>15792365</td>\n",
       "      <td>He</td>\n",
       "      <td>501</td>\n",
       "      <td>France</td>\n",
       "      <td>Male</td>\n",
       "      <td>44</td>\n",
       "      <td>4</td>\n",
       "      <td>142051.07</td>\n",
       "      <td>2</td>\n",
       "      <td>0</td>\n",
       "      <td>1</td>\n",
       "      <td>74940.50</td>\n",
       "      <td>0</td>\n",
       "    </tr>\n",
       "    <tr>\n",
       "      <th>9</th>\n",
       "      <td>10</td>\n",
       "      <td>15592389</td>\n",
       "      <td>H?</td>\n",
       "      <td>684</td>\n",
       "      <td>France</td>\n",
       "      <td>Male</td>\n",
       "      <td>27</td>\n",
       "      <td>2</td>\n",
       "      <td>134603.88</td>\n",
       "      <td>1</td>\n",
       "      <td>1</td>\n",
       "      <td>1</td>\n",
       "      <td>71725.73</td>\n",
       "      <td>0</td>\n",
       "    </tr>\n",
       "  </tbody>\n",
       "</table>\n",
       "</div>"
      ],
      "text/plain": [
       "   RowNumber  CustomerId   Surname  ...  IsActiveMember EstimatedSalary Exited\n",
       "0          1    15634602  Hargrave  ...               1       101348.88      1\n",
       "1          2    15647311      Hill  ...               1       112542.58      0\n",
       "2          3    15619304      Onio  ...               0       113931.57      1\n",
       "3          4    15701354      Boni  ...               0        93826.63      0\n",
       "4          5    15737888  Mitchell  ...               1        79084.10      0\n",
       "5          6    15574012       Chu  ...               0       149756.71      1\n",
       "6          7    15592531  Bartlett  ...               1        10062.80      0\n",
       "7          8    15656148    Obinna  ...               0       119346.88      1\n",
       "8          9    15792365        He  ...               1        74940.50      0\n",
       "9         10    15592389        H?  ...               1        71725.73      0\n",
       "\n",
       "[10 rows x 14 columns]"
      ]
     },
     "execution_count": 21,
     "metadata": {
      "tags": []
     },
     "output_type": "execute_result"
    }
   ],
   "source": [
    "import pandas as pd\n",
    "df = pd.read_csv(\"Churn_Modelling.csv\")\n",
    "df.head(10)"
   ]
  },
  {
   "cell_type": "code",
   "execution_count": 13,
   "metadata": {
    "colab": {
     "base_uri": "https://localhost:8080/",
     "height": 34
    },
    "colab_type": "code",
    "executionInfo": {
     "elapsed": 661,
     "status": "ok",
     "timestamp": 1581581116600,
     "user": {
      "displayName": "鍾毓驥",
      "photoUrl": "",
      "userId": "16037378104666941717"
     },
     "user_tz": -480
    },
    "id": "4JjLkfQSxPBM",
    "outputId": "90b3b8a1-73ae-4c08-9388-351c46994b5d"
   },
   "outputs": [
    {
     "data": {
      "text/plain": [
       "(10000, 14)"
      ]
     },
     "execution_count": 13,
     "metadata": {
      "tags": []
     },
     "output_type": "execute_result"
    }
   ],
   "source": [
    "df.shape"
   ]
  },
  {
   "cell_type": "code",
   "execution_count": 22,
   "metadata": {
    "colab": {
     "base_uri": "https://localhost:8080/",
     "height": 85
    },
    "colab_type": "code",
    "executionInfo": {
     "elapsed": 724,
     "status": "ok",
     "timestamp": 1581581404851,
     "user": {
      "displayName": "鍾毓驥",
      "photoUrl": "",
      "userId": "16037378104666941717"
     },
     "user_tz": -480
    },
    "id": "9qbsmCxYxVIT",
    "outputId": "6d18aeb9-21a1-4968-be2d-f52a9bb35876"
   },
   "outputs": [
    {
     "data": {
      "text/plain": [
       "Index(['RowNumber', 'CustomerId', 'Surname', 'CreditScore', 'Geography',\n",
       "       'Gender', 'Age', 'Tenure', 'Balance', 'NumOfProducts', 'HasCrCard',\n",
       "       'IsActiveMember', 'EstimatedSalary', 'Exited'],\n",
       "      dtype='object')"
      ]
     },
     "execution_count": 22,
     "metadata": {
      "tags": []
     },
     "output_type": "execute_result"
    }
   ],
   "source": [
    "df.columns"
   ]
  },
  {
   "cell_type": "code",
   "execution_count": 0,
   "metadata": {
    "colab": {},
    "colab_type": "code",
    "id": "xVs0Cli0yXJj"
   },
   "outputs": [],
   "source": [
    "x = df[['CreditScore', 'Geography',\n",
    "       'Gender', 'Age', 'Tenure', 'Balance', 'NumOfProducts', 'HasCrCard',\n",
    "       'IsActiveMember', 'EstimatedSalary']]\n",
    "y = df[['Exited']]"
   ]
  },
  {
   "cell_type": "code",
   "execution_count": 24,
   "metadata": {
    "colab": {
     "base_uri": "https://localhost:8080/",
     "height": 359
    },
    "colab_type": "code",
    "executionInfo": {
     "elapsed": 652,
     "status": "ok",
     "timestamp": 1581581410259,
     "user": {
      "displayName": "鍾毓驥",
      "photoUrl": "",
      "userId": "16037378104666941717"
     },
     "user_tz": -480
    },
    "id": "-E6Q6Hxbf4X8",
    "outputId": "10d649c4-9d41-4f19-e219-c6fbda839dff"
   },
   "outputs": [
    {
     "data": {
      "text/html": [
       "<div>\n",
       "<style scoped>\n",
       "    .dataframe tbody tr th:only-of-type {\n",
       "        vertical-align: middle;\n",
       "    }\n",
       "\n",
       "    .dataframe tbody tr th {\n",
       "        vertical-align: top;\n",
       "    }\n",
       "\n",
       "    .dataframe thead th {\n",
       "        text-align: right;\n",
       "    }\n",
       "</style>\n",
       "<table border=\"1\" class=\"dataframe\">\n",
       "  <thead>\n",
       "    <tr style=\"text-align: right;\">\n",
       "      <th></th>\n",
       "      <th>CreditScore</th>\n",
       "      <th>Geography</th>\n",
       "      <th>Gender</th>\n",
       "      <th>Age</th>\n",
       "      <th>Tenure</th>\n",
       "      <th>Balance</th>\n",
       "      <th>NumOfProducts</th>\n",
       "      <th>HasCrCard</th>\n",
       "      <th>IsActiveMember</th>\n",
       "    </tr>\n",
       "  </thead>\n",
       "  <tbody>\n",
       "    <tr>\n",
       "      <th>0</th>\n",
       "      <td>619</td>\n",
       "      <td>France</td>\n",
       "      <td>Female</td>\n",
       "      <td>42</td>\n",
       "      <td>2</td>\n",
       "      <td>0.00</td>\n",
       "      <td>1</td>\n",
       "      <td>1</td>\n",
       "      <td>1</td>\n",
       "    </tr>\n",
       "    <tr>\n",
       "      <th>1</th>\n",
       "      <td>608</td>\n",
       "      <td>Spain</td>\n",
       "      <td>Female</td>\n",
       "      <td>41</td>\n",
       "      <td>1</td>\n",
       "      <td>83807.86</td>\n",
       "      <td>1</td>\n",
       "      <td>0</td>\n",
       "      <td>1</td>\n",
       "    </tr>\n",
       "    <tr>\n",
       "      <th>2</th>\n",
       "      <td>502</td>\n",
       "      <td>France</td>\n",
       "      <td>Female</td>\n",
       "      <td>42</td>\n",
       "      <td>8</td>\n",
       "      <td>159660.80</td>\n",
       "      <td>3</td>\n",
       "      <td>1</td>\n",
       "      <td>0</td>\n",
       "    </tr>\n",
       "    <tr>\n",
       "      <th>3</th>\n",
       "      <td>699</td>\n",
       "      <td>France</td>\n",
       "      <td>Female</td>\n",
       "      <td>39</td>\n",
       "      <td>1</td>\n",
       "      <td>0.00</td>\n",
       "      <td>2</td>\n",
       "      <td>0</td>\n",
       "      <td>0</td>\n",
       "    </tr>\n",
       "    <tr>\n",
       "      <th>4</th>\n",
       "      <td>850</td>\n",
       "      <td>Spain</td>\n",
       "      <td>Female</td>\n",
       "      <td>43</td>\n",
       "      <td>2</td>\n",
       "      <td>125510.82</td>\n",
       "      <td>1</td>\n",
       "      <td>1</td>\n",
       "      <td>1</td>\n",
       "    </tr>\n",
       "    <tr>\n",
       "      <th>5</th>\n",
       "      <td>645</td>\n",
       "      <td>Spain</td>\n",
       "      <td>Male</td>\n",
       "      <td>44</td>\n",
       "      <td>8</td>\n",
       "      <td>113755.78</td>\n",
       "      <td>2</td>\n",
       "      <td>1</td>\n",
       "      <td>0</td>\n",
       "    </tr>\n",
       "    <tr>\n",
       "      <th>6</th>\n",
       "      <td>822</td>\n",
       "      <td>France</td>\n",
       "      <td>Male</td>\n",
       "      <td>50</td>\n",
       "      <td>7</td>\n",
       "      <td>0.00</td>\n",
       "      <td>2</td>\n",
       "      <td>1</td>\n",
       "      <td>1</td>\n",
       "    </tr>\n",
       "    <tr>\n",
       "      <th>7</th>\n",
       "      <td>376</td>\n",
       "      <td>Germany</td>\n",
       "      <td>Female</td>\n",
       "      <td>29</td>\n",
       "      <td>4</td>\n",
       "      <td>115046.74</td>\n",
       "      <td>4</td>\n",
       "      <td>1</td>\n",
       "      <td>0</td>\n",
       "    </tr>\n",
       "    <tr>\n",
       "      <th>8</th>\n",
       "      <td>501</td>\n",
       "      <td>France</td>\n",
       "      <td>Male</td>\n",
       "      <td>44</td>\n",
       "      <td>4</td>\n",
       "      <td>142051.07</td>\n",
       "      <td>2</td>\n",
       "      <td>0</td>\n",
       "      <td>1</td>\n",
       "    </tr>\n",
       "    <tr>\n",
       "      <th>9</th>\n",
       "      <td>684</td>\n",
       "      <td>France</td>\n",
       "      <td>Male</td>\n",
       "      <td>27</td>\n",
       "      <td>2</td>\n",
       "      <td>134603.88</td>\n",
       "      <td>1</td>\n",
       "      <td>1</td>\n",
       "      <td>1</td>\n",
       "    </tr>\n",
       "  </tbody>\n",
       "</table>\n",
       "</div>"
      ],
      "text/plain": [
       "   CreditScore Geography  Gender  ...  NumOfProducts  HasCrCard  IsActiveMember\n",
       "0          619    France  Female  ...              1          1               1\n",
       "1          608     Spain  Female  ...              1          0               1\n",
       "2          502    France  Female  ...              3          1               0\n",
       "3          699    France  Female  ...              2          0               0\n",
       "4          850     Spain  Female  ...              1          1               1\n",
       "5          645     Spain    Male  ...              2          1               0\n",
       "6          822    France    Male  ...              2          1               1\n",
       "7          376   Germany  Female  ...              4          1               0\n",
       "8          501    France    Male  ...              2          0               1\n",
       "9          684    France    Male  ...              1          1               1\n",
       "\n",
       "[10 rows x 9 columns]"
      ]
     },
     "execution_count": 24,
     "metadata": {
      "tags": []
     },
     "output_type": "execute_result"
    }
   ],
   "source": [
    "#如果嫌 x = df[['CreditScore', 'Geography',\n",
    "#       'Gender', 'Age', 'Tenure', 'Balance', 'NumOfProducts', 'HasCrCard',\n",
    "#       'IsActiveMember', 'EstimatedSalary']]\n",
    "#這樣寫太長的話，底下是另一種寫法\n",
    "#3 是 CreditScore 的索引值， 12 是 EstimatedSalary 的索引值。所以 3:12 就是取\n",
    "#CreditScore 到 EstimatedSalary 間所有的欄位值 \n",
    "x1 = df.iloc[:, 3:12]\n",
    "x1.head(10)"
   ]
  },
  {
   "cell_type": "code",
   "execution_count": 25,
   "metadata": {
    "colab": {
     "base_uri": "https://localhost:8080/",
     "height": 359
    },
    "colab_type": "code",
    "executionInfo": {
     "elapsed": 720,
     "status": "ok",
     "timestamp": 1581581412513,
     "user": {
      "displayName": "鍾毓驥",
      "photoUrl": "",
      "userId": "16037378104666941717"
     },
     "user_tz": -480
    },
    "id": "vmWIpiBF0FeZ",
    "outputId": "ea4f3dab-b4b6-46c9-ada3-ee3d8fa9eb46"
   },
   "outputs": [
    {
     "data": {
      "text/html": [
       "<div>\n",
       "<style scoped>\n",
       "    .dataframe tbody tr th:only-of-type {\n",
       "        vertical-align: middle;\n",
       "    }\n",
       "\n",
       "    .dataframe tbody tr th {\n",
       "        vertical-align: top;\n",
       "    }\n",
       "\n",
       "    .dataframe thead th {\n",
       "        text-align: right;\n",
       "    }\n",
       "</style>\n",
       "<table border=\"1\" class=\"dataframe\">\n",
       "  <thead>\n",
       "    <tr style=\"text-align: right;\">\n",
       "      <th></th>\n",
       "      <th>CreditScore</th>\n",
       "      <th>Geography</th>\n",
       "      <th>Gender</th>\n",
       "      <th>Age</th>\n",
       "      <th>Tenure</th>\n",
       "      <th>Balance</th>\n",
       "      <th>NumOfProducts</th>\n",
       "      <th>HasCrCard</th>\n",
       "      <th>IsActiveMember</th>\n",
       "      <th>EstimatedSalary</th>\n",
       "    </tr>\n",
       "  </thead>\n",
       "  <tbody>\n",
       "    <tr>\n",
       "      <th>0</th>\n",
       "      <td>619</td>\n",
       "      <td>France</td>\n",
       "      <td>Female</td>\n",
       "      <td>42</td>\n",
       "      <td>2</td>\n",
       "      <td>0.00</td>\n",
       "      <td>1</td>\n",
       "      <td>1</td>\n",
       "      <td>1</td>\n",
       "      <td>101348.88</td>\n",
       "    </tr>\n",
       "    <tr>\n",
       "      <th>1</th>\n",
       "      <td>608</td>\n",
       "      <td>Spain</td>\n",
       "      <td>Female</td>\n",
       "      <td>41</td>\n",
       "      <td>1</td>\n",
       "      <td>83807.86</td>\n",
       "      <td>1</td>\n",
       "      <td>0</td>\n",
       "      <td>1</td>\n",
       "      <td>112542.58</td>\n",
       "    </tr>\n",
       "    <tr>\n",
       "      <th>2</th>\n",
       "      <td>502</td>\n",
       "      <td>France</td>\n",
       "      <td>Female</td>\n",
       "      <td>42</td>\n",
       "      <td>8</td>\n",
       "      <td>159660.80</td>\n",
       "      <td>3</td>\n",
       "      <td>1</td>\n",
       "      <td>0</td>\n",
       "      <td>113931.57</td>\n",
       "    </tr>\n",
       "    <tr>\n",
       "      <th>3</th>\n",
       "      <td>699</td>\n",
       "      <td>France</td>\n",
       "      <td>Female</td>\n",
       "      <td>39</td>\n",
       "      <td>1</td>\n",
       "      <td>0.00</td>\n",
       "      <td>2</td>\n",
       "      <td>0</td>\n",
       "      <td>0</td>\n",
       "      <td>93826.63</td>\n",
       "    </tr>\n",
       "    <tr>\n",
       "      <th>4</th>\n",
       "      <td>850</td>\n",
       "      <td>Spain</td>\n",
       "      <td>Female</td>\n",
       "      <td>43</td>\n",
       "      <td>2</td>\n",
       "      <td>125510.82</td>\n",
       "      <td>1</td>\n",
       "      <td>1</td>\n",
       "      <td>1</td>\n",
       "      <td>79084.10</td>\n",
       "    </tr>\n",
       "    <tr>\n",
       "      <th>5</th>\n",
       "      <td>645</td>\n",
       "      <td>Spain</td>\n",
       "      <td>Male</td>\n",
       "      <td>44</td>\n",
       "      <td>8</td>\n",
       "      <td>113755.78</td>\n",
       "      <td>2</td>\n",
       "      <td>1</td>\n",
       "      <td>0</td>\n",
       "      <td>149756.71</td>\n",
       "    </tr>\n",
       "    <tr>\n",
       "      <th>6</th>\n",
       "      <td>822</td>\n",
       "      <td>France</td>\n",
       "      <td>Male</td>\n",
       "      <td>50</td>\n",
       "      <td>7</td>\n",
       "      <td>0.00</td>\n",
       "      <td>2</td>\n",
       "      <td>1</td>\n",
       "      <td>1</td>\n",
       "      <td>10062.80</td>\n",
       "    </tr>\n",
       "    <tr>\n",
       "      <th>7</th>\n",
       "      <td>376</td>\n",
       "      <td>Germany</td>\n",
       "      <td>Female</td>\n",
       "      <td>29</td>\n",
       "      <td>4</td>\n",
       "      <td>115046.74</td>\n",
       "      <td>4</td>\n",
       "      <td>1</td>\n",
       "      <td>0</td>\n",
       "      <td>119346.88</td>\n",
       "    </tr>\n",
       "    <tr>\n",
       "      <th>8</th>\n",
       "      <td>501</td>\n",
       "      <td>France</td>\n",
       "      <td>Male</td>\n",
       "      <td>44</td>\n",
       "      <td>4</td>\n",
       "      <td>142051.07</td>\n",
       "      <td>2</td>\n",
       "      <td>0</td>\n",
       "      <td>1</td>\n",
       "      <td>74940.50</td>\n",
       "    </tr>\n",
       "    <tr>\n",
       "      <th>9</th>\n",
       "      <td>684</td>\n",
       "      <td>France</td>\n",
       "      <td>Male</td>\n",
       "      <td>27</td>\n",
       "      <td>2</td>\n",
       "      <td>134603.88</td>\n",
       "      <td>1</td>\n",
       "      <td>1</td>\n",
       "      <td>1</td>\n",
       "      <td>71725.73</td>\n",
       "    </tr>\n",
       "  </tbody>\n",
       "</table>\n",
       "</div>"
      ],
      "text/plain": [
       "   CreditScore Geography  Gender  ...  HasCrCard  IsActiveMember  EstimatedSalary\n",
       "0          619    France  Female  ...          1               1        101348.88\n",
       "1          608     Spain  Female  ...          0               1        112542.58\n",
       "2          502    France  Female  ...          1               0        113931.57\n",
       "3          699    France  Female  ...          0               0         93826.63\n",
       "4          850     Spain  Female  ...          1               1         79084.10\n",
       "5          645     Spain    Male  ...          1               0        149756.71\n",
       "6          822    France    Male  ...          1               1         10062.80\n",
       "7          376   Germany  Female  ...          1               0        119346.88\n",
       "8          501    France    Male  ...          0               1         74940.50\n",
       "9          684    France    Male  ...          1               1         71725.73\n",
       "\n",
       "[10 rows x 10 columns]"
      ]
     },
     "execution_count": 25,
     "metadata": {
      "tags": []
     },
     "output_type": "execute_result"
    }
   ],
   "source": [
    "x.head(10)"
   ]
  },
  {
   "cell_type": "markdown",
   "metadata": {
    "colab_type": "text",
    "id": "T8CqumFnj8Ge"
   },
   "source": [
    "## 替 Geography\t以及 Gender 編碼\n",
    "\n",
    "Geography 以及 Gender 都是類別變數，將之轉換為數值型態。\n",
    "\n",
    "之後進行 one-hot encoding\n"
   ]
  },
  {
   "cell_type": "code",
   "execution_count": 26,
   "metadata": {
    "colab": {
     "base_uri": "https://localhost:8080/",
     "height": 461
    },
    "colab_type": "code",
    "executionInfo": {
     "elapsed": 687,
     "status": "ok",
     "timestamp": 1581581417516,
     "user": {
      "displayName": "鍾毓驥",
      "photoUrl": "",
      "userId": "16037378104666941717"
     },
     "user_tz": -480
    },
    "id": "uC4PqpWhkNGV",
    "outputId": "6286b122-a6b8-4548-e86f-8db4f88f6fd6"
   },
   "outputs": [
    {
     "name": "stderr",
     "output_type": "stream",
     "text": [
      "/usr/local/lib/python3.6/dist-packages/pandas/core/generic.py:5208: SettingWithCopyWarning: \n",
      "A value is trying to be set on a copy of a slice from a DataFrame.\n",
      "Try using .loc[row_indexer,col_indexer] = value instead\n",
      "\n",
      "See the caveats in the documentation: http://pandas.pydata.org/pandas-docs/stable/user_guide/indexing.html#returning-a-view-versus-a-copy\n",
      "  self[name] = value\n"
     ]
    },
    {
     "data": {
      "text/html": [
       "<div>\n",
       "<style scoped>\n",
       "    .dataframe tbody tr th:only-of-type {\n",
       "        vertical-align: middle;\n",
       "    }\n",
       "\n",
       "    .dataframe tbody tr th {\n",
       "        vertical-align: top;\n",
       "    }\n",
       "\n",
       "    .dataframe thead th {\n",
       "        text-align: right;\n",
       "    }\n",
       "</style>\n",
       "<table border=\"1\" class=\"dataframe\">\n",
       "  <thead>\n",
       "    <tr style=\"text-align: right;\">\n",
       "      <th></th>\n",
       "      <th>CreditScore</th>\n",
       "      <th>Geography</th>\n",
       "      <th>Gender</th>\n",
       "      <th>Age</th>\n",
       "      <th>Tenure</th>\n",
       "      <th>Balance</th>\n",
       "      <th>NumOfProducts</th>\n",
       "      <th>HasCrCard</th>\n",
       "      <th>IsActiveMember</th>\n",
       "      <th>EstimatedSalary</th>\n",
       "    </tr>\n",
       "  </thead>\n",
       "  <tbody>\n",
       "    <tr>\n",
       "      <th>0</th>\n",
       "      <td>619</td>\n",
       "      <td>0</td>\n",
       "      <td>Female</td>\n",
       "      <td>42</td>\n",
       "      <td>2</td>\n",
       "      <td>0.00</td>\n",
       "      <td>1</td>\n",
       "      <td>1</td>\n",
       "      <td>1</td>\n",
       "      <td>101348.88</td>\n",
       "    </tr>\n",
       "    <tr>\n",
       "      <th>1</th>\n",
       "      <td>608</td>\n",
       "      <td>2</td>\n",
       "      <td>Female</td>\n",
       "      <td>41</td>\n",
       "      <td>1</td>\n",
       "      <td>83807.86</td>\n",
       "      <td>1</td>\n",
       "      <td>0</td>\n",
       "      <td>1</td>\n",
       "      <td>112542.58</td>\n",
       "    </tr>\n",
       "    <tr>\n",
       "      <th>2</th>\n",
       "      <td>502</td>\n",
       "      <td>0</td>\n",
       "      <td>Female</td>\n",
       "      <td>42</td>\n",
       "      <td>8</td>\n",
       "      <td>159660.80</td>\n",
       "      <td>3</td>\n",
       "      <td>1</td>\n",
       "      <td>0</td>\n",
       "      <td>113931.57</td>\n",
       "    </tr>\n",
       "    <tr>\n",
       "      <th>3</th>\n",
       "      <td>699</td>\n",
       "      <td>0</td>\n",
       "      <td>Female</td>\n",
       "      <td>39</td>\n",
       "      <td>1</td>\n",
       "      <td>0.00</td>\n",
       "      <td>2</td>\n",
       "      <td>0</td>\n",
       "      <td>0</td>\n",
       "      <td>93826.63</td>\n",
       "    </tr>\n",
       "    <tr>\n",
       "      <th>4</th>\n",
       "      <td>850</td>\n",
       "      <td>2</td>\n",
       "      <td>Female</td>\n",
       "      <td>43</td>\n",
       "      <td>2</td>\n",
       "      <td>125510.82</td>\n",
       "      <td>1</td>\n",
       "      <td>1</td>\n",
       "      <td>1</td>\n",
       "      <td>79084.10</td>\n",
       "    </tr>\n",
       "    <tr>\n",
       "      <th>5</th>\n",
       "      <td>645</td>\n",
       "      <td>2</td>\n",
       "      <td>Male</td>\n",
       "      <td>44</td>\n",
       "      <td>8</td>\n",
       "      <td>113755.78</td>\n",
       "      <td>2</td>\n",
       "      <td>1</td>\n",
       "      <td>0</td>\n",
       "      <td>149756.71</td>\n",
       "    </tr>\n",
       "    <tr>\n",
       "      <th>6</th>\n",
       "      <td>822</td>\n",
       "      <td>0</td>\n",
       "      <td>Male</td>\n",
       "      <td>50</td>\n",
       "      <td>7</td>\n",
       "      <td>0.00</td>\n",
       "      <td>2</td>\n",
       "      <td>1</td>\n",
       "      <td>1</td>\n",
       "      <td>10062.80</td>\n",
       "    </tr>\n",
       "    <tr>\n",
       "      <th>7</th>\n",
       "      <td>376</td>\n",
       "      <td>1</td>\n",
       "      <td>Female</td>\n",
       "      <td>29</td>\n",
       "      <td>4</td>\n",
       "      <td>115046.74</td>\n",
       "      <td>4</td>\n",
       "      <td>1</td>\n",
       "      <td>0</td>\n",
       "      <td>119346.88</td>\n",
       "    </tr>\n",
       "    <tr>\n",
       "      <th>8</th>\n",
       "      <td>501</td>\n",
       "      <td>0</td>\n",
       "      <td>Male</td>\n",
       "      <td>44</td>\n",
       "      <td>4</td>\n",
       "      <td>142051.07</td>\n",
       "      <td>2</td>\n",
       "      <td>0</td>\n",
       "      <td>1</td>\n",
       "      <td>74940.50</td>\n",
       "    </tr>\n",
       "    <tr>\n",
       "      <th>9</th>\n",
       "      <td>684</td>\n",
       "      <td>0</td>\n",
       "      <td>Male</td>\n",
       "      <td>27</td>\n",
       "      <td>2</td>\n",
       "      <td>134603.88</td>\n",
       "      <td>1</td>\n",
       "      <td>1</td>\n",
       "      <td>1</td>\n",
       "      <td>71725.73</td>\n",
       "    </tr>\n",
       "  </tbody>\n",
       "</table>\n",
       "</div>"
      ],
      "text/plain": [
       "   CreditScore  Geography  Gender  ...  HasCrCard  IsActiveMember  EstimatedSalary\n",
       "0          619          0  Female  ...          1               1        101348.88\n",
       "1          608          2  Female  ...          0               1        112542.58\n",
       "2          502          0  Female  ...          1               0        113931.57\n",
       "3          699          0  Female  ...          0               0         93826.63\n",
       "4          850          2  Female  ...          1               1         79084.10\n",
       "5          645          2    Male  ...          1               0        149756.71\n",
       "6          822          0    Male  ...          1               1         10062.80\n",
       "7          376          1  Female  ...          1               0        119346.88\n",
       "8          501          0    Male  ...          0               1         74940.50\n",
       "9          684          0    Male  ...          1               1         71725.73\n",
       "\n",
       "[10 rows x 10 columns]"
      ]
     },
     "execution_count": 26,
     "metadata": {
      "tags": []
     },
     "output_type": "execute_result"
    }
   ],
   "source": [
    "from sklearn.preprocessing import LabelEncoder\n",
    "lc = LabelEncoder() # 建構一個 labelEncoder 工廠\n",
    "x.Geography = lc.fit_transform(x.Geography)\n",
    "x.head(10)"
   ]
  },
  {
   "cell_type": "code",
   "execution_count": 30,
   "metadata": {
    "colab": {
     "base_uri": "https://localhost:8080/",
     "height": 461
    },
    "colab_type": "code",
    "executionInfo": {
     "elapsed": 700,
     "status": "ok",
     "timestamp": 1581581540641,
     "user": {
      "displayName": "鍾毓驥",
      "photoUrl": "",
      "userId": "16037378104666941717"
     },
     "user_tz": -480
    },
    "id": "zUmFnfjelTX0",
    "outputId": "4d6126e3-40fe-4ad9-832e-c4f6f358242d"
   },
   "outputs": [
    {
     "name": "stderr",
     "output_type": "stream",
     "text": [
      "/usr/local/lib/python3.6/dist-packages/pandas/core/generic.py:5208: SettingWithCopyWarning: \n",
      "A value is trying to be set on a copy of a slice from a DataFrame.\n",
      "Try using .loc[row_indexer,col_indexer] = value instead\n",
      "\n",
      "See the caveats in the documentation: http://pandas.pydata.org/pandas-docs/stable/user_guide/indexing.html#returning-a-view-versus-a-copy\n",
      "  self[name] = value\n"
     ]
    },
    {
     "data": {
      "text/html": [
       "<div>\n",
       "<style scoped>\n",
       "    .dataframe tbody tr th:only-of-type {\n",
       "        vertical-align: middle;\n",
       "    }\n",
       "\n",
       "    .dataframe tbody tr th {\n",
       "        vertical-align: top;\n",
       "    }\n",
       "\n",
       "    .dataframe thead th {\n",
       "        text-align: right;\n",
       "    }\n",
       "</style>\n",
       "<table border=\"1\" class=\"dataframe\">\n",
       "  <thead>\n",
       "    <tr style=\"text-align: right;\">\n",
       "      <th></th>\n",
       "      <th>CreditScore</th>\n",
       "      <th>Geography</th>\n",
       "      <th>Gender</th>\n",
       "      <th>Age</th>\n",
       "      <th>Tenure</th>\n",
       "      <th>Balance</th>\n",
       "      <th>NumOfProducts</th>\n",
       "      <th>HasCrCard</th>\n",
       "      <th>IsActiveMember</th>\n",
       "      <th>EstimatedSalary</th>\n",
       "    </tr>\n",
       "  </thead>\n",
       "  <tbody>\n",
       "    <tr>\n",
       "      <th>0</th>\n",
       "      <td>619</td>\n",
       "      <td>0</td>\n",
       "      <td>0</td>\n",
       "      <td>42</td>\n",
       "      <td>2</td>\n",
       "      <td>0.00</td>\n",
       "      <td>1</td>\n",
       "      <td>1</td>\n",
       "      <td>1</td>\n",
       "      <td>101348.88</td>\n",
       "    </tr>\n",
       "    <tr>\n",
       "      <th>1</th>\n",
       "      <td>608</td>\n",
       "      <td>2</td>\n",
       "      <td>0</td>\n",
       "      <td>41</td>\n",
       "      <td>1</td>\n",
       "      <td>83807.86</td>\n",
       "      <td>1</td>\n",
       "      <td>0</td>\n",
       "      <td>1</td>\n",
       "      <td>112542.58</td>\n",
       "    </tr>\n",
       "    <tr>\n",
       "      <th>2</th>\n",
       "      <td>502</td>\n",
       "      <td>0</td>\n",
       "      <td>0</td>\n",
       "      <td>42</td>\n",
       "      <td>8</td>\n",
       "      <td>159660.80</td>\n",
       "      <td>3</td>\n",
       "      <td>1</td>\n",
       "      <td>0</td>\n",
       "      <td>113931.57</td>\n",
       "    </tr>\n",
       "    <tr>\n",
       "      <th>3</th>\n",
       "      <td>699</td>\n",
       "      <td>0</td>\n",
       "      <td>0</td>\n",
       "      <td>39</td>\n",
       "      <td>1</td>\n",
       "      <td>0.00</td>\n",
       "      <td>2</td>\n",
       "      <td>0</td>\n",
       "      <td>0</td>\n",
       "      <td>93826.63</td>\n",
       "    </tr>\n",
       "    <tr>\n",
       "      <th>4</th>\n",
       "      <td>850</td>\n",
       "      <td>2</td>\n",
       "      <td>0</td>\n",
       "      <td>43</td>\n",
       "      <td>2</td>\n",
       "      <td>125510.82</td>\n",
       "      <td>1</td>\n",
       "      <td>1</td>\n",
       "      <td>1</td>\n",
       "      <td>79084.10</td>\n",
       "    </tr>\n",
       "    <tr>\n",
       "      <th>5</th>\n",
       "      <td>645</td>\n",
       "      <td>2</td>\n",
       "      <td>1</td>\n",
       "      <td>44</td>\n",
       "      <td>8</td>\n",
       "      <td>113755.78</td>\n",
       "      <td>2</td>\n",
       "      <td>1</td>\n",
       "      <td>0</td>\n",
       "      <td>149756.71</td>\n",
       "    </tr>\n",
       "    <tr>\n",
       "      <th>6</th>\n",
       "      <td>822</td>\n",
       "      <td>0</td>\n",
       "      <td>1</td>\n",
       "      <td>50</td>\n",
       "      <td>7</td>\n",
       "      <td>0.00</td>\n",
       "      <td>2</td>\n",
       "      <td>1</td>\n",
       "      <td>1</td>\n",
       "      <td>10062.80</td>\n",
       "    </tr>\n",
       "    <tr>\n",
       "      <th>7</th>\n",
       "      <td>376</td>\n",
       "      <td>1</td>\n",
       "      <td>0</td>\n",
       "      <td>29</td>\n",
       "      <td>4</td>\n",
       "      <td>115046.74</td>\n",
       "      <td>4</td>\n",
       "      <td>1</td>\n",
       "      <td>0</td>\n",
       "      <td>119346.88</td>\n",
       "    </tr>\n",
       "    <tr>\n",
       "      <th>8</th>\n",
       "      <td>501</td>\n",
       "      <td>0</td>\n",
       "      <td>1</td>\n",
       "      <td>44</td>\n",
       "      <td>4</td>\n",
       "      <td>142051.07</td>\n",
       "      <td>2</td>\n",
       "      <td>0</td>\n",
       "      <td>1</td>\n",
       "      <td>74940.50</td>\n",
       "    </tr>\n",
       "    <tr>\n",
       "      <th>9</th>\n",
       "      <td>684</td>\n",
       "      <td>0</td>\n",
       "      <td>1</td>\n",
       "      <td>27</td>\n",
       "      <td>2</td>\n",
       "      <td>134603.88</td>\n",
       "      <td>1</td>\n",
       "      <td>1</td>\n",
       "      <td>1</td>\n",
       "      <td>71725.73</td>\n",
       "    </tr>\n",
       "  </tbody>\n",
       "</table>\n",
       "</div>"
      ],
      "text/plain": [
       "   CreditScore  Geography  Gender  ...  HasCrCard  IsActiveMember  EstimatedSalary\n",
       "0          619          0       0  ...          1               1        101348.88\n",
       "1          608          2       0  ...          0               1        112542.58\n",
       "2          502          0       0  ...          1               0        113931.57\n",
       "3          699          0       0  ...          0               0         93826.63\n",
       "4          850          2       0  ...          1               1         79084.10\n",
       "5          645          2       1  ...          1               0        149756.71\n",
       "6          822          0       1  ...          1               1         10062.80\n",
       "7          376          1       0  ...          1               0        119346.88\n",
       "8          501          0       1  ...          0               1         74940.50\n",
       "9          684          0       1  ...          1               1         71725.73\n",
       "\n",
       "[10 rows x 10 columns]"
      ]
     },
     "execution_count": 30,
     "metadata": {
      "tags": []
     },
     "output_type": "execute_result"
    }
   ],
   "source": [
    "x.Gender = lc.fit_transform(x.Gender)\n",
    "x.head(10)"
   ]
  },
  {
   "cell_type": "code",
   "execution_count": 31,
   "metadata": {
    "colab": {
     "base_uri": "https://localhost:8080/",
     "height": 204
    },
    "colab_type": "code",
    "executionInfo": {
     "elapsed": 705,
     "status": "ok",
     "timestamp": 1581581562488,
     "user": {
      "displayName": "鍾毓驥",
      "photoUrl": "",
      "userId": "16037378104666941717"
     },
     "user_tz": -480
    },
    "id": "7ZlCQu7Olfsm",
    "outputId": "0fd51903-df4b-46c4-c4db-c4b92a87dc9e"
   },
   "outputs": [
    {
     "data": {
      "text/html": [
       "<div>\n",
       "<style scoped>\n",
       "    .dataframe tbody tr th:only-of-type {\n",
       "        vertical-align: middle;\n",
       "    }\n",
       "\n",
       "    .dataframe tbody tr th {\n",
       "        vertical-align: top;\n",
       "    }\n",
       "\n",
       "    .dataframe thead th {\n",
       "        text-align: right;\n",
       "    }\n",
       "</style>\n",
       "<table border=\"1\" class=\"dataframe\">\n",
       "  <thead>\n",
       "    <tr style=\"text-align: right;\">\n",
       "      <th></th>\n",
       "      <th>CreditScore</th>\n",
       "      <th>Gender</th>\n",
       "      <th>Age</th>\n",
       "      <th>Tenure</th>\n",
       "      <th>Balance</th>\n",
       "      <th>NumOfProducts</th>\n",
       "      <th>HasCrCard</th>\n",
       "      <th>IsActiveMember</th>\n",
       "      <th>EstimatedSalary</th>\n",
       "      <th>Geo_1</th>\n",
       "      <th>Geo_2</th>\n",
       "    </tr>\n",
       "  </thead>\n",
       "  <tbody>\n",
       "    <tr>\n",
       "      <th>0</th>\n",
       "      <td>619</td>\n",
       "      <td>0</td>\n",
       "      <td>42</td>\n",
       "      <td>2</td>\n",
       "      <td>0.00</td>\n",
       "      <td>1</td>\n",
       "      <td>1</td>\n",
       "      <td>1</td>\n",
       "      <td>101348.88</td>\n",
       "      <td>0</td>\n",
       "      <td>0</td>\n",
       "    </tr>\n",
       "    <tr>\n",
       "      <th>1</th>\n",
       "      <td>608</td>\n",
       "      <td>0</td>\n",
       "      <td>41</td>\n",
       "      <td>1</td>\n",
       "      <td>83807.86</td>\n",
       "      <td>1</td>\n",
       "      <td>0</td>\n",
       "      <td>1</td>\n",
       "      <td>112542.58</td>\n",
       "      <td>0</td>\n",
       "      <td>1</td>\n",
       "    </tr>\n",
       "    <tr>\n",
       "      <th>2</th>\n",
       "      <td>502</td>\n",
       "      <td>0</td>\n",
       "      <td>42</td>\n",
       "      <td>8</td>\n",
       "      <td>159660.80</td>\n",
       "      <td>3</td>\n",
       "      <td>1</td>\n",
       "      <td>0</td>\n",
       "      <td>113931.57</td>\n",
       "      <td>0</td>\n",
       "      <td>0</td>\n",
       "    </tr>\n",
       "    <tr>\n",
       "      <th>3</th>\n",
       "      <td>699</td>\n",
       "      <td>0</td>\n",
       "      <td>39</td>\n",
       "      <td>1</td>\n",
       "      <td>0.00</td>\n",
       "      <td>2</td>\n",
       "      <td>0</td>\n",
       "      <td>0</td>\n",
       "      <td>93826.63</td>\n",
       "      <td>0</td>\n",
       "      <td>0</td>\n",
       "    </tr>\n",
       "    <tr>\n",
       "      <th>4</th>\n",
       "      <td>850</td>\n",
       "      <td>0</td>\n",
       "      <td>43</td>\n",
       "      <td>2</td>\n",
       "      <td>125510.82</td>\n",
       "      <td>1</td>\n",
       "      <td>1</td>\n",
       "      <td>1</td>\n",
       "      <td>79084.10</td>\n",
       "      <td>0</td>\n",
       "      <td>1</td>\n",
       "    </tr>\n",
       "  </tbody>\n",
       "</table>\n",
       "</div>"
      ],
      "text/plain": [
       "   CreditScore  Gender  Age  ...  EstimatedSalary  Geo_1  Geo_2\n",
       "0          619       0   42  ...        101348.88      0      0\n",
       "1          608       0   41  ...        112542.58      0      1\n",
       "2          502       0   42  ...        113931.57      0      0\n",
       "3          699       0   39  ...         93826.63      0      0\n",
       "4          850       0   43  ...         79084.10      0      1\n",
       "\n",
       "[5 rows x 11 columns]"
      ]
     },
     "execution_count": 31,
     "metadata": {
      "tags": []
     },
     "output_type": "execute_result"
    }
   ],
   "source": [
    "#替 Geography 做 One-hot encoding\n",
    "x = pd.get_dummies(x, prefix='Geo', prefix_sep='_', columns=['Geography'], drop_first=True)\n",
    "x.head()"
   ]
  },
  {
   "cell_type": "code",
   "execution_count": 0,
   "metadata": {
    "colab": {},
    "colab_type": "code",
    "id": "A3SyXoVa0Hha"
   },
   "outputs": [],
   "source": [
    "from sklearn.model_selection import train_test_split\n",
    "x_train, x_test, y_train, y_test = train_test_split(x, y, test_size = 0.3, random_state = 0)"
   ]
  },
  {
   "cell_type": "code",
   "execution_count": 0,
   "metadata": {
    "colab": {},
    "colab_type": "code",
    "id": "cxWOQjD2nDCG"
   },
   "outputs": [],
   "source": [
    "from sklearn.preprocessing import StandardScaler\n",
    "sc = StandardScaler()\n",
    "x_train = sc.fit_transform(x_train)\n",
    "x_test = sc.transform(x_test)"
   ]
  },
  {
   "cell_type": "code",
   "execution_count": 35,
   "metadata": {
    "colab": {
     "base_uri": "https://localhost:8080/",
     "height": 34
    },
    "colab_type": "code",
    "executionInfo": {
     "elapsed": 648,
     "status": "ok",
     "timestamp": 1581581821891,
     "user": {
      "displayName": "鍾毓驥",
      "photoUrl": "",
      "userId": "16037378104666941717"
     },
     "user_tz": -480
    },
    "id": "1j9nSYo5nztT",
    "outputId": "aa554090-7b59-47c8-f2e6-b3c4975cb027"
   },
   "outputs": [
    {
     "data": {
      "text/plain": [
       "(7000, 11)"
      ]
     },
     "execution_count": 35,
     "metadata": {
      "tags": []
     },
     "output_type": "execute_result"
    }
   ],
   "source": [
    "x_train.shape"
   ]
  },
  {
   "cell_type": "code",
   "execution_count": 50,
   "metadata": {
    "colab": {
     "base_uri": "https://localhost:8080/",
     "height": 255
    },
    "colab_type": "code",
    "executionInfo": {
     "elapsed": 672,
     "status": "ok",
     "timestamp": 1581582483334,
     "user": {
      "displayName": "鍾毓驥",
      "photoUrl": "",
      "userId": "16037378104666941717"
     },
     "user_tz": -480
    },
    "id": "Zi0BPA-1nIXW",
    "outputId": "b949482a-ba21-4fb6-83d6-1db7fdf94017"
   },
   "outputs": [
    {
     "name": "stdout",
     "output_type": "stream",
     "text": [
      "Model: \"sequential_4\"\n",
      "_________________________________________________________________\n",
      "Layer (type)                 Output Shape              Param #   \n",
      "=================================================================\n",
      "dense_9 (Dense)              (None, 6)                 72        \n",
      "_________________________________________________________________\n",
      "dense_10 (Dense)             (None, 6)                 42        \n",
      "_________________________________________________________________\n",
      "dense_11 (Dense)             (None, 1)                 7         \n",
      "=================================================================\n",
      "Total params: 121\n",
      "Trainable params: 121\n",
      "Non-trainable params: 0\n",
      "_________________________________________________________________\n"
     ]
    }
   ],
   "source": [
    "model = keras.models.Sequential()\n",
    "#first input layer\n",
    "model.add(keras.layers.Dense(6, input_dim=11, activation='relu'))\n",
    "#second hidden layer\n",
    "model.add(keras.layers.Dense(6, activation='relu'))\n",
    "#output layer\n",
    "model.add(keras.layers.Dense(1, activation='sigmoid'))\n",
    "model.summary()"
   ]
  },
  {
   "cell_type": "code",
   "execution_count": 51,
   "metadata": {
    "colab": {
     "base_uri": "https://localhost:8080/",
     "height": 68
    },
    "colab_type": "code",
    "executionInfo": {
     "elapsed": 641,
     "status": "ok",
     "timestamp": 1581582488969,
     "user": {
      "displayName": "鍾毓驥",
      "photoUrl": "",
      "userId": "16037378104666941717"
     },
     "user_tz": -480
    },
    "id": "JVtNs81wo1H_",
    "outputId": "29c24774-5915-4394-dcd1-4535a412f5df"
   },
   "outputs": [
    {
     "data": {
      "text/plain": [
       "[<tensorflow.python.keras.layers.core.Dense at 0x7fb938524080>,\n",
       " <tensorflow.python.keras.layers.core.Dense at 0x7fb938524208>,\n",
       " <tensorflow.python.keras.layers.core.Dense at 0x7fb9385245c0>]"
      ]
     },
     "execution_count": 51,
     "metadata": {
      "tags": []
     },
     "output_type": "execute_result"
    }
   ],
   "source": [
    "model.layers"
   ]
  },
  {
   "cell_type": "code",
   "execution_count": 0,
   "metadata": {
    "colab": {},
    "colab_type": "code",
    "id": "uSA6FkDFo8fO"
   },
   "outputs": [],
   "source": [
    "model.compile(loss='binary_crossentropy', optimizer='sgd', metrics=['accuracy'])"
   ]
  },
  {
   "cell_type": "code",
   "execution_count": 61,
   "metadata": {
    "colab": {
     "base_uri": "https://localhost:8080/",
     "height": 1000
    },
    "colab_type": "code",
    "executionInfo": {
     "elapsed": 34120,
     "status": "ok",
     "timestamp": 1581583094184,
     "user": {
      "displayName": "鍾毓驥",
      "photoUrl": "",
      "userId": "16037378104666941717"
     },
     "user_tz": -480
    },
    "id": "cb_5KZ6jpMcO",
    "outputId": "571ee20e-5e8a-4b63-a439-77be435aaf8b"
   },
   "outputs": [
    {
     "name": "stdout",
     "output_type": "stream",
     "text": [
      "Train on 7000 samples\n",
      "Epoch 1/100\n",
      "7000/7000 [==============================] - 0s 49us/sample - loss: 0.3419 - accuracy: 0.8627\n",
      "Epoch 2/100\n",
      "7000/7000 [==============================] - 0s 48us/sample - loss: 0.3416 - accuracy: 0.8639\n",
      "Epoch 3/100\n",
      "7000/7000 [==============================] - 0s 46us/sample - loss: 0.3416 - accuracy: 0.8640\n",
      "Epoch 4/100\n",
      "7000/7000 [==============================] - 0s 48us/sample - loss: 0.3414 - accuracy: 0.8630\n",
      "Epoch 5/100\n",
      "7000/7000 [==============================] - 0s 47us/sample - loss: 0.3412 - accuracy: 0.8641\n",
      "Epoch 6/100\n",
      "7000/7000 [==============================] - 0s 46us/sample - loss: 0.3410 - accuracy: 0.8643\n",
      "Epoch 7/100\n",
      "7000/7000 [==============================] - 0s 46us/sample - loss: 0.3409 - accuracy: 0.8636\n",
      "Epoch 8/100\n",
      "7000/7000 [==============================] - 0s 46us/sample - loss: 0.3408 - accuracy: 0.8637\n",
      "Epoch 9/100\n",
      "7000/7000 [==============================] - 0s 45us/sample - loss: 0.3406 - accuracy: 0.8644\n",
      "Epoch 10/100\n",
      "7000/7000 [==============================] - 0s 49us/sample - loss: 0.3405 - accuracy: 0.8640\n",
      "Epoch 11/100\n",
      "7000/7000 [==============================] - 0s 48us/sample - loss: 0.3403 - accuracy: 0.8640\n",
      "Epoch 12/100\n",
      "7000/7000 [==============================] - 0s 50us/sample - loss: 0.3401 - accuracy: 0.8641\n",
      "Epoch 13/100\n",
      "7000/7000 [==============================] - 0s 53us/sample - loss: 0.3399 - accuracy: 0.8634\n",
      "Epoch 14/100\n",
      "7000/7000 [==============================] - 0s 49us/sample - loss: 0.3399 - accuracy: 0.8649\n",
      "Epoch 15/100\n",
      "7000/7000 [==============================] - 0s 52us/sample - loss: 0.3397 - accuracy: 0.8647\n",
      "Epoch 16/100\n",
      "7000/7000 [==============================] - 0s 54us/sample - loss: 0.3396 - accuracy: 0.8649\n",
      "Epoch 17/100\n",
      "7000/7000 [==============================] - 0s 53us/sample - loss: 0.3394 - accuracy: 0.8647\n",
      "Epoch 18/100\n",
      "7000/7000 [==============================] - 0s 51us/sample - loss: 0.3393 - accuracy: 0.8646\n",
      "Epoch 19/100\n",
      "7000/7000 [==============================] - 0s 52us/sample - loss: 0.3392 - accuracy: 0.8650\n",
      "Epoch 20/100\n",
      "7000/7000 [==============================] - 0s 53us/sample - loss: 0.3390 - accuracy: 0.8641\n",
      "Epoch 21/100\n",
      "7000/7000 [==============================] - 0s 54us/sample - loss: 0.3390 - accuracy: 0.8656\n",
      "Epoch 22/100\n",
      "7000/7000 [==============================] - 0s 51us/sample - loss: 0.3388 - accuracy: 0.8644\n",
      "Epoch 23/100\n",
      "7000/7000 [==============================] - 0s 51us/sample - loss: 0.3388 - accuracy: 0.8654\n",
      "Epoch 24/100\n",
      "7000/7000 [==============================] - 0s 52us/sample - loss: 0.3387 - accuracy: 0.8656\n",
      "Epoch 25/100\n",
      "7000/7000 [==============================] - 0s 57us/sample - loss: 0.3385 - accuracy: 0.8651\n",
      "Epoch 26/100\n",
      "7000/7000 [==============================] - 0s 51us/sample - loss: 0.3383 - accuracy: 0.8649\n",
      "Epoch 27/100\n",
      "7000/7000 [==============================] - 0s 47us/sample - loss: 0.3382 - accuracy: 0.8653\n",
      "Epoch 28/100\n",
      "7000/7000 [==============================] - 0s 46us/sample - loss: 0.3382 - accuracy: 0.8656\n",
      "Epoch 29/100\n",
      "7000/7000 [==============================] - 0s 47us/sample - loss: 0.3380 - accuracy: 0.8657\n",
      "Epoch 30/100\n",
      "7000/7000 [==============================] - 0s 46us/sample - loss: 0.3380 - accuracy: 0.8650\n",
      "Epoch 31/100\n",
      "7000/7000 [==============================] - 0s 47us/sample - loss: 0.3378 - accuracy: 0.8659\n",
      "Epoch 32/100\n",
      "7000/7000 [==============================] - 0s 47us/sample - loss: 0.3376 - accuracy: 0.8659\n",
      "Epoch 33/100\n",
      "7000/7000 [==============================] - 0s 46us/sample - loss: 0.3376 - accuracy: 0.8649\n",
      "Epoch 34/100\n",
      "7000/7000 [==============================] - 0s 47us/sample - loss: 0.3374 - accuracy: 0.8657\n",
      "Epoch 35/100\n",
      "7000/7000 [==============================] - 0s 46us/sample - loss: 0.3373 - accuracy: 0.8660\n",
      "Epoch 36/100\n",
      "7000/7000 [==============================] - 0s 47us/sample - loss: 0.3372 - accuracy: 0.8654\n",
      "Epoch 37/100\n",
      "7000/7000 [==============================] - 0s 48us/sample - loss: 0.3371 - accuracy: 0.8646\n",
      "Epoch 38/100\n",
      "7000/7000 [==============================] - 0s 47us/sample - loss: 0.3370 - accuracy: 0.8654\n",
      "Epoch 39/100\n",
      "7000/7000 [==============================] - 0s 48us/sample - loss: 0.3370 - accuracy: 0.8661\n",
      "Epoch 40/100\n",
      "7000/7000 [==============================] - 0s 48us/sample - loss: 0.3368 - accuracy: 0.8656\n",
      "Epoch 41/100\n",
      "7000/7000 [==============================] - 0s 47us/sample - loss: 0.3368 - accuracy: 0.8666\n",
      "Epoch 42/100\n",
      "7000/7000 [==============================] - 0s 47us/sample - loss: 0.3366 - accuracy: 0.8654\n",
      "Epoch 43/100\n",
      "7000/7000 [==============================] - 0s 46us/sample - loss: 0.3364 - accuracy: 0.8653\n",
      "Epoch 44/100\n",
      "7000/7000 [==============================] - 0s 49us/sample - loss: 0.3364 - accuracy: 0.8653\n",
      "Epoch 45/100\n",
      "7000/7000 [==============================] - 0s 47us/sample - loss: 0.3364 - accuracy: 0.8656\n",
      "Epoch 46/100\n",
      "7000/7000 [==============================] - 0s 46us/sample - loss: 0.3362 - accuracy: 0.8664\n",
      "Epoch 47/100\n",
      "7000/7000 [==============================] - 0s 46us/sample - loss: 0.3362 - accuracy: 0.8666\n",
      "Epoch 48/100\n",
      "7000/7000 [==============================] - 0s 46us/sample - loss: 0.3358 - accuracy: 0.8650\n",
      "Epoch 49/100\n",
      "7000/7000 [==============================] - 0s 43us/sample - loss: 0.3355 - accuracy: 0.8653\n",
      "Epoch 50/100\n",
      "7000/7000 [==============================] - 0s 48us/sample - loss: 0.3359 - accuracy: 0.8654\n",
      "Epoch 51/100\n",
      "7000/7000 [==============================] - 0s 47us/sample - loss: 0.3357 - accuracy: 0.8664\n",
      "Epoch 52/100\n",
      "7000/7000 [==============================] - 0s 48us/sample - loss: 0.3354 - accuracy: 0.8653\n",
      "Epoch 53/100\n",
      "7000/7000 [==============================] - 0s 47us/sample - loss: 0.3355 - accuracy: 0.8661\n",
      "Epoch 54/100\n",
      "7000/7000 [==============================] - 0s 48us/sample - loss: 0.3353 - accuracy: 0.8659\n",
      "Epoch 55/100\n",
      "7000/7000 [==============================] - 0s 46us/sample - loss: 0.3352 - accuracy: 0.8656\n",
      "Epoch 56/100\n",
      "7000/7000 [==============================] - 0s 49us/sample - loss: 0.3353 - accuracy: 0.8644\n",
      "Epoch 57/100\n",
      "7000/7000 [==============================] - 0s 47us/sample - loss: 0.3350 - accuracy: 0.8644\n",
      "Epoch 58/100\n",
      "7000/7000 [==============================] - 0s 45us/sample - loss: 0.3351 - accuracy: 0.8653\n",
      "Epoch 59/100\n",
      "7000/7000 [==============================] - 0s 48us/sample - loss: 0.3349 - accuracy: 0.8653\n",
      "Epoch 60/100\n",
      "7000/7000 [==============================] - 0s 47us/sample - loss: 0.3349 - accuracy: 0.8664\n",
      "Epoch 61/100\n",
      "7000/7000 [==============================] - 0s 44us/sample - loss: 0.3347 - accuracy: 0.8650\n",
      "Epoch 62/100\n",
      "7000/7000 [==============================] - 0s 46us/sample - loss: 0.3347 - accuracy: 0.8643\n",
      "Epoch 63/100\n",
      "7000/7000 [==============================] - 0s 46us/sample - loss: 0.3346 - accuracy: 0.8646\n",
      "Epoch 64/100\n",
      "7000/7000 [==============================] - 0s 46us/sample - loss: 0.3345 - accuracy: 0.8650\n",
      "Epoch 65/100\n",
      "7000/7000 [==============================] - 0s 45us/sample - loss: 0.3344 - accuracy: 0.8647\n",
      "Epoch 66/100\n",
      "7000/7000 [==============================] - 0s 45us/sample - loss: 0.3344 - accuracy: 0.8656\n",
      "Epoch 67/100\n",
      "7000/7000 [==============================] - 0s 46us/sample - loss: 0.3342 - accuracy: 0.8656\n",
      "Epoch 68/100\n",
      "7000/7000 [==============================] - 0s 45us/sample - loss: 0.3340 - accuracy: 0.8650\n",
      "Epoch 69/100\n",
      "7000/7000 [==============================] - 0s 47us/sample - loss: 0.3341 - accuracy: 0.8656\n",
      "Epoch 70/100\n",
      "7000/7000 [==============================] - 0s 46us/sample - loss: 0.3337 - accuracy: 0.8654\n",
      "Epoch 71/100\n",
      "7000/7000 [==============================] - 0s 47us/sample - loss: 0.3340 - accuracy: 0.8651\n",
      "Epoch 72/100\n",
      "7000/7000 [==============================] - 0s 46us/sample - loss: 0.3337 - accuracy: 0.8653\n",
      "Epoch 73/100\n",
      "7000/7000 [==============================] - 0s 47us/sample - loss: 0.3337 - accuracy: 0.8659\n",
      "Epoch 74/100\n",
      "7000/7000 [==============================] - 0s 47us/sample - loss: 0.3336 - accuracy: 0.8646\n",
      "Epoch 75/100\n",
      "7000/7000 [==============================] - 0s 46us/sample - loss: 0.3335 - accuracy: 0.8661\n",
      "Epoch 76/100\n",
      "7000/7000 [==============================] - 0s 46us/sample - loss: 0.3333 - accuracy: 0.8659\n",
      "Epoch 77/100\n",
      "7000/7000 [==============================] - 0s 46us/sample - loss: 0.3334 - accuracy: 0.8659\n",
      "Epoch 78/100\n",
      "7000/7000 [==============================] - 0s 48us/sample - loss: 0.3332 - accuracy: 0.8657\n",
      "Epoch 79/100\n",
      "7000/7000 [==============================] - 0s 48us/sample - loss: 0.3330 - accuracy: 0.8659\n",
      "Epoch 80/100\n",
      "7000/7000 [==============================] - 0s 48us/sample - loss: 0.3331 - accuracy: 0.8647\n",
      "Epoch 81/100\n",
      "7000/7000 [==============================] - 0s 46us/sample - loss: 0.3330 - accuracy: 0.8659\n",
      "Epoch 82/100\n",
      "7000/7000 [==============================] - 0s 46us/sample - loss: 0.3330 - accuracy: 0.8651\n",
      "Epoch 83/100\n",
      "7000/7000 [==============================] - 0s 48us/sample - loss: 0.3329 - accuracy: 0.8649\n",
      "Epoch 84/100\n",
      "7000/7000 [==============================] - 0s 48us/sample - loss: 0.3327 - accuracy: 0.8654\n",
      "Epoch 85/100\n",
      "7000/7000 [==============================] - 0s 49us/sample - loss: 0.3328 - accuracy: 0.8664\n",
      "Epoch 86/100\n",
      "7000/7000 [==============================] - 0s 46us/sample - loss: 0.3325 - accuracy: 0.8660\n",
      "Epoch 87/100\n",
      "7000/7000 [==============================] - 0s 49us/sample - loss: 0.3324 - accuracy: 0.8666\n",
      "Epoch 88/100\n",
      "7000/7000 [==============================] - 0s 47us/sample - loss: 0.3325 - accuracy: 0.8659\n",
      "Epoch 89/100\n",
      "7000/7000 [==============================] - 0s 49us/sample - loss: 0.3324 - accuracy: 0.8663\n",
      "Epoch 90/100\n",
      "7000/7000 [==============================] - 0s 48us/sample - loss: 0.3321 - accuracy: 0.8660\n",
      "Epoch 91/100\n",
      "7000/7000 [==============================] - 0s 46us/sample - loss: 0.3323 - accuracy: 0.8660\n",
      "Epoch 92/100\n",
      "7000/7000 [==============================] - 0s 47us/sample - loss: 0.3321 - accuracy: 0.8650\n",
      "Epoch 93/100\n",
      "7000/7000 [==============================] - 0s 46us/sample - loss: 0.3320 - accuracy: 0.8663\n",
      "Epoch 94/100\n",
      "7000/7000 [==============================] - 0s 48us/sample - loss: 0.3320 - accuracy: 0.8654\n",
      "Epoch 95/100\n",
      "7000/7000 [==============================] - 0s 46us/sample - loss: 0.3319 - accuracy: 0.8651\n",
      "Epoch 96/100\n",
      "7000/7000 [==============================] - 0s 44us/sample - loss: 0.3319 - accuracy: 0.8664\n",
      "Epoch 97/100\n",
      "7000/7000 [==============================] - 0s 43us/sample - loss: 0.3319 - accuracy: 0.8660\n",
      "Epoch 98/100\n",
      "7000/7000 [==============================] - 0s 43us/sample - loss: 0.3317 - accuracy: 0.8669\n",
      "Epoch 99/100\n",
      "7000/7000 [==============================] - 0s 48us/sample - loss: 0.3316 - accuracy: 0.8664\n",
      "Epoch 100/100\n",
      "7000/7000 [==============================] - 0s 47us/sample - loss: 0.3314 - accuracy: 0.8663\n"
     ]
    }
   ],
   "source": [
    "history = model.fit(x_train, y_train, epochs=100)"
   ]
  },
  {
   "cell_type": "code",
   "execution_count": 58,
   "metadata": {
    "colab": {
     "base_uri": "https://localhost:8080/",
     "height": 136
    },
    "colab_type": "code",
    "executionInfo": {
     "elapsed": 657,
     "status": "ok",
     "timestamp": 1581582948791,
     "user": {
      "displayName": "鍾毓驥",
      "photoUrl": "",
      "userId": "16037378104666941717"
     },
     "user_tz": -480
    },
    "id": "I0sGJyRepXCf",
    "outputId": "59c14177-7a85-4db3-f762-43b34e9bbc01"
   },
   "outputs": [
    {
     "data": {
      "text/plain": [
       "array([[0.3384137 ],\n",
       "       [0.34767726],\n",
       "       [0.20944875],\n",
       "       ...,\n",
       "       [0.08316356],\n",
       "       [0.08841125],\n",
       "       [0.6579032 ]], dtype=float32)"
      ]
     },
     "execution_count": 58,
     "metadata": {
      "tags": []
     },
     "output_type": "execute_result"
    }
   ],
   "source": [
    "y_pred = model.predict(x_test)\n",
    "y_pred"
   ]
  },
  {
   "cell_type": "code",
   "execution_count": 0,
   "metadata": {
    "colab": {},
    "colab_type": "code",
    "id": "zip8_LrcsQ6G"
   },
   "outputs": [],
   "source": [
    "y_pred = (y_pred > 0.5)"
   ]
  },
  {
   "cell_type": "code",
   "execution_count": 60,
   "metadata": {
    "colab": {
     "base_uri": "https://localhost:8080/",
     "height": 51
    },
    "colab_type": "code",
    "executionInfo": {
     "elapsed": 836,
     "status": "ok",
     "timestamp": 1581582992665,
     "user": {
      "displayName": "鍾毓驥",
      "photoUrl": "",
      "userId": "16037378104666941717"
     },
     "user_tz": -480
    },
    "id": "cLUXioZMr-BE",
    "outputId": "ceb1a93d-bafd-4415-ee11-416be1e630cb"
   },
   "outputs": [
    {
     "data": {
      "text/plain": [
       "array([[2261,  118],\n",
       "       [ 305,  316]])"
      ]
     },
     "execution_count": 60,
     "metadata": {
      "tags": []
     },
     "output_type": "execute_result"
    }
   ],
   "source": [
    "from sklearn.metrics import confusion_matrix\n",
    "cm = confusion_matrix(y_test, y_pred)\n",
    "cm"
   ]
  },
  {
   "cell_type": "code",
   "execution_count": 64,
   "metadata": {
    "colab": {
     "base_uri": "https://localhost:8080/",
     "height": 297
    },
    "colab_type": "code",
    "executionInfo": {
     "elapsed": 671,
     "status": "ok",
     "timestamp": 1581583177304,
     "user": {
      "displayName": "鍾毓驥",
      "photoUrl": "",
      "userId": "16037378104666941717"
     },
     "user_tz": -480
    },
    "id": "qym5WsqusDaO",
    "outputId": "3aa170f8-7c54-4c1c-f5e9-f052e9159bb7"
   },
   "outputs": [
    {
     "data": {
      "text/html": [
       "<div>\n",
       "<style scoped>\n",
       "    .dataframe tbody tr th:only-of-type {\n",
       "        vertical-align: middle;\n",
       "    }\n",
       "\n",
       "    .dataframe tbody tr th {\n",
       "        vertical-align: top;\n",
       "    }\n",
       "\n",
       "    .dataframe thead th {\n",
       "        text-align: right;\n",
       "    }\n",
       "</style>\n",
       "<table border=\"1\" class=\"dataframe\">\n",
       "  <thead>\n",
       "    <tr style=\"text-align: right;\">\n",
       "      <th></th>\n",
       "      <th>loss</th>\n",
       "      <th>accuracy</th>\n",
       "    </tr>\n",
       "  </thead>\n",
       "  <tbody>\n",
       "    <tr>\n",
       "      <th>0</th>\n",
       "      <td>0.341880</td>\n",
       "      <td>0.862714</td>\n",
       "    </tr>\n",
       "    <tr>\n",
       "      <th>1</th>\n",
       "      <td>0.341633</td>\n",
       "      <td>0.863857</td>\n",
       "    </tr>\n",
       "    <tr>\n",
       "      <th>2</th>\n",
       "      <td>0.341580</td>\n",
       "      <td>0.864000</td>\n",
       "    </tr>\n",
       "    <tr>\n",
       "      <th>3</th>\n",
       "      <td>0.341367</td>\n",
       "      <td>0.863000</td>\n",
       "    </tr>\n",
       "    <tr>\n",
       "      <th>4</th>\n",
       "      <td>0.341242</td>\n",
       "      <td>0.864143</td>\n",
       "    </tr>\n",
       "    <tr>\n",
       "      <th>5</th>\n",
       "      <td>0.341028</td>\n",
       "      <td>0.864286</td>\n",
       "    </tr>\n",
       "    <tr>\n",
       "      <th>6</th>\n",
       "      <td>0.340852</td>\n",
       "      <td>0.863571</td>\n",
       "    </tr>\n",
       "    <tr>\n",
       "      <th>7</th>\n",
       "      <td>0.340835</td>\n",
       "      <td>0.863714</td>\n",
       "    </tr>\n",
       "  </tbody>\n",
       "</table>\n",
       "</div>"
      ],
      "text/plain": [
       "       loss  accuracy\n",
       "0  0.341880  0.862714\n",
       "1  0.341633  0.863857\n",
       "2  0.341580  0.864000\n",
       "3  0.341367  0.863000\n",
       "4  0.341242  0.864143\n",
       "5  0.341028  0.864286\n",
       "6  0.340852  0.863571\n",
       "7  0.340835  0.863714"
      ]
     },
     "execution_count": 64,
     "metadata": {
      "tags": []
     },
     "output_type": "execute_result"
    }
   ],
   "source": [
    "dfResult = pd.DataFrame(history.history)\n",
    "dfResult.head(8)"
   ]
  },
  {
   "cell_type": "code",
   "execution_count": 66,
   "metadata": {
    "colab": {
     "base_uri": "https://localhost:8080/",
     "height": 34
    },
    "colab_type": "code",
    "executionInfo": {
     "elapsed": 860,
     "status": "ok",
     "timestamp": 1581583315190,
     "user": {
      "displayName": "鍾毓驥",
      "photoUrl": "",
      "userId": "16037378104666941717"
     },
     "user_tz": -480
    },
    "id": "zNRQQRAdtgkK",
    "outputId": "0313dcf9-d31b-4fd7-c2b3-5ca570a74d33"
   },
   "outputs": [
    {
     "data": {
      "text/plain": [
       "(100, 2)"
      ]
     },
     "execution_count": 66,
     "metadata": {
      "tags": []
     },
     "output_type": "execute_result"
    }
   ],
   "source": [
    "dfResult.shape"
   ]
  },
  {
   "cell_type": "code",
   "execution_count": 74,
   "metadata": {
    "colab": {
     "base_uri": "https://localhost:8080/",
     "height": 266
    },
    "colab_type": "code",
    "executionInfo": {
     "elapsed": 959,
     "status": "ok",
     "timestamp": 1581583670365,
     "user": {
      "displayName": "鍾毓驥",
      "photoUrl": "",
      "userId": "16037378104666941717"
     },
     "user_tz": -480
    },
    "id": "l5L107Ves0WX",
    "outputId": "49b41873-49f2-4b42-efd6-783c2ffa6323"
   },
   "outputs": [
    {
     "data": {
      "image/png": "[encoded data removed]",
      "text/plain": [
       "<Figure size 432x288 with 1 Axes>"
      ]
     },
     "metadata": {
      "tags": []
     },
     "output_type": "display_data"
    }
   ],
   "source": [
    "import seaborn as sns\n",
    "import matplotlib.pyplot as plt\n",
    "\n",
    "ax = sns.lineplot(x=range(1,101), y=dfResult.accuracy)\n"
   ]
  },
  {
   "cell_type": "code",
   "execution_count": 0,
   "metadata": {
    "colab": {},
    "colab_type": "code",
    "id": "irqjUyuQtL5X"
   },
   "outputs": [],
   "source": []
  }
 ],
 "metadata": {
  "colab": {
   "authorship_tag": "ABX9TyPsP4qZ/d23qJu1+0hW7XgX",
   "collapsed_sections": [],
   "name": "DL.DNN_Customer Churn.ipynb",
   "provenance": []
  },
  "kernelspec": {
   "display_name": "Python 3",
   "language": "python",
   "name": "python3"
  },
  "language_info": {
   "codemirror_mode": {
    "name": "ipython",
    "version": 3
   },
   "file_extension": ".py",
   "mimetype": "text/x-python",
   "name": "python",
   "nbconvert_exporter": "python",
   "pygments_lexer": "ipython3",
   "version": "3.7.4"
  }
 },
 "nbformat": 4,
 "nbformat_minor": 1
}